{
  "nbformat": 4,
  "nbformat_minor": 5,
  "metadata": {
    "environment": {
      "name": "common-cpu.m78",
      "type": "gcloud",
      "uri": "gcr.io/deeplearning-platform-release/base-cpu:m78"
    },
    "kernelspec": {
      "display_name": "Python 3",
      "language": "python",
      "name": "python3"
    },
    "language_info": {
      "codemirror_mode": {
        "name": "ipython",
        "version": 3
      },
      "file_extension": ".py",
      "mimetype": "text/x-python",
      "name": "python",
      "nbconvert_exporter": "python",
      "pygments_lexer": "ipython3",
      "version": "3.7.10"
    },
    "colab": {
      "name": "cyclistic.ipynb",
      "provenance": [],
      "collapsed_sections": [
        "FwT43uxln6ME",
        "rTIYBZHyuLdI"
      ]
    }
  },
  "cells": [
    {
      "cell_type": "markdown",
      "metadata": {
        "id": "m2XssKinm-us"
      },
      "source": [
        "# Mount Drive"
      ],
      "id": "m2XssKinm-us"
    },
    {
      "cell_type": "code",
      "metadata": {
        "colab": {
          "base_uri": "https://localhost:8080/"
        },
        "id": "pCFzxXRlfgon",
        "outputId": "9fe7cc3c-ad73-4b78-8e7b-b493eba4f535"
      },
      "source": [
        "from google.colab import drive\n",
        "drive.mount('/content/drive')"
      ],
      "id": "pCFzxXRlfgon",
      "execution_count": 1,
      "outputs": [
        {
          "output_type": "stream",
          "name": "stdout",
          "text": [
            "Mounted at /content/drive\n"
          ]
        }
      ]
    },
    {
      "cell_type": "markdown",
      "metadata": {
        "id": "oLUcU4arnDer"
      },
      "source": [
        "# Install Modules"
      ],
      "id": "oLUcU4arnDer"
    },
    {
      "cell_type": "code",
      "metadata": {
        "colab": {
          "base_uri": "https://localhost:8080/"
        },
        "id": "dEGQKD_9mR-n",
        "outputId": "7a5b87d6-4a7d-4735-d54b-d6678583b77d"
      },
      "source": [
        "!pip install gmplot"
      ],
      "id": "dEGQKD_9mR-n",
      "execution_count": 2,
      "outputs": [
        {
          "output_type": "stream",
          "name": "stdout",
          "text": [
            "Collecting gmplot\n",
            "  Downloading gmplot-1.4.1-py3-none-any.whl (164 kB)\n",
            "\u001b[?25l\r\u001b[K     |██                              | 10 kB 25.0 MB/s eta 0:00:01\r\u001b[K     |████                            | 20 kB 32.7 MB/s eta 0:00:01\r\u001b[K     |██████                          | 30 kB 28.8 MB/s eta 0:00:01\r\u001b[K     |████████                        | 40 kB 21.7 MB/s eta 0:00:01\r\u001b[K     |██████████                      | 51 kB 17.0 MB/s eta 0:00:01\r\u001b[K     |████████████                    | 61 kB 13.9 MB/s eta 0:00:01\r\u001b[K     |██████████████                  | 71 kB 14.1 MB/s eta 0:00:01\r\u001b[K     |████████████████                | 81 kB 15.7 MB/s eta 0:00:01\r\u001b[K     |██████████████████              | 92 kB 15.1 MB/s eta 0:00:01\r\u001b[K     |████████████████████            | 102 kB 12.1 MB/s eta 0:00:01\r\u001b[K     |█████████████████████▉          | 112 kB 12.1 MB/s eta 0:00:01\r\u001b[K     |███████████████████████▉        | 122 kB 12.1 MB/s eta 0:00:01\r\u001b[K     |█████████████████████████▉      | 133 kB 12.1 MB/s eta 0:00:01\r\u001b[K     |███████████████████████████▉    | 143 kB 12.1 MB/s eta 0:00:01\r\u001b[K     |█████████████████████████████▉  | 153 kB 12.1 MB/s eta 0:00:01\r\u001b[K     |███████████████████████████████▉| 163 kB 12.1 MB/s eta 0:00:01\r\u001b[K     |████████████████████████████████| 164 kB 12.1 MB/s \n",
            "\u001b[?25hRequirement already satisfied: requests in /usr/local/lib/python3.7/dist-packages (from gmplot) (2.23.0)\n",
            "Requirement already satisfied: idna<3,>=2.5 in /usr/local/lib/python3.7/dist-packages (from requests->gmplot) (2.10)\n",
            "Requirement already satisfied: certifi>=2017.4.17 in /usr/local/lib/python3.7/dist-packages (from requests->gmplot) (2021.5.30)\n",
            "Requirement already satisfied: urllib3!=1.25.0,!=1.25.1,<1.26,>=1.21.1 in /usr/local/lib/python3.7/dist-packages (from requests->gmplot) (1.24.3)\n",
            "Requirement already satisfied: chardet<4,>=3.0.2 in /usr/local/lib/python3.7/dist-packages (from requests->gmplot) (3.0.4)\n",
            "Installing collected packages: gmplot\n",
            "Successfully installed gmplot-1.4.1\n"
          ]
        }
      ]
    },
    {
      "cell_type": "code",
      "metadata": {
        "colab": {
          "base_uri": "https://localhost:8080/"
        },
        "id": "FPM5FUDZm1G3",
        "outputId": "462e45cb-ca1d-4b3f-ff45-0dc007fca310"
      },
      "source": [
        "!pip install plotly"
      ],
      "id": "FPM5FUDZm1G3",
      "execution_count": 3,
      "outputs": [
        {
          "output_type": "stream",
          "name": "stdout",
          "text": [
            "Requirement already satisfied: plotly in /usr/local/lib/python3.7/dist-packages (4.4.1)\n",
            "Requirement already satisfied: retrying>=1.3.3 in /usr/local/lib/python3.7/dist-packages (from plotly) (1.3.3)\n",
            "Requirement already satisfied: six in /usr/local/lib/python3.7/dist-packages (from plotly) (1.15.0)\n"
          ]
        }
      ]
    },
    {
      "cell_type": "code",
      "metadata": {
        "colab": {
          "base_uri": "https://localhost:8080/"
        },
        "id": "0e777154",
        "outputId": "74d93c11-615e-48c6-dcc5-e000a2ce5742"
      },
      "source": [
        "!pip install plotnine\n",
        "!pip install haversine\n",
        "!pip install geopy\n",
        "!pip install arrow\n",
        "!pip install geopandas"
      ],
      "id": "0e777154",
      "execution_count": 4,
      "outputs": [
        {
          "output_type": "stream",
          "name": "stdout",
          "text": [
            "Requirement already satisfied: plotnine in /usr/local/lib/python3.7/dist-packages (0.6.0)\n",
            "Requirement already satisfied: mizani>=0.6.0 in /usr/local/lib/python3.7/dist-packages (from plotnine) (0.6.0)\n",
            "Requirement already satisfied: matplotlib>=3.1.1 in /usr/local/lib/python3.7/dist-packages (from plotnine) (3.2.2)\n",
            "Requirement already satisfied: statsmodels>=0.9.0 in /usr/local/lib/python3.7/dist-packages (from plotnine) (0.10.2)\n",
            "Requirement already satisfied: numpy>=1.16.0 in /usr/local/lib/python3.7/dist-packages (from plotnine) (1.19.5)\n",
            "Requirement already satisfied: pandas>=0.25.0 in /usr/local/lib/python3.7/dist-packages (from plotnine) (1.1.5)\n",
            "Requirement already satisfied: scipy>=1.2.0 in /usr/local/lib/python3.7/dist-packages (from plotnine) (1.4.1)\n",
            "Requirement already satisfied: descartes>=1.1.0 in /usr/local/lib/python3.7/dist-packages (from plotnine) (1.1.0)\n",
            "Requirement already satisfied: patsy>=0.4.1 in /usr/local/lib/python3.7/dist-packages (from plotnine) (0.5.1)\n",
            "Requirement already satisfied: python-dateutil>=2.1 in /usr/local/lib/python3.7/dist-packages (from matplotlib>=3.1.1->plotnine) (2.8.2)\n",
            "Requirement already satisfied: cycler>=0.10 in /usr/local/lib/python3.7/dist-packages (from matplotlib>=3.1.1->plotnine) (0.10.0)\n",
            "Requirement already satisfied: kiwisolver>=1.0.1 in /usr/local/lib/python3.7/dist-packages (from matplotlib>=3.1.1->plotnine) (1.3.1)\n",
            "Requirement already satisfied: pyparsing!=2.0.4,!=2.1.2,!=2.1.6,>=2.0.1 in /usr/local/lib/python3.7/dist-packages (from matplotlib>=3.1.1->plotnine) (2.4.7)\n",
            "Requirement already satisfied: six in /usr/local/lib/python3.7/dist-packages (from cycler>=0.10->matplotlib>=3.1.1->plotnine) (1.15.0)\n",
            "Requirement already satisfied: palettable in /usr/local/lib/python3.7/dist-packages (from mizani>=0.6.0->plotnine) (3.3.0)\n",
            "Requirement already satisfied: pytz>=2017.2 in /usr/local/lib/python3.7/dist-packages (from pandas>=0.25.0->plotnine) (2018.9)\n",
            "Collecting haversine\n",
            "  Downloading haversine-2.5.1-py2.py3-none-any.whl (6.1 kB)\n",
            "Installing collected packages: haversine\n",
            "Successfully installed haversine-2.5.1\n",
            "Requirement already satisfied: geopy in /usr/local/lib/python3.7/dist-packages (1.17.0)\n",
            "Requirement already satisfied: geographiclib<2,>=1.49 in /usr/local/lib/python3.7/dist-packages (from geopy) (1.52)\n",
            "Collecting arrow\n",
            "  Downloading arrow-1.1.1-py3-none-any.whl (60 kB)\n",
            "\u001b[K     |████████████████████████████████| 60 kB 4.8 MB/s \n",
            "\u001b[?25hRequirement already satisfied: typing-extensions in /usr/local/lib/python3.7/dist-packages (from arrow) (3.7.4.3)\n",
            "Requirement already satisfied: python-dateutil>=2.7.0 in /usr/local/lib/python3.7/dist-packages (from arrow) (2.8.2)\n",
            "Requirement already satisfied: six>=1.5 in /usr/local/lib/python3.7/dist-packages (from python-dateutil>=2.7.0->arrow) (1.15.0)\n",
            "Installing collected packages: arrow\n",
            "Successfully installed arrow-1.1.1\n",
            "Collecting geopandas\n",
            "  Downloading geopandas-0.9.0-py2.py3-none-any.whl (994 kB)\n",
            "\u001b[K     |████████████████████████████████| 994 kB 12.3 MB/s \n",
            "\u001b[?25hRequirement already satisfied: pandas>=0.24.0 in /usr/local/lib/python3.7/dist-packages (from geopandas) (1.1.5)\n",
            "Requirement already satisfied: shapely>=1.6 in /usr/local/lib/python3.7/dist-packages (from geopandas) (1.7.1)\n",
            "Collecting pyproj>=2.2.0\n",
            "  Downloading pyproj-3.2.0-cp37-cp37m-manylinux_2_24_x86_64.whl (6.3 MB)\n",
            "\u001b[K     |████████████████████████████████| 6.3 MB 84.1 MB/s \n",
            "\u001b[?25hCollecting fiona>=1.8\n",
            "  Downloading Fiona-1.8.20-cp37-cp37m-manylinux1_x86_64.whl (15.4 MB)\n",
            "\u001b[K     |████████████████████████████████| 15.4 MB 36 kB/s \n",
            "\u001b[?25hCollecting cligj>=0.5\n",
            "  Downloading cligj-0.7.2-py3-none-any.whl (7.1 kB)\n",
            "Requirement already satisfied: click>=4.0 in /usr/local/lib/python3.7/dist-packages (from fiona>=1.8->geopandas) (7.1.2)\n",
            "Collecting munch\n",
            "  Downloading munch-2.5.0-py2.py3-none-any.whl (10 kB)\n",
            "Collecting click-plugins>=1.0\n",
            "  Downloading click_plugins-1.1.1-py2.py3-none-any.whl (7.5 kB)\n",
            "Requirement already satisfied: setuptools in /usr/local/lib/python3.7/dist-packages (from fiona>=1.8->geopandas) (57.4.0)\n",
            "Requirement already satisfied: six>=1.7 in /usr/local/lib/python3.7/dist-packages (from fiona>=1.8->geopandas) (1.15.0)\n",
            "Requirement already satisfied: attrs>=17 in /usr/local/lib/python3.7/dist-packages (from fiona>=1.8->geopandas) (21.2.0)\n",
            "Requirement already satisfied: certifi in /usr/local/lib/python3.7/dist-packages (from fiona>=1.8->geopandas) (2021.5.30)\n",
            "Requirement already satisfied: pytz>=2017.2 in /usr/local/lib/python3.7/dist-packages (from pandas>=0.24.0->geopandas) (2018.9)\n",
            "Requirement already satisfied: numpy>=1.15.4 in /usr/local/lib/python3.7/dist-packages (from pandas>=0.24.0->geopandas) (1.19.5)\n",
            "Requirement already satisfied: python-dateutil>=2.7.3 in /usr/local/lib/python3.7/dist-packages (from pandas>=0.24.0->geopandas) (2.8.2)\n",
            "Installing collected packages: munch, cligj, click-plugins, pyproj, fiona, geopandas\n",
            "Successfully installed click-plugins-1.1.1 cligj-0.7.2 fiona-1.8.20 geopandas-0.9.0 munch-2.5.0 pyproj-3.2.0\n"
          ]
        }
      ]
    },
    {
      "cell_type": "code",
      "metadata": {
        "colab": {
          "base_uri": "https://localhost:8080/"
        },
        "id": "XzuRpf_XHlEN",
        "outputId": "a7e913b4-d10b-4dc1-a2fd-bb76c8b6bb81"
      },
      "source": [
        "\n",
        "!pip install pygeocoder"
      ],
      "id": "XzuRpf_XHlEN",
      "execution_count": 5,
      "outputs": [
        {
          "output_type": "stream",
          "name": "stdout",
          "text": [
            "Collecting pygeocoder\n",
            "  Downloading pygeocoder-1.2.5.tar.gz (8.1 kB)\n",
            "Requirement already satisfied: requests>=1.0 in /usr/local/lib/python3.7/dist-packages (from pygeocoder) (2.23.0)\n",
            "Requirement already satisfied: certifi>=2017.4.17 in /usr/local/lib/python3.7/dist-packages (from requests>=1.0->pygeocoder) (2021.5.30)\n",
            "Requirement already satisfied: idna<3,>=2.5 in /usr/local/lib/python3.7/dist-packages (from requests>=1.0->pygeocoder) (2.10)\n",
            "Requirement already satisfied: urllib3!=1.25.0,!=1.25.1,<1.26,>=1.21.1 in /usr/local/lib/python3.7/dist-packages (from requests>=1.0->pygeocoder) (1.24.3)\n",
            "Requirement already satisfied: chardet<4,>=3.0.2 in /usr/local/lib/python3.7/dist-packages (from requests>=1.0->pygeocoder) (3.0.4)\n",
            "Building wheels for collected packages: pygeocoder\n",
            "  Building wheel for pygeocoder (setup.py) ... \u001b[?25l\u001b[?25hdone\n",
            "  Created wheel for pygeocoder: filename=pygeocoder-1.2.5-py3-none-any.whl size=8911 sha256=47f3aa49b0702b072ea39a557b2575bcfa38202adcf64678d3063429906cfede\n",
            "  Stored in directory: /root/.cache/pip/wheels/fd/77/97/9c0c6cd57eed0daa759d2ad98217602333225936236862528c\n",
            "Successfully built pygeocoder\n",
            "Installing collected packages: pygeocoder\n",
            "Successfully installed pygeocoder-1.2.5\n"
          ]
        }
      ]
    },
    {
      "cell_type": "code",
      "metadata": {
        "colab": {
          "base_uri": "https://localhost:8080/"
        },
        "id": "JE1BnI1iPQ4Y",
        "outputId": "47968f12-f2ce-4b33-95f5-2478e06d56b9"
      },
      "source": [
        "!pip install gcmap"
      ],
      "id": "JE1BnI1iPQ4Y",
      "execution_count": 6,
      "outputs": [
        {
          "output_type": "stream",
          "name": "stdout",
          "text": [
            "Collecting gcmap\n",
            "  Downloading gcmap-0.0.6.tar.gz (6.0 kB)\n",
            "Collecting aggdraw<2,>=1.2\n",
            "  Downloading aggdraw-1.3.12-cp37-cp37m-manylinux2010_x86_64.whl (795 kB)\n",
            "\u001b[K     |████████████████████████████████| 795 kB 15.0 MB/s \n",
            "\u001b[?25hRequirement already satisfied: numpy>=1.7.1 in /usr/local/lib/python3.7/dist-packages (from gcmap) (1.19.5)\n",
            "Requirement already satisfied: Pillow>=2.0.0 in /usr/local/lib/python3.7/dist-packages (from gcmap) (7.1.2)\n",
            "Requirement already satisfied: pyproj>=1.9.3 in /usr/local/lib/python3.7/dist-packages (from gcmap) (3.2.0)\n",
            "Requirement already satisfied: certifi in /usr/local/lib/python3.7/dist-packages (from pyproj>=1.9.3->gcmap) (2021.5.30)\n",
            "Building wheels for collected packages: gcmap\n",
            "  Building wheel for gcmap (setup.py) ... \u001b[?25l\u001b[?25hdone\n",
            "  Created wheel for gcmap: filename=gcmap-0.0.6-py3-none-any.whl size=4730 sha256=66ade3d98c15366873e50afd5a408b84f76e0c50f3cd8ee808069b0138fdd2b9\n",
            "  Stored in directory: /root/.cache/pip/wheels/c7/31/e3/ccbcddf1823f81f4cc9353b9d2c2a95c0071b5e2092eb53d87\n",
            "Successfully built gcmap\n",
            "Installing collected packages: aggdraw, gcmap\n",
            "Successfully installed aggdraw-1.3.12 gcmap-0.0.6\n"
          ]
        }
      ]
    },
    {
      "cell_type": "markdown",
      "metadata": {
        "id": "D-Yz_0QnnJoY"
      },
      "source": [
        "# Imports"
      ],
      "id": "D-Yz_0QnnJoY"
    },
    {
      "cell_type": "code",
      "metadata": {
        "id": "58aeeb06"
      },
      "source": [
        "import numpy as np\n",
        "import pandas as pd\n",
        "import datetime\n",
        "from geopy.distance import geodesic\n",
        "from sklearn.neighbors import DistanceMetric\n",
        "from math import radians\n",
        "from haversine import Unit\n",
        "import haversine as hs\n",
        "import seaborn as sns\n",
        "import math\n",
        "import matplotlib.pyplot as plt\n",
        "import geopandas as gpd\n",
        "import descartes\n",
        "from shapely.geometry import Point, Polygon\n",
        "%matplotlib inline\n",
        "from pygeocoder import Geocoder\n",
        "import folium\n",
        "from IPython.display import display\n",
        "from gcmap import GCMapper, Gradient"
      ],
      "id": "58aeeb06",
      "execution_count": 7,
      "outputs": []
    },
    {
      "cell_type": "markdown",
      "metadata": {
        "id": "Z1OZU1XpnOx_"
      },
      "source": [
        "# Input Data"
      ],
      "id": "Z1OZU1XpnOx_"
    },
    {
      "cell_type": "code",
      "metadata": {
        "id": "f3c6455b"
      },
      "source": [
        "april_20 = pd.read_csv('/content/drive/MyDrive/Colab Notebooks/Cyclistic/Data/202004-divvy-tripdata.csv')\n",
        "may_20 = pd.read_csv('/content/drive/MyDrive/Colab Notebooks/Cyclistic/Data/202005-divvy-tripdata.csv')\n",
        "june_20 = pd.read_csv('/content/drive/MyDrive/Colab Notebooks/Cyclistic/Data/202006-divvy-tripdata.csv')\n",
        "july_20 = pd.read_csv('/content/drive/MyDrive/Colab Notebooks/Cyclistic/Data/202007-divvy-tripdata.csv')\n",
        "aug_20 = pd.read_csv('/content/drive/MyDrive/Colab Notebooks/Cyclistic/Data/202008-divvy-tripdata.csv')\n",
        "sept_20 = pd.read_csv('/content/drive/MyDrive/Colab Notebooks/Cyclistic/Data/202009-divvy-tripdata.csv')\n",
        "oct_20 = pd.read_csv('/content/drive/MyDrive/Colab Notebooks/Cyclistic/Data/202010-divvy-tripdata.csv')\n",
        "nov_20 = pd.read_csv('/content/drive/MyDrive/Colab Notebooks/Cyclistic/Data/202011-divvy-tripdata.csv')\n",
        "dec_20 = pd.read_csv('/content/drive/MyDrive/Colab Notebooks/Cyclistic/Data/202012-divvy-tripdata.csv')\n",
        "jan_21 = pd.read_csv('/content/drive/MyDrive/Colab Notebooks/Cyclistic/Data/202101-divvy-tripdata.csv')\n",
        "feb_21 = pd.read_csv('/content/drive/MyDrive/Colab Notebooks/Cyclistic/Data/202102-divvy-tripdata.csv')\n",
        "mar_21 = pd.read_csv('/content/drive/MyDrive/Colab Notebooks/Cyclistic/Data/202103-divvy-tripdata.csv')"
      ],
      "id": "f3c6455b",
      "execution_count": 8,
      "outputs": []
    },
    {
      "cell_type": "markdown",
      "metadata": {
        "id": "e43ANKS2nUkJ"
      },
      "source": [
        "# Combine input data files"
      ],
      "id": "e43ANKS2nUkJ"
    },
    {
      "cell_type": "code",
      "metadata": {
        "id": "a5274aa9"
      },
      "source": [
        "tripdata_withDoubles = pd.concat([april_20,may_20,june_20,july_20,aug_20,sept_20,oct_20,nov_20,\n",
        "                                  dec_20,jan_21,feb_21,mar_21],axis = 0) "
      ],
      "id": "a5274aa9",
      "execution_count": 9,
      "outputs": []
    },
    {
      "cell_type": "code",
      "metadata": {
        "id": "a3ee294e"
      },
      "source": [
        "tripdata_withDoubles[\"start_station_id\"] =  tripdata_withDoubles[\"start_station_id\"].astype('str')\n",
        "tripdata_withDoubles[\"end_station_id\"] = tripdata_withDoubles[\"end_station_id\"].astype('str')"
      ],
      "id": "a3ee294e",
      "execution_count": 10,
      "outputs": []
    },
    {
      "cell_type": "code",
      "metadata": {
        "id": "HruwOgqSm2-F"
      },
      "source": [
        "all_tripdata = tripdata_withDoubles.copy()"
      ],
      "id": "HruwOgqSm2-F",
      "execution_count": 11,
      "outputs": []
    },
    {
      "cell_type": "markdown",
      "metadata": {
        "id": "LJV8QWMynmmE"
      },
      "source": [
        "# Raw Data Summary"
      ],
      "id": "LJV8QWMynmmE"
    },
    {
      "cell_type": "code",
      "metadata": {
        "colab": {
          "base_uri": "https://localhost:8080/"
        },
        "id": "l1YbCvrznq_o",
        "outputId": "03abb517-2209-4e59-e7c5-d3092f7d67cd"
      },
      "source": [
        "all_tripdata.info()"
      ],
      "id": "l1YbCvrznq_o",
      "execution_count": 12,
      "outputs": [
        {
          "output_type": "stream",
          "name": "stdout",
          "text": [
            "<class 'pandas.core.frame.DataFrame'>\n",
            "Int64Index: 3489748 entries, 0 to 228495\n",
            "Data columns (total 13 columns):\n",
            " #   Column              Dtype  \n",
            "---  ------              -----  \n",
            " 0   ride_id             object \n",
            " 1   rideable_type       object \n",
            " 2   started_at          object \n",
            " 3   ended_at            object \n",
            " 4   start_station_name  object \n",
            " 5   start_station_id    object \n",
            " 6   end_station_name    object \n",
            " 7   end_station_id      object \n",
            " 8   start_lat           float64\n",
            " 9   start_lng           float64\n",
            " 10  end_lat             float64\n",
            " 11  end_lng             float64\n",
            " 12  member_casual       object \n",
            "dtypes: float64(4), object(9)\n",
            "memory usage: 372.7+ MB\n"
          ]
        }
      ]
    },
    {
      "cell_type": "code",
      "metadata": {
        "colab": {
          "base_uri": "https://localhost:8080/",
          "height": 300
        },
        "id": "_GIA98-fnuMx",
        "outputId": "94da473c-7047-46e7-b8d8-82a22bcf235c"
      },
      "source": [
        "all_tripdata.describe()"
      ],
      "id": "_GIA98-fnuMx",
      "execution_count": 13,
      "outputs": [
        {
          "output_type": "execute_result",
          "data": {
            "text/html": [
              "<div>\n",
              "<style scoped>\n",
              "    .dataframe tbody tr th:only-of-type {\n",
              "        vertical-align: middle;\n",
              "    }\n",
              "\n",
              "    .dataframe tbody tr th {\n",
              "        vertical-align: top;\n",
              "    }\n",
              "\n",
              "    .dataframe thead th {\n",
              "        text-align: right;\n",
              "    }\n",
              "</style>\n",
              "<table border=\"1\" class=\"dataframe\">\n",
              "  <thead>\n",
              "    <tr style=\"text-align: right;\">\n",
              "      <th></th>\n",
              "      <th>start_lat</th>\n",
              "      <th>start_lng</th>\n",
              "      <th>end_lat</th>\n",
              "      <th>end_lng</th>\n",
              "    </tr>\n",
              "  </thead>\n",
              "  <tbody>\n",
              "    <tr>\n",
              "      <th>count</th>\n",
              "      <td>3.489748e+06</td>\n",
              "      <td>3.489748e+06</td>\n",
              "      <td>3.485010e+06</td>\n",
              "      <td>3.485010e+06</td>\n",
              "    </tr>\n",
              "    <tr>\n",
              "      <th>mean</th>\n",
              "      <td>4.190417e+01</td>\n",
              "      <td>-8.764494e+01</td>\n",
              "      <td>4.190444e+01</td>\n",
              "      <td>-8.764522e+01</td>\n",
              "    </tr>\n",
              "    <tr>\n",
              "      <th>std</th>\n",
              "      <td>4.364222e-02</td>\n",
              "      <td>2.575969e-02</td>\n",
              "      <td>4.373705e-02</td>\n",
              "      <td>2.589123e-02</td>\n",
              "    </tr>\n",
              "    <tr>\n",
              "      <th>min</th>\n",
              "      <td>4.164000e+01</td>\n",
              "      <td>-8.787000e+01</td>\n",
              "      <td>4.154000e+01</td>\n",
              "      <td>-8.807000e+01</td>\n",
              "    </tr>\n",
              "    <tr>\n",
              "      <th>25%</th>\n",
              "      <td>4.188224e+01</td>\n",
              "      <td>-8.765888e+01</td>\n",
              "      <td>4.188266e+01</td>\n",
              "      <td>-8.765917e+01</td>\n",
              "    </tr>\n",
              "    <tr>\n",
              "      <th>50%</th>\n",
              "      <td>4.190000e+01</td>\n",
              "      <td>-8.764170e+01</td>\n",
              "      <td>4.190068e+01</td>\n",
              "      <td>-8.764275e+01</td>\n",
              "    </tr>\n",
              "    <tr>\n",
              "      <th>75%</th>\n",
              "      <td>4.193000e+01</td>\n",
              "      <td>-8.762773e+01</td>\n",
              "      <td>4.193120e+01</td>\n",
              "      <td>-8.762775e+01</td>\n",
              "    </tr>\n",
              "    <tr>\n",
              "      <th>max</th>\n",
              "      <td>4.208000e+01</td>\n",
              "      <td>-8.752000e+01</td>\n",
              "      <td>4.216000e+01</td>\n",
              "      <td>-8.744000e+01</td>\n",
              "    </tr>\n",
              "  </tbody>\n",
              "</table>\n",
              "</div>"
            ],
            "text/plain": [
              "          start_lat     start_lng       end_lat       end_lng\n",
              "count  3.489748e+06  3.489748e+06  3.485010e+06  3.485010e+06\n",
              "mean   4.190417e+01 -8.764494e+01  4.190444e+01 -8.764522e+01\n",
              "std    4.364222e-02  2.575969e-02  4.373705e-02  2.589123e-02\n",
              "min    4.164000e+01 -8.787000e+01  4.154000e+01 -8.807000e+01\n",
              "25%    4.188224e+01 -8.765888e+01  4.188266e+01 -8.765917e+01\n",
              "50%    4.190000e+01 -8.764170e+01  4.190068e+01 -8.764275e+01\n",
              "75%    4.193000e+01 -8.762773e+01  4.193120e+01 -8.762775e+01\n",
              "max    4.208000e+01 -8.752000e+01  4.216000e+01 -8.744000e+01"
            ]
          },
          "metadata": {},
          "execution_count": 13
        }
      ]
    },
    {
      "cell_type": "code",
      "metadata": {
        "colab": {
          "base_uri": "https://localhost:8080/",
          "height": 267
        },
        "id": "1a4b16de",
        "outputId": "63f8106e-c671-441d-887e-5f19afdfe558"
      },
      "source": [
        "all_tripdata.head(3)"
      ],
      "id": "1a4b16de",
      "execution_count": 14,
      "outputs": [
        {
          "output_type": "execute_result",
          "data": {
            "text/html": [
              "<div>\n",
              "<style scoped>\n",
              "    .dataframe tbody tr th:only-of-type {\n",
              "        vertical-align: middle;\n",
              "    }\n",
              "\n",
              "    .dataframe tbody tr th {\n",
              "        vertical-align: top;\n",
              "    }\n",
              "\n",
              "    .dataframe thead th {\n",
              "        text-align: right;\n",
              "    }\n",
              "</style>\n",
              "<table border=\"1\" class=\"dataframe\">\n",
              "  <thead>\n",
              "    <tr style=\"text-align: right;\">\n",
              "      <th></th>\n",
              "      <th>ride_id</th>\n",
              "      <th>rideable_type</th>\n",
              "      <th>started_at</th>\n",
              "      <th>ended_at</th>\n",
              "      <th>start_station_name</th>\n",
              "      <th>start_station_id</th>\n",
              "      <th>end_station_name</th>\n",
              "      <th>end_station_id</th>\n",
              "      <th>start_lat</th>\n",
              "      <th>start_lng</th>\n",
              "      <th>end_lat</th>\n",
              "      <th>end_lng</th>\n",
              "      <th>member_casual</th>\n",
              "    </tr>\n",
              "  </thead>\n",
              "  <tbody>\n",
              "    <tr>\n",
              "      <th>0</th>\n",
              "      <td>A847FADBBC638E45</td>\n",
              "      <td>docked_bike</td>\n",
              "      <td>2020-04-26 17:45:14</td>\n",
              "      <td>2020-04-26 18:12:03</td>\n",
              "      <td>Eckhart Park</td>\n",
              "      <td>86</td>\n",
              "      <td>Lincoln Ave &amp; Diversey Pkwy</td>\n",
              "      <td>152.0</td>\n",
              "      <td>41.8964</td>\n",
              "      <td>-87.6610</td>\n",
              "      <td>41.9322</td>\n",
              "      <td>-87.6586</td>\n",
              "      <td>member</td>\n",
              "    </tr>\n",
              "    <tr>\n",
              "      <th>1</th>\n",
              "      <td>5405B80E996FF60D</td>\n",
              "      <td>docked_bike</td>\n",
              "      <td>2020-04-17 17:08:54</td>\n",
              "      <td>2020-04-17 17:17:03</td>\n",
              "      <td>Drake Ave &amp; Fullerton Ave</td>\n",
              "      <td>503</td>\n",
              "      <td>Kosciuszko Park</td>\n",
              "      <td>499.0</td>\n",
              "      <td>41.9244</td>\n",
              "      <td>-87.7154</td>\n",
              "      <td>41.9306</td>\n",
              "      <td>-87.7238</td>\n",
              "      <td>member</td>\n",
              "    </tr>\n",
              "    <tr>\n",
              "      <th>2</th>\n",
              "      <td>5DD24A79A4E006F4</td>\n",
              "      <td>docked_bike</td>\n",
              "      <td>2020-04-01 17:54:13</td>\n",
              "      <td>2020-04-01 18:08:36</td>\n",
              "      <td>McClurg Ct &amp; Erie St</td>\n",
              "      <td>142</td>\n",
              "      <td>Indiana Ave &amp; Roosevelt Rd</td>\n",
              "      <td>255.0</td>\n",
              "      <td>41.8945</td>\n",
              "      <td>-87.6179</td>\n",
              "      <td>41.8679</td>\n",
              "      <td>-87.6230</td>\n",
              "      <td>member</td>\n",
              "    </tr>\n",
              "  </tbody>\n",
              "</table>\n",
              "</div>"
            ],
            "text/plain": [
              "            ride_id rideable_type  ...  end_lng member_casual\n",
              "0  A847FADBBC638E45   docked_bike  ... -87.6586        member\n",
              "1  5405B80E996FF60D   docked_bike  ... -87.7238        member\n",
              "2  5DD24A79A4E006F4   docked_bike  ... -87.6230        member\n",
              "\n",
              "[3 rows x 13 columns]"
            ]
          },
          "metadata": {},
          "execution_count": 14
        }
      ]
    },
    {
      "cell_type": "markdown",
      "metadata": {
        "id": "RvAE6ekZnerS"
      },
      "source": [
        "# Data Cleaning"
      ],
      "id": "RvAE6ekZnerS"
    },
    {
      "cell_type": "markdown",
      "metadata": {
        "id": "FwT43uxln6ME"
      },
      "source": [
        "## Missing Data"
      ],
      "id": "FwT43uxln6ME"
    },
    {
      "cell_type": "code",
      "metadata": {
        "colab": {
          "base_uri": "https://localhost:8080/"
        },
        "id": "E6COxn12oAnQ",
        "outputId": "8c4499aa-5a33-41b2-d567-0c66eebf2396"
      },
      "source": [
        "all_tripdata.isna().sum()"
      ],
      "id": "E6COxn12oAnQ",
      "execution_count": 15,
      "outputs": [
        {
          "output_type": "execute_result",
          "data": {
            "text/plain": [
              "ride_id                    0\n",
              "rideable_type              0\n",
              "started_at                 0\n",
              "ended_at                   0\n",
              "start_station_name    122175\n",
              "start_station_id           0\n",
              "end_station_name      143242\n",
              "end_station_id             0\n",
              "start_lat                  0\n",
              "start_lng                  0\n",
              "end_lat                 4738\n",
              "end_lng                 4738\n",
              "member_casual              0\n",
              "dtype: int64"
            ]
          },
          "metadata": {},
          "execution_count": 15
        }
      ]
    },
    {
      "cell_type": "code",
      "metadata": {
        "id": "EJqm1x7Brc1E"
      },
      "source": [
        "df_no_miss = all_tripdata[~all_tripdata['start_station_id'].isna()]\n",
        "df_no_miss = all_tripdata[~all_tripdata['start_station_name'].isna()]\n",
        "df_no_miss = all_tripdata[all_tripdata['end_station_id']!='nan']"
      ],
      "id": "EJqm1x7Brc1E",
      "execution_count": 16,
      "outputs": []
    },
    {
      "cell_type": "code",
      "metadata": {
        "colab": {
          "base_uri": "https://localhost:8080/"
        },
        "id": "QoxAQrQltvH1",
        "outputId": "1734c188-021c-4f41-ca63-ee7234836191"
      },
      "source": [
        "df_no_miss.dropna(axis=0,inplace=True)"
      ],
      "id": "QoxAQrQltvH1",
      "execution_count": 17,
      "outputs": [
        {
          "output_type": "stream",
          "name": "stderr",
          "text": [
            "/usr/local/lib/python3.7/dist-packages/ipykernel_launcher.py:1: SettingWithCopyWarning: \n",
            "A value is trying to be set on a copy of a slice from a DataFrame\n",
            "\n",
            "See the caveats in the documentation: https://pandas.pydata.org/pandas-docs/stable/user_guide/indexing.html#returning-a-view-versus-a-copy\n",
            "  \"\"\"Entry point for launching an IPython kernel.\n"
          ]
        }
      ]
    },
    {
      "cell_type": "code",
      "metadata": {
        "colab": {
          "base_uri": "https://localhost:8080/"
        },
        "id": "5hqzi1rUrvxj",
        "outputId": "56f3ca06-16b1-4c43-fc48-83d4148b36fc"
      },
      "source": [
        "df_no_miss.isna().sum()"
      ],
      "id": "5hqzi1rUrvxj",
      "execution_count": 18,
      "outputs": [
        {
          "output_type": "execute_result",
          "data": {
            "text/plain": [
              "ride_id               0\n",
              "rideable_type         0\n",
              "started_at            0\n",
              "ended_at              0\n",
              "start_station_name    0\n",
              "start_station_id      0\n",
              "end_station_name      0\n",
              "end_station_id        0\n",
              "start_lat             0\n",
              "start_lng             0\n",
              "end_lat               0\n",
              "end_lng               0\n",
              "member_casual         0\n",
              "dtype: int64"
            ]
          },
          "metadata": {},
          "execution_count": 18
        }
      ]
    },
    {
      "cell_type": "markdown",
      "metadata": {
        "id": "rTIYBZHyuLdI"
      },
      "source": [
        "## Check for invalid data"
      ],
      "id": "rTIYBZHyuLdI"
    },
    {
      "cell_type": "code",
      "metadata": {
        "colab": {
          "base_uri": "https://localhost:8080/"
        },
        "id": "tMGJabi1uGEl",
        "outputId": "43c04844-158e-41a0-93de-7a55dd56b1d5"
      },
      "source": [
        "df_no_miss.ended_at = pd.to_datetime(df_no_miss['ended_at'], format = '%Y-%m-%d %H:%M:%S')\n",
        "df_no_miss.started_at = pd.to_datetime(df_no_miss['started_at'], format = '%Y-%m-%d %H:%M:%S')"
      ],
      "id": "tMGJabi1uGEl",
      "execution_count": 19,
      "outputs": [
        {
          "output_type": "stream",
          "name": "stderr",
          "text": [
            "/usr/local/lib/python3.7/dist-packages/pandas/core/generic.py:5170: SettingWithCopyWarning: \n",
            "A value is trying to be set on a copy of a slice from a DataFrame.\n",
            "Try using .loc[row_indexer,col_indexer] = value instead\n",
            "\n",
            "See the caveats in the documentation: https://pandas.pydata.org/pandas-docs/stable/user_guide/indexing.html#returning-a-view-versus-a-copy\n",
            "  self[name] = value\n"
          ]
        }
      ]
    },
    {
      "cell_type": "code",
      "metadata": {
        "id": "Af4HhhUguGBb"
      },
      "source": [
        "df_no_miss = df_no_miss[~(df_no_miss['ended_at']<=df_no_miss['started_at'])]"
      ],
      "id": "Af4HhhUguGBb",
      "execution_count": 20,
      "outputs": []
    },
    {
      "cell_type": "code",
      "metadata": {
        "colab": {
          "base_uri": "https://localhost:8080/",
          "height": 69
        },
        "id": "8DU-nHdLuFyf",
        "outputId": "dc6f5b90-7adb-4cd0-f2cb-402a8fd540b8"
      },
      "source": [
        "df_no_miss[(df_no_miss['ended_at']<=df_no_miss['started_at'])]"
      ],
      "id": "8DU-nHdLuFyf",
      "execution_count": 21,
      "outputs": [
        {
          "output_type": "execute_result",
          "data": {
            "text/html": [
              "<div>\n",
              "<style scoped>\n",
              "    .dataframe tbody tr th:only-of-type {\n",
              "        vertical-align: middle;\n",
              "    }\n",
              "\n",
              "    .dataframe tbody tr th {\n",
              "        vertical-align: top;\n",
              "    }\n",
              "\n",
              "    .dataframe thead th {\n",
              "        text-align: right;\n",
              "    }\n",
              "</style>\n",
              "<table border=\"1\" class=\"dataframe\">\n",
              "  <thead>\n",
              "    <tr style=\"text-align: right;\">\n",
              "      <th></th>\n",
              "      <th>ride_id</th>\n",
              "      <th>rideable_type</th>\n",
              "      <th>started_at</th>\n",
              "      <th>ended_at</th>\n",
              "      <th>start_station_name</th>\n",
              "      <th>start_station_id</th>\n",
              "      <th>end_station_name</th>\n",
              "      <th>end_station_id</th>\n",
              "      <th>start_lat</th>\n",
              "      <th>start_lng</th>\n",
              "      <th>end_lat</th>\n",
              "      <th>end_lng</th>\n",
              "      <th>member_casual</th>\n",
              "    </tr>\n",
              "  </thead>\n",
              "  <tbody>\n",
              "  </tbody>\n",
              "</table>\n",
              "</div>"
            ],
            "text/plain": [
              "Empty DataFrame\n",
              "Columns: [ride_id, rideable_type, started_at, ended_at, start_station_name, start_station_id, end_station_name, end_station_id, start_lat, start_lng, end_lat, end_lng, member_casual]\n",
              "Index: []"
            ]
          },
          "metadata": {},
          "execution_count": 21
        }
      ]
    },
    {
      "cell_type": "code",
      "metadata": {
        "id": "tmH3SJpdocAL"
      },
      "source": [
        "df = df_no_miss.copy()"
      ],
      "id": "tmH3SJpdocAL",
      "execution_count": 22,
      "outputs": []
    },
    {
      "cell_type": "markdown",
      "metadata": {
        "id": "izoymWUhJ6sx"
      },
      "source": [
        "# Data Transformation"
      ],
      "id": "izoymWUhJ6sx"
    },
    {
      "cell_type": "code",
      "metadata": {
        "id": "cz5zDCNCvx8S"
      },
      "source": [
        "df['ride_length'] = df['ended_at'] - df['started_at']"
      ],
      "id": "cz5zDCNCvx8S",
      "execution_count": 23,
      "outputs": []
    },
    {
      "cell_type": "code",
      "metadata": {
        "id": "gG7LQSGqJ_Yo"
      },
      "source": [
        "df['ride_month'],df['ride_weekday'],df['ride_time'],df['ride_weekday_no'], df['ride_month_no'] = df.started_at.dt.month_name(), df.started_at.dt.day_name(), df.started_at.dt.hour, df.started_at.dt.dayofweek, df.started_at.dt.month "
      ],
      "id": "gG7LQSGqJ_Yo",
      "execution_count": 24,
      "outputs": []
    },
    {
      "cell_type": "code",
      "metadata": {
        "id": "jRodV-9taNcM"
      },
      "source": [
        "def get_dist(lon1, lat1, lon2, lat2):\n",
        "    \"\"\"\n",
        "    Calculate the great circle distance between two points\n",
        "    on the earth (specified in decimal degrees)\n",
        "\n",
        "    All args must be of equal length.    \n",
        "\n",
        "    \"\"\"\n",
        "    lon1, lat1, lon2, lat2 = map(np.radians, [lon1, lat1, lon2, lat2])\n",
        "\n",
        "    dlon = lon2 - lon1\n",
        "    dlat = lat2 - lat1\n",
        "\n",
        "    a = np.sin(dlat/2.0)**2 + np.cos(lat1) * np.cos(lat2) * np.sin(dlon/2.0)**2\n",
        "\n",
        "    c = 2 * np.arcsin(np.sqrt(a))\n",
        "    km = 6367 * c\n",
        "    return km"
      ],
      "id": "jRodV-9taNcM",
      "execution_count": 25,
      "outputs": []
    },
    {
      "cell_type": "code",
      "metadata": {
        "id": "VLJVLlyMaYi3"
      },
      "source": [
        "df['distance'] = round(get_dist(df.start_lng,df.start_lat,df.end_lng,df.end_lat),2)"
      ],
      "id": "VLJVLlyMaYi3",
      "execution_count": 26,
      "outputs": []
    },
    {
      "cell_type": "code",
      "metadata": {
        "id": "MXSda442J_S5"
      },
      "source": [
        "df['ride_length_min'] = round(df.ride_length.dt.total_seconds()/60, 4)"
      ],
      "id": "MXSda442J_S5",
      "execution_count": 27,
      "outputs": []
    },
    {
      "cell_type": "code",
      "metadata": {
        "colab": {
          "base_uri": "https://localhost:8080/"
        },
        "id": "_YwkSGKzRmK7",
        "outputId": "72c74864-ba14-4a79-c9ea-040f08dd4a29"
      },
      "source": [
        "df.info()"
      ],
      "id": "_YwkSGKzRmK7",
      "execution_count": 28,
      "outputs": [
        {
          "output_type": "stream",
          "name": "stdout",
          "text": [
            "<class 'pandas.core.frame.DataFrame'>\n",
            "Int64Index: 3284416 entries, 0 to 228494\n",
            "Data columns (total 21 columns):\n",
            " #   Column              Dtype          \n",
            "---  ------              -----          \n",
            " 0   ride_id             object         \n",
            " 1   rideable_type       object         \n",
            " 2   started_at          datetime64[ns] \n",
            " 3   ended_at            datetime64[ns] \n",
            " 4   start_station_name  object         \n",
            " 5   start_station_id    object         \n",
            " 6   end_station_name    object         \n",
            " 7   end_station_id      object         \n",
            " 8   start_lat           float64        \n",
            " 9   start_lng           float64        \n",
            " 10  end_lat             float64        \n",
            " 11  end_lng             float64        \n",
            " 12  member_casual       object         \n",
            " 13  ride_length         timedelta64[ns]\n",
            " 14  ride_month          object         \n",
            " 15  ride_weekday        object         \n",
            " 16  ride_time           int64          \n",
            " 17  ride_weekday_no     int64          \n",
            " 18  ride_month_no       int64          \n",
            " 19  distance            float64        \n",
            " 20  ride_length_min     float64        \n",
            "dtypes: datetime64[ns](2), float64(6), int64(3), object(9), timedelta64[ns](1)\n",
            "memory usage: 551.3+ MB\n"
          ]
        }
      ]
    },
    {
      "cell_type": "code",
      "metadata": {
        "colab": {
          "base_uri": "https://localhost:8080/",
          "height": 790
        },
        "id": "0yRwQlIPbCKY",
        "outputId": "bf074f82-54d7-41e2-b18d-455fa8074087"
      },
      "source": [
        "df"
      ],
      "id": "0yRwQlIPbCKY",
      "execution_count": 29,
      "outputs": [
        {
          "output_type": "execute_result",
          "data": {
            "text/html": [
              "<div>\n",
              "<style scoped>\n",
              "    .dataframe tbody tr th:only-of-type {\n",
              "        vertical-align: middle;\n",
              "    }\n",
              "\n",
              "    .dataframe tbody tr th {\n",
              "        vertical-align: top;\n",
              "    }\n",
              "\n",
              "    .dataframe thead th {\n",
              "        text-align: right;\n",
              "    }\n",
              "</style>\n",
              "<table border=\"1\" class=\"dataframe\">\n",
              "  <thead>\n",
              "    <tr style=\"text-align: right;\">\n",
              "      <th></th>\n",
              "      <th>ride_id</th>\n",
              "      <th>rideable_type</th>\n",
              "      <th>started_at</th>\n",
              "      <th>ended_at</th>\n",
              "      <th>start_station_name</th>\n",
              "      <th>start_station_id</th>\n",
              "      <th>end_station_name</th>\n",
              "      <th>end_station_id</th>\n",
              "      <th>start_lat</th>\n",
              "      <th>start_lng</th>\n",
              "      <th>end_lat</th>\n",
              "      <th>end_lng</th>\n",
              "      <th>member_casual</th>\n",
              "      <th>ride_length</th>\n",
              "      <th>ride_month</th>\n",
              "      <th>ride_weekday</th>\n",
              "      <th>ride_time</th>\n",
              "      <th>ride_weekday_no</th>\n",
              "      <th>ride_month_no</th>\n",
              "      <th>distance</th>\n",
              "      <th>ride_length_min</th>\n",
              "    </tr>\n",
              "  </thead>\n",
              "  <tbody>\n",
              "    <tr>\n",
              "      <th>0</th>\n",
              "      <td>A847FADBBC638E45</td>\n",
              "      <td>docked_bike</td>\n",
              "      <td>2020-04-26 17:45:14</td>\n",
              "      <td>2020-04-26 18:12:03</td>\n",
              "      <td>Eckhart Park</td>\n",
              "      <td>86</td>\n",
              "      <td>Lincoln Ave &amp; Diversey Pkwy</td>\n",
              "      <td>152.0</td>\n",
              "      <td>41.896400</td>\n",
              "      <td>-87.661000</td>\n",
              "      <td>41.932200</td>\n",
              "      <td>-87.658600</td>\n",
              "      <td>member</td>\n",
              "      <td>0 days 00:26:49</td>\n",
              "      <td>April</td>\n",
              "      <td>Sunday</td>\n",
              "      <td>17</td>\n",
              "      <td>6</td>\n",
              "      <td>4</td>\n",
              "      <td>3.98</td>\n",
              "      <td>26.8167</td>\n",
              "    </tr>\n",
              "    <tr>\n",
              "      <th>1</th>\n",
              "      <td>5405B80E996FF60D</td>\n",
              "      <td>docked_bike</td>\n",
              "      <td>2020-04-17 17:08:54</td>\n",
              "      <td>2020-04-17 17:17:03</td>\n",
              "      <td>Drake Ave &amp; Fullerton Ave</td>\n",
              "      <td>503</td>\n",
              "      <td>Kosciuszko Park</td>\n",
              "      <td>499.0</td>\n",
              "      <td>41.924400</td>\n",
              "      <td>-87.715400</td>\n",
              "      <td>41.930600</td>\n",
              "      <td>-87.723800</td>\n",
              "      <td>member</td>\n",
              "      <td>0 days 00:08:09</td>\n",
              "      <td>April</td>\n",
              "      <td>Friday</td>\n",
              "      <td>17</td>\n",
              "      <td>4</td>\n",
              "      <td>4</td>\n",
              "      <td>0.98</td>\n",
              "      <td>8.1500</td>\n",
              "    </tr>\n",
              "    <tr>\n",
              "      <th>2</th>\n",
              "      <td>5DD24A79A4E006F4</td>\n",
              "      <td>docked_bike</td>\n",
              "      <td>2020-04-01 17:54:13</td>\n",
              "      <td>2020-04-01 18:08:36</td>\n",
              "      <td>McClurg Ct &amp; Erie St</td>\n",
              "      <td>142</td>\n",
              "      <td>Indiana Ave &amp; Roosevelt Rd</td>\n",
              "      <td>255.0</td>\n",
              "      <td>41.894500</td>\n",
              "      <td>-87.617900</td>\n",
              "      <td>41.867900</td>\n",
              "      <td>-87.623000</td>\n",
              "      <td>member</td>\n",
              "      <td>0 days 00:14:23</td>\n",
              "      <td>April</td>\n",
              "      <td>Wednesday</td>\n",
              "      <td>17</td>\n",
              "      <td>2</td>\n",
              "      <td>4</td>\n",
              "      <td>2.99</td>\n",
              "      <td>14.3833</td>\n",
              "    </tr>\n",
              "    <tr>\n",
              "      <th>3</th>\n",
              "      <td>2A59BBDF5CDBA725</td>\n",
              "      <td>docked_bike</td>\n",
              "      <td>2020-04-07 12:50:19</td>\n",
              "      <td>2020-04-07 13:02:31</td>\n",
              "      <td>California Ave &amp; Division St</td>\n",
              "      <td>216</td>\n",
              "      <td>Wood St &amp; Augusta Blvd</td>\n",
              "      <td>657.0</td>\n",
              "      <td>41.903000</td>\n",
              "      <td>-87.697500</td>\n",
              "      <td>41.899200</td>\n",
              "      <td>-87.672200</td>\n",
              "      <td>member</td>\n",
              "      <td>0 days 00:12:12</td>\n",
              "      <td>April</td>\n",
              "      <td>Tuesday</td>\n",
              "      <td>12</td>\n",
              "      <td>1</td>\n",
              "      <td>4</td>\n",
              "      <td>2.13</td>\n",
              "      <td>12.2000</td>\n",
              "    </tr>\n",
              "    <tr>\n",
              "      <th>4</th>\n",
              "      <td>27AD306C119C6158</td>\n",
              "      <td>docked_bike</td>\n",
              "      <td>2020-04-18 10:22:59</td>\n",
              "      <td>2020-04-18 11:15:54</td>\n",
              "      <td>Rush St &amp; Hubbard St</td>\n",
              "      <td>125</td>\n",
              "      <td>Sheridan Rd &amp; Lawrence Ave</td>\n",
              "      <td>323.0</td>\n",
              "      <td>41.890200</td>\n",
              "      <td>-87.626200</td>\n",
              "      <td>41.969500</td>\n",
              "      <td>-87.654700</td>\n",
              "      <td>casual</td>\n",
              "      <td>0 days 00:52:55</td>\n",
              "      <td>April</td>\n",
              "      <td>Saturday</td>\n",
              "      <td>10</td>\n",
              "      <td>5</td>\n",
              "      <td>4</td>\n",
              "      <td>9.12</td>\n",
              "      <td>52.9167</td>\n",
              "    </tr>\n",
              "    <tr>\n",
              "      <th>...</th>\n",
              "      <td>...</td>\n",
              "      <td>...</td>\n",
              "      <td>...</td>\n",
              "      <td>...</td>\n",
              "      <td>...</td>\n",
              "      <td>...</td>\n",
              "      <td>...</td>\n",
              "      <td>...</td>\n",
              "      <td>...</td>\n",
              "      <td>...</td>\n",
              "      <td>...</td>\n",
              "      <td>...</td>\n",
              "      <td>...</td>\n",
              "      <td>...</td>\n",
              "      <td>...</td>\n",
              "      <td>...</td>\n",
              "      <td>...</td>\n",
              "      <td>...</td>\n",
              "      <td>...</td>\n",
              "      <td>...</td>\n",
              "      <td>...</td>\n",
              "    </tr>\n",
              "    <tr>\n",
              "      <th>228490</th>\n",
              "      <td>081549DEA616CA22</td>\n",
              "      <td>electric_bike</td>\n",
              "      <td>2021-03-14 01:59:38</td>\n",
              "      <td>2021-03-14 03:13:09</td>\n",
              "      <td>Larrabee St &amp; Armitage Ave</td>\n",
              "      <td>TA1309000006</td>\n",
              "      <td>New St &amp; Illinois St</td>\n",
              "      <td>TA1306000013</td>\n",
              "      <td>41.918129</td>\n",
              "      <td>-87.643749</td>\n",
              "      <td>41.890808</td>\n",
              "      <td>-87.618779</td>\n",
              "      <td>member</td>\n",
              "      <td>0 days 01:13:31</td>\n",
              "      <td>March</td>\n",
              "      <td>Sunday</td>\n",
              "      <td>1</td>\n",
              "      <td>6</td>\n",
              "      <td>3</td>\n",
              "      <td>3.67</td>\n",
              "      <td>73.5167</td>\n",
              "    </tr>\n",
              "    <tr>\n",
              "      <th>228491</th>\n",
              "      <td>9397BDD14798A1BA</td>\n",
              "      <td>docked_bike</td>\n",
              "      <td>2021-03-20 14:58:56</td>\n",
              "      <td>2021-03-20 17:22:47</td>\n",
              "      <td>Michigan Ave &amp; Oak St</td>\n",
              "      <td>13042</td>\n",
              "      <td>New St &amp; Illinois St</td>\n",
              "      <td>TA1306000013</td>\n",
              "      <td>41.900960</td>\n",
              "      <td>-87.623777</td>\n",
              "      <td>41.890847</td>\n",
              "      <td>-87.618617</td>\n",
              "      <td>casual</td>\n",
              "      <td>0 days 02:23:51</td>\n",
              "      <td>March</td>\n",
              "      <td>Saturday</td>\n",
              "      <td>14</td>\n",
              "      <td>5</td>\n",
              "      <td>3</td>\n",
              "      <td>1.20</td>\n",
              "      <td>143.8500</td>\n",
              "    </tr>\n",
              "    <tr>\n",
              "      <th>228492</th>\n",
              "      <td>BBBEB8D51AAD40DA</td>\n",
              "      <td>classic_bike</td>\n",
              "      <td>2021-03-02 11:35:10</td>\n",
              "      <td>2021-03-02 11:43:37</td>\n",
              "      <td>Kingsbury St &amp; Kinzie St</td>\n",
              "      <td>KA1503000043</td>\n",
              "      <td>New St &amp; Illinois St</td>\n",
              "      <td>TA1306000013</td>\n",
              "      <td>41.889177</td>\n",
              "      <td>-87.638506</td>\n",
              "      <td>41.890847</td>\n",
              "      <td>-87.618617</td>\n",
              "      <td>member</td>\n",
              "      <td>0 days 00:08:27</td>\n",
              "      <td>March</td>\n",
              "      <td>Tuesday</td>\n",
              "      <td>11</td>\n",
              "      <td>1</td>\n",
              "      <td>3</td>\n",
              "      <td>1.66</td>\n",
              "      <td>8.4500</td>\n",
              "    </tr>\n",
              "    <tr>\n",
              "      <th>228493</th>\n",
              "      <td>637FF754DA0BD9E1</td>\n",
              "      <td>classic_bike</td>\n",
              "      <td>2021-03-09 11:07:36</td>\n",
              "      <td>2021-03-09 11:49:11</td>\n",
              "      <td>Michigan Ave &amp; Oak St</td>\n",
              "      <td>13042</td>\n",
              "      <td>Clark St &amp; Berwyn Ave</td>\n",
              "      <td>KA1504000146</td>\n",
              "      <td>41.900960</td>\n",
              "      <td>-87.623777</td>\n",
              "      <td>41.977997</td>\n",
              "      <td>-87.668047</td>\n",
              "      <td>member</td>\n",
              "      <td>0 days 00:41:35</td>\n",
              "      <td>March</td>\n",
              "      <td>Tuesday</td>\n",
              "      <td>11</td>\n",
              "      <td>1</td>\n",
              "      <td>3</td>\n",
              "      <td>9.31</td>\n",
              "      <td>41.5833</td>\n",
              "    </tr>\n",
              "    <tr>\n",
              "      <th>228494</th>\n",
              "      <td>F8F43A0B978A7A35</td>\n",
              "      <td>classic_bike</td>\n",
              "      <td>2021-03-01 18:11:57</td>\n",
              "      <td>2021-03-01 18:18:37</td>\n",
              "      <td>Kingsbury St &amp; Kinzie St</td>\n",
              "      <td>KA1503000043</td>\n",
              "      <td>New St &amp; Illinois St</td>\n",
              "      <td>TA1306000013</td>\n",
              "      <td>41.889177</td>\n",
              "      <td>-87.638506</td>\n",
              "      <td>41.890847</td>\n",
              "      <td>-87.618617</td>\n",
              "      <td>member</td>\n",
              "      <td>0 days 00:06:40</td>\n",
              "      <td>March</td>\n",
              "      <td>Monday</td>\n",
              "      <td>18</td>\n",
              "      <td>0</td>\n",
              "      <td>3</td>\n",
              "      <td>1.66</td>\n",
              "      <td>6.6667</td>\n",
              "    </tr>\n",
              "  </tbody>\n",
              "</table>\n",
              "<p>3284416 rows × 21 columns</p>\n",
              "</div>"
            ],
            "text/plain": [
              "                 ride_id  rideable_type  ... distance ride_length_min\n",
              "0       A847FADBBC638E45    docked_bike  ...     3.98         26.8167\n",
              "1       5405B80E996FF60D    docked_bike  ...     0.98          8.1500\n",
              "2       5DD24A79A4E006F4    docked_bike  ...     2.99         14.3833\n",
              "3       2A59BBDF5CDBA725    docked_bike  ...     2.13         12.2000\n",
              "4       27AD306C119C6158    docked_bike  ...     9.12         52.9167\n",
              "...                  ...            ...  ...      ...             ...\n",
              "228490  081549DEA616CA22  electric_bike  ...     3.67         73.5167\n",
              "228491  9397BDD14798A1BA    docked_bike  ...     1.20        143.8500\n",
              "228492  BBBEB8D51AAD40DA   classic_bike  ...     1.66          8.4500\n",
              "228493  637FF754DA0BD9E1   classic_bike  ...     9.31         41.5833\n",
              "228494  F8F43A0B978A7A35   classic_bike  ...     1.66          6.6667\n",
              "\n",
              "[3284416 rows x 21 columns]"
            ]
          },
          "metadata": {},
          "execution_count": 29
        }
      ]
    },
    {
      "cell_type": "code",
      "metadata": {
        "id": "e1uxWOgg-4-i"
      },
      "source": [
        "# start_geometry = [Point(xy) for xy in zip(df[\"start_lng\"], df[\"start_lat\"])]\n",
        "# start_geometry[:3]"
      ],
      "id": "e1uxWOgg-4-i",
      "execution_count": null,
      "outputs": []
    },
    {
      "cell_type": "code",
      "metadata": {
        "id": "2wrXh5BT932i"
      },
      "source": [
        "# crs = {'init':'epsg:4326'}\n",
        "df['start_geometry'] = gpd.points_from_xy(df.start_lng, df.start_lat)"
      ],
      "id": "2wrXh5BT932i",
      "execution_count": 30,
      "outputs": []
    },
    {
      "cell_type": "code",
      "metadata": {
        "id": "QG_UZRQMMO_7"
      },
      "source": [
        "df['end_geometry'] = gpd.points_from_xy(df.end_lng, df.end_lat)"
      ],
      "id": "QG_UZRQMMO_7",
      "execution_count": 31,
      "outputs": []
    },
    {
      "cell_type": "code",
      "metadata": {
        "id": "PdJdFQsvMsRM"
      },
      "source": [
        ""
      ],
      "id": "PdJdFQsvMsRM",
      "execution_count": 31,
      "outputs": []
    },
    {
      "cell_type": "code",
      "metadata": {
        "colab": {
          "base_uri": "https://localhost:8080/",
          "height": 399
        },
        "id": "KR5zphgHMLiH",
        "outputId": "7f895300-1533-4d05-b8b2-1c32701c14ed"
      },
      "source": [
        "df.head()"
      ],
      "id": "KR5zphgHMLiH",
      "execution_count": 32,
      "outputs": [
        {
          "output_type": "execute_result",
          "data": {
            "text/html": [
              "<div>\n",
              "<style scoped>\n",
              "    .dataframe tbody tr th:only-of-type {\n",
              "        vertical-align: middle;\n",
              "    }\n",
              "\n",
              "    .dataframe tbody tr th {\n",
              "        vertical-align: top;\n",
              "    }\n",
              "\n",
              "    .dataframe thead th {\n",
              "        text-align: right;\n",
              "    }\n",
              "</style>\n",
              "<table border=\"1\" class=\"dataframe\">\n",
              "  <thead>\n",
              "    <tr style=\"text-align: right;\">\n",
              "      <th></th>\n",
              "      <th>ride_id</th>\n",
              "      <th>rideable_type</th>\n",
              "      <th>started_at</th>\n",
              "      <th>ended_at</th>\n",
              "      <th>start_station_name</th>\n",
              "      <th>start_station_id</th>\n",
              "      <th>end_station_name</th>\n",
              "      <th>end_station_id</th>\n",
              "      <th>start_lat</th>\n",
              "      <th>start_lng</th>\n",
              "      <th>end_lat</th>\n",
              "      <th>end_lng</th>\n",
              "      <th>member_casual</th>\n",
              "      <th>ride_length</th>\n",
              "      <th>ride_month</th>\n",
              "      <th>ride_weekday</th>\n",
              "      <th>ride_time</th>\n",
              "      <th>ride_weekday_no</th>\n",
              "      <th>ride_month_no</th>\n",
              "      <th>distance</th>\n",
              "      <th>ride_length_min</th>\n",
              "      <th>start_geometry</th>\n",
              "      <th>end_geometry</th>\n",
              "    </tr>\n",
              "  </thead>\n",
              "  <tbody>\n",
              "    <tr>\n",
              "      <th>0</th>\n",
              "      <td>A847FADBBC638E45</td>\n",
              "      <td>docked_bike</td>\n",
              "      <td>2020-04-26 17:45:14</td>\n",
              "      <td>2020-04-26 18:12:03</td>\n",
              "      <td>Eckhart Park</td>\n",
              "      <td>86</td>\n",
              "      <td>Lincoln Ave &amp; Diversey Pkwy</td>\n",
              "      <td>152.0</td>\n",
              "      <td>41.8964</td>\n",
              "      <td>-87.6610</td>\n",
              "      <td>41.9322</td>\n",
              "      <td>-87.6586</td>\n",
              "      <td>member</td>\n",
              "      <td>0 days 00:26:49</td>\n",
              "      <td>April</td>\n",
              "      <td>Sunday</td>\n",
              "      <td>17</td>\n",
              "      <td>6</td>\n",
              "      <td>4</td>\n",
              "      <td>3.98</td>\n",
              "      <td>26.8167</td>\n",
              "      <td>POINT (-87.66100 41.89640)</td>\n",
              "      <td>POINT (-87.65860 41.93220)</td>\n",
              "    </tr>\n",
              "    <tr>\n",
              "      <th>1</th>\n",
              "      <td>5405B80E996FF60D</td>\n",
              "      <td>docked_bike</td>\n",
              "      <td>2020-04-17 17:08:54</td>\n",
              "      <td>2020-04-17 17:17:03</td>\n",
              "      <td>Drake Ave &amp; Fullerton Ave</td>\n",
              "      <td>503</td>\n",
              "      <td>Kosciuszko Park</td>\n",
              "      <td>499.0</td>\n",
              "      <td>41.9244</td>\n",
              "      <td>-87.7154</td>\n",
              "      <td>41.9306</td>\n",
              "      <td>-87.7238</td>\n",
              "      <td>member</td>\n",
              "      <td>0 days 00:08:09</td>\n",
              "      <td>April</td>\n",
              "      <td>Friday</td>\n",
              "      <td>17</td>\n",
              "      <td>4</td>\n",
              "      <td>4</td>\n",
              "      <td>0.98</td>\n",
              "      <td>8.1500</td>\n",
              "      <td>POINT (-87.71540 41.92440)</td>\n",
              "      <td>POINT (-87.72380 41.93060)</td>\n",
              "    </tr>\n",
              "    <tr>\n",
              "      <th>2</th>\n",
              "      <td>5DD24A79A4E006F4</td>\n",
              "      <td>docked_bike</td>\n",
              "      <td>2020-04-01 17:54:13</td>\n",
              "      <td>2020-04-01 18:08:36</td>\n",
              "      <td>McClurg Ct &amp; Erie St</td>\n",
              "      <td>142</td>\n",
              "      <td>Indiana Ave &amp; Roosevelt Rd</td>\n",
              "      <td>255.0</td>\n",
              "      <td>41.8945</td>\n",
              "      <td>-87.6179</td>\n",
              "      <td>41.8679</td>\n",
              "      <td>-87.6230</td>\n",
              "      <td>member</td>\n",
              "      <td>0 days 00:14:23</td>\n",
              "      <td>April</td>\n",
              "      <td>Wednesday</td>\n",
              "      <td>17</td>\n",
              "      <td>2</td>\n",
              "      <td>4</td>\n",
              "      <td>2.99</td>\n",
              "      <td>14.3833</td>\n",
              "      <td>POINT (-87.61790 41.89450)</td>\n",
              "      <td>POINT (-87.62300 41.86790)</td>\n",
              "    </tr>\n",
              "    <tr>\n",
              "      <th>3</th>\n",
              "      <td>2A59BBDF5CDBA725</td>\n",
              "      <td>docked_bike</td>\n",
              "      <td>2020-04-07 12:50:19</td>\n",
              "      <td>2020-04-07 13:02:31</td>\n",
              "      <td>California Ave &amp; Division St</td>\n",
              "      <td>216</td>\n",
              "      <td>Wood St &amp; Augusta Blvd</td>\n",
              "      <td>657.0</td>\n",
              "      <td>41.9030</td>\n",
              "      <td>-87.6975</td>\n",
              "      <td>41.8992</td>\n",
              "      <td>-87.6722</td>\n",
              "      <td>member</td>\n",
              "      <td>0 days 00:12:12</td>\n",
              "      <td>April</td>\n",
              "      <td>Tuesday</td>\n",
              "      <td>12</td>\n",
              "      <td>1</td>\n",
              "      <td>4</td>\n",
              "      <td>2.13</td>\n",
              "      <td>12.2000</td>\n",
              "      <td>POINT (-87.69750 41.90300)</td>\n",
              "      <td>POINT (-87.67220 41.89920)</td>\n",
              "    </tr>\n",
              "    <tr>\n",
              "      <th>4</th>\n",
              "      <td>27AD306C119C6158</td>\n",
              "      <td>docked_bike</td>\n",
              "      <td>2020-04-18 10:22:59</td>\n",
              "      <td>2020-04-18 11:15:54</td>\n",
              "      <td>Rush St &amp; Hubbard St</td>\n",
              "      <td>125</td>\n",
              "      <td>Sheridan Rd &amp; Lawrence Ave</td>\n",
              "      <td>323.0</td>\n",
              "      <td>41.8902</td>\n",
              "      <td>-87.6262</td>\n",
              "      <td>41.9695</td>\n",
              "      <td>-87.6547</td>\n",
              "      <td>casual</td>\n",
              "      <td>0 days 00:52:55</td>\n",
              "      <td>April</td>\n",
              "      <td>Saturday</td>\n",
              "      <td>10</td>\n",
              "      <td>5</td>\n",
              "      <td>4</td>\n",
              "      <td>9.12</td>\n",
              "      <td>52.9167</td>\n",
              "      <td>POINT (-87.62620 41.89020)</td>\n",
              "      <td>POINT (-87.65470 41.96950)</td>\n",
              "    </tr>\n",
              "  </tbody>\n",
              "</table>\n",
              "</div>"
            ],
            "text/plain": [
              "            ride_id  ...                end_geometry\n",
              "0  A847FADBBC638E45  ...  POINT (-87.65860 41.93220)\n",
              "1  5405B80E996FF60D  ...  POINT (-87.72380 41.93060)\n",
              "2  5DD24A79A4E006F4  ...  POINT (-87.62300 41.86790)\n",
              "3  2A59BBDF5CDBA725  ...  POINT (-87.67220 41.89920)\n",
              "4  27AD306C119C6158  ...  POINT (-87.65470 41.96950)\n",
              "\n",
              "[5 rows x 23 columns]"
            ]
          },
          "metadata": {},
          "execution_count": 32
        }
      ]
    },
    {
      "cell_type": "code",
      "metadata": {
        "colab": {
          "base_uri": "https://localhost:8080/"
        },
        "id": "ELWV87UvH4OZ",
        "outputId": "e0611de0-d760-43fe-d86c-fb15b1f42b91"
      },
      "source": [
        "df.start_lat"
      ],
      "id": "ELWV87UvH4OZ",
      "execution_count": 33,
      "outputs": [
        {
          "output_type": "execute_result",
          "data": {
            "text/plain": [
              "0         41.896400\n",
              "1         41.924400\n",
              "2         41.894500\n",
              "3         41.903000\n",
              "4         41.890200\n",
              "            ...    \n",
              "228490    41.918129\n",
              "228491    41.900960\n",
              "228492    41.889177\n",
              "228493    41.900960\n",
              "228494    41.889177\n",
              "Name: start_lat, Length: 3284416, dtype: float64"
            ]
          },
          "metadata": {},
          "execution_count": 33
        }
      ]
    },
    {
      "cell_type": "markdown",
      "metadata": {
        "id": "zZ7EvFxVwRyk"
      },
      "source": [
        "# Analysis"
      ],
      "id": "zZ7EvFxVwRyk"
    },
    {
      "cell_type": "markdown",
      "metadata": {
        "id": "tNIOjTj62cSO"
      },
      "source": [
        "## Distance Calculating function"
      ],
      "id": "tNIOjTj62cSO"
    },
    {
      "cell_type": "code",
      "metadata": {
        "colab": {
          "base_uri": "https://localhost:8080/",
          "height": 341
        },
        "id": "ldegpY8wb2Kv",
        "outputId": "528a87a2-67da-4536-a653-809d5efcd839"
      },
      "source": [
        "df['ride_time_sec'] = (df['ride_length'].dt.total_seconds())\n",
        "df.loc[:,['member_casual','distance']].groupby(['member_casual']).sum().plot(kind = 'bar')\n",
        "# [['distance']]"
      ],
      "id": "ldegpY8wb2Kv",
      "execution_count": 34,
      "outputs": [
        {
          "output_type": "execute_result",
          "data": {
            "text/plain": [
              "<matplotlib.axes._subplots.AxesSubplot at 0x7f7508e40410>"
            ]
          },
          "metadata": {},
          "execution_count": 34
        },
        {
          "output_type": "display_data",
          "data": {
            "image/png": "[encoded data removed]",
            "text/plain": [
              "<Figure size 432x288 with 1 Axes>"
            ]
          },
          "metadata": {
            "needs_background": "light"
          }
        }
      ]
    },
    {
      "cell_type": "code",
      "metadata": {
        "colab": {
          "base_uri": "https://localhost:8080/",
          "height": 341
        },
        "id": "dmeeijnZel5y",
        "outputId": "ca438a03-1c72-4a98-d7da-42950af29349"
      },
      "source": [
        "df.groupby('member_casual')['ride_time_sec'].sum().plot(kind = 'bar')"
      ],
      "id": "dmeeijnZel5y",
      "execution_count": 35,
      "outputs": [
        {
          "output_type": "execute_result",
          "data": {
            "text/plain": [
              "<matplotlib.axes._subplots.AxesSubplot at 0x7f7508d87fd0>"
            ]
          },
          "metadata": {},
          "execution_count": 35
        },
        {
          "output_type": "display_data",
          "data": {
            "image/png": "[encoded data removed]",
            "text/plain": [
              "<Figure size 432x288 with 1 Axes>"
            ]
          },
          "metadata": {
            "needs_background": "light"
          }
        }
      ]
    },
    {
      "cell_type": "code",
      "metadata": {
        "colab": {
          "base_uri": "https://localhost:8080/"
        },
        "id": "kTu_vvtEgagp",
        "outputId": "a97df3d8-b5b6-4b0e-f7ef-17078eac1d91"
      },
      "source": [
        "df.columns"
      ],
      "id": "kTu_vvtEgagp",
      "execution_count": 36,
      "outputs": [
        {
          "output_type": "execute_result",
          "data": {
            "text/plain": [
              "Index(['ride_id', 'rideable_type', 'started_at', 'ended_at',\n",
              "       'start_station_name', 'start_station_id', 'end_station_name',\n",
              "       'end_station_id', 'start_lat', 'start_lng', 'end_lat', 'end_lng',\n",
              "       'member_casual', 'ride_length', 'ride_month', 'ride_weekday',\n",
              "       'ride_time', 'ride_weekday_no', 'ride_month_no', 'distance',\n",
              "       'ride_length_min', 'start_geometry', 'end_geometry', 'ride_time_sec'],\n",
              "      dtype='object')"
            ]
          },
          "metadata": {},
          "execution_count": 36
        }
      ]
    },
    {
      "cell_type": "code",
      "metadata": {
        "colab": {
          "base_uri": "https://localhost:8080/",
          "height": 341
        },
        "id": "iNxlJUKUgWKJ",
        "outputId": "407126b7-0b17-4c8f-a724-7c10a720bb93"
      },
      "source": [
        "df.groupby('member_casual')['ride_id'].count().plot(kind = 'bar')"
      ],
      "id": "iNxlJUKUgWKJ",
      "execution_count": 37,
      "outputs": [
        {
          "output_type": "execute_result",
          "data": {
            "text/plain": [
              "<matplotlib.axes._subplots.AxesSubplot at 0x7f7508e84550>"
            ]
          },
          "metadata": {},
          "execution_count": 37
        },
        {
          "output_type": "display_data",
          "data": {
            "image/png": "[encoded data removed]",
            "text/plain": [
              "<Figure size 432x288 with 1 Axes>"
            ]
          },
          "metadata": {
            "needs_background": "light"
          }
        }
      ]
    },
    {
      "cell_type": "code",
      "metadata": {
        "id": "5nfkwgI0Ujhl"
      },
      "source": [
        "# df.to_csv('/content/drive/MyDrive/Colab Notebooks/Cyclistic/Data/final_rides.csv')"
      ],
      "id": "5nfkwgI0Ujhl",
      "execution_count": null,
      "outputs": []
    },
    {
      "cell_type": "code",
      "metadata": {
        "id": "0kuJIjGXczVK"
      },
      "source": [
        "# df = pd.read_csv('/content/drive/MyDrive/Colab Notebooks/Cyclistic/Data/final_rides.csv')"
      ],
      "id": "0kuJIjGXczVK",
      "execution_count": null,
      "outputs": []
    },
    {
      "cell_type": "code",
      "metadata": {
        "colab": {
          "base_uri": "https://localhost:8080/",
          "height": 790
        },
        "id": "fp3ECgilqSH8",
        "outputId": "bd0dad87-5bd7-47a1-df1c-7408f375b9b9"
      },
      "source": [
        "df"
      ],
      "id": "fp3ECgilqSH8",
      "execution_count": 38,
      "outputs": [
        {
          "output_type": "execute_result",
          "data": {
            "text/html": [
              "<div>\n",
              "<style scoped>\n",
              "    .dataframe tbody tr th:only-of-type {\n",
              "        vertical-align: middle;\n",
              "    }\n",
              "\n",
              "    .dataframe tbody tr th {\n",
              "        vertical-align: top;\n",
              "    }\n",
              "\n",
              "    .dataframe thead th {\n",
              "        text-align: right;\n",
              "    }\n",
              "</style>\n",
              "<table border=\"1\" class=\"dataframe\">\n",
              "  <thead>\n",
              "    <tr style=\"text-align: right;\">\n",
              "      <th></th>\n",
              "      <th>ride_id</th>\n",
              "      <th>rideable_type</th>\n",
              "      <th>started_at</th>\n",
              "      <th>ended_at</th>\n",
              "      <th>start_station_name</th>\n",
              "      <th>start_station_id</th>\n",
              "      <th>end_station_name</th>\n",
              "      <th>end_station_id</th>\n",
              "      <th>start_lat</th>\n",
              "      <th>start_lng</th>\n",
              "      <th>end_lat</th>\n",
              "      <th>end_lng</th>\n",
              "      <th>member_casual</th>\n",
              "      <th>ride_length</th>\n",
              "      <th>ride_month</th>\n",
              "      <th>ride_weekday</th>\n",
              "      <th>ride_time</th>\n",
              "      <th>ride_weekday_no</th>\n",
              "      <th>ride_month_no</th>\n",
              "      <th>distance</th>\n",
              "      <th>ride_length_min</th>\n",
              "      <th>start_geometry</th>\n",
              "      <th>end_geometry</th>\n",
              "      <th>ride_time_sec</th>\n",
              "    </tr>\n",
              "  </thead>\n",
              "  <tbody>\n",
              "    <tr>\n",
              "      <th>0</th>\n",
              "      <td>A847FADBBC638E45</td>\n",
              "      <td>docked_bike</td>\n",
              "      <td>2020-04-26 17:45:14</td>\n",
              "      <td>2020-04-26 18:12:03</td>\n",
              "      <td>Eckhart Park</td>\n",
              "      <td>86</td>\n",
              "      <td>Lincoln Ave &amp; Diversey Pkwy</td>\n",
              "      <td>152.0</td>\n",
              "      <td>41.896400</td>\n",
              "      <td>-87.661000</td>\n",
              "      <td>41.932200</td>\n",
              "      <td>-87.658600</td>\n",
              "      <td>member</td>\n",
              "      <td>0 days 00:26:49</td>\n",
              "      <td>April</td>\n",
              "      <td>Sunday</td>\n",
              "      <td>17</td>\n",
              "      <td>6</td>\n",
              "      <td>4</td>\n",
              "      <td>3.98</td>\n",
              "      <td>26.8167</td>\n",
              "      <td>POINT (-87.66100 41.89640)</td>\n",
              "      <td>POINT (-87.65860 41.93220)</td>\n",
              "      <td>1609.0</td>\n",
              "    </tr>\n",
              "    <tr>\n",
              "      <th>1</th>\n",
              "      <td>5405B80E996FF60D</td>\n",
              "      <td>docked_bike</td>\n",
              "      <td>2020-04-17 17:08:54</td>\n",
              "      <td>2020-04-17 17:17:03</td>\n",
              "      <td>Drake Ave &amp; Fullerton Ave</td>\n",
              "      <td>503</td>\n",
              "      <td>Kosciuszko Park</td>\n",
              "      <td>499.0</td>\n",
              "      <td>41.924400</td>\n",
              "      <td>-87.715400</td>\n",
              "      <td>41.930600</td>\n",
              "      <td>-87.723800</td>\n",
              "      <td>member</td>\n",
              "      <td>0 days 00:08:09</td>\n",
              "      <td>April</td>\n",
              "      <td>Friday</td>\n",
              "      <td>17</td>\n",
              "      <td>4</td>\n",
              "      <td>4</td>\n",
              "      <td>0.98</td>\n",
              "      <td>8.1500</td>\n",
              "      <td>POINT (-87.71540 41.92440)</td>\n",
              "      <td>POINT (-87.72380 41.93060)</td>\n",
              "      <td>489.0</td>\n",
              "    </tr>\n",
              "    <tr>\n",
              "      <th>2</th>\n",
              "      <td>5DD24A79A4E006F4</td>\n",
              "      <td>docked_bike</td>\n",
              "      <td>2020-04-01 17:54:13</td>\n",
              "      <td>2020-04-01 18:08:36</td>\n",
              "      <td>McClurg Ct &amp; Erie St</td>\n",
              "      <td>142</td>\n",
              "      <td>Indiana Ave &amp; Roosevelt Rd</td>\n",
              "      <td>255.0</td>\n",
              "      <td>41.894500</td>\n",
              "      <td>-87.617900</td>\n",
              "      <td>41.867900</td>\n",
              "      <td>-87.623000</td>\n",
              "      <td>member</td>\n",
              "      <td>0 days 00:14:23</td>\n",
              "      <td>April</td>\n",
              "      <td>Wednesday</td>\n",
              "      <td>17</td>\n",
              "      <td>2</td>\n",
              "      <td>4</td>\n",
              "      <td>2.99</td>\n",
              "      <td>14.3833</td>\n",
              "      <td>POINT (-87.61790 41.89450)</td>\n",
              "      <td>POINT (-87.62300 41.86790)</td>\n",
              "      <td>863.0</td>\n",
              "    </tr>\n",
              "    <tr>\n",
              "      <th>3</th>\n",
              "      <td>2A59BBDF5CDBA725</td>\n",
              "      <td>docked_bike</td>\n",
              "      <td>2020-04-07 12:50:19</td>\n",
              "      <td>2020-04-07 13:02:31</td>\n",
              "      <td>California Ave &amp; Division St</td>\n",
              "      <td>216</td>\n",
              "      <td>Wood St &amp; Augusta Blvd</td>\n",
              "      <td>657.0</td>\n",
              "      <td>41.903000</td>\n",
              "      <td>-87.697500</td>\n",
              "      <td>41.899200</td>\n",
              "      <td>-87.672200</td>\n",
              "      <td>member</td>\n",
              "      <td>0 days 00:12:12</td>\n",
              "      <td>April</td>\n",
              "      <td>Tuesday</td>\n",
              "      <td>12</td>\n",
              "      <td>1</td>\n",
              "      <td>4</td>\n",
              "      <td>2.13</td>\n",
              "      <td>12.2000</td>\n",
              "      <td>POINT (-87.69750 41.90300)</td>\n",
              "      <td>POINT (-87.67220 41.89920)</td>\n",
              "      <td>732.0</td>\n",
              "    </tr>\n",
              "    <tr>\n",
              "      <th>4</th>\n",
              "      <td>27AD306C119C6158</td>\n",
              "      <td>docked_bike</td>\n",
              "      <td>2020-04-18 10:22:59</td>\n",
              "      <td>2020-04-18 11:15:54</td>\n",
              "      <td>Rush St &amp; Hubbard St</td>\n",
              "      <td>125</td>\n",
              "      <td>Sheridan Rd &amp; Lawrence Ave</td>\n",
              "      <td>323.0</td>\n",
              "      <td>41.890200</td>\n",
              "      <td>-87.626200</td>\n",
              "      <td>41.969500</td>\n",
              "      <td>-87.654700</td>\n",
              "      <td>casual</td>\n",
              "      <td>0 days 00:52:55</td>\n",
              "      <td>April</td>\n",
              "      <td>Saturday</td>\n",
              "      <td>10</td>\n",
              "      <td>5</td>\n",
              "      <td>4</td>\n",
              "      <td>9.12</td>\n",
              "      <td>52.9167</td>\n",
              "      <td>POINT (-87.62620 41.89020)</td>\n",
              "      <td>POINT (-87.65470 41.96950)</td>\n",
              "      <td>3175.0</td>\n",
              "    </tr>\n",
              "    <tr>\n",
              "      <th>...</th>\n",
              "      <td>...</td>\n",
              "      <td>...</td>\n",
              "      <td>...</td>\n",
              "      <td>...</td>\n",
              "      <td>...</td>\n",
              "      <td>...</td>\n",
              "      <td>...</td>\n",
              "      <td>...</td>\n",
              "      <td>...</td>\n",
              "      <td>...</td>\n",
              "      <td>...</td>\n",
              "      <td>...</td>\n",
              "      <td>...</td>\n",
              "      <td>...</td>\n",
              "      <td>...</td>\n",
              "      <td>...</td>\n",
              "      <td>...</td>\n",
              "      <td>...</td>\n",
              "      <td>...</td>\n",
              "      <td>...</td>\n",
              "      <td>...</td>\n",
              "      <td>...</td>\n",
              "      <td>...</td>\n",
              "      <td>...</td>\n",
              "    </tr>\n",
              "    <tr>\n",
              "      <th>228490</th>\n",
              "      <td>081549DEA616CA22</td>\n",
              "      <td>electric_bike</td>\n",
              "      <td>2021-03-14 01:59:38</td>\n",
              "      <td>2021-03-14 03:13:09</td>\n",
              "      <td>Larrabee St &amp; Armitage Ave</td>\n",
              "      <td>TA1309000006</td>\n",
              "      <td>New St &amp; Illinois St</td>\n",
              "      <td>TA1306000013</td>\n",
              "      <td>41.918129</td>\n",
              "      <td>-87.643749</td>\n",
              "      <td>41.890808</td>\n",
              "      <td>-87.618779</td>\n",
              "      <td>member</td>\n",
              "      <td>0 days 01:13:31</td>\n",
              "      <td>March</td>\n",
              "      <td>Sunday</td>\n",
              "      <td>1</td>\n",
              "      <td>6</td>\n",
              "      <td>3</td>\n",
              "      <td>3.67</td>\n",
              "      <td>73.5167</td>\n",
              "      <td>POINT (-87.64375 41.91813)</td>\n",
              "      <td>POINT (-87.61878 41.89081)</td>\n",
              "      <td>4411.0</td>\n",
              "    </tr>\n",
              "    <tr>\n",
              "      <th>228491</th>\n",
              "      <td>9397BDD14798A1BA</td>\n",
              "      <td>docked_bike</td>\n",
              "      <td>2021-03-20 14:58:56</td>\n",
              "      <td>2021-03-20 17:22:47</td>\n",
              "      <td>Michigan Ave &amp; Oak St</td>\n",
              "      <td>13042</td>\n",
              "      <td>New St &amp; Illinois St</td>\n",
              "      <td>TA1306000013</td>\n",
              "      <td>41.900960</td>\n",
              "      <td>-87.623777</td>\n",
              "      <td>41.890847</td>\n",
              "      <td>-87.618617</td>\n",
              "      <td>casual</td>\n",
              "      <td>0 days 02:23:51</td>\n",
              "      <td>March</td>\n",
              "      <td>Saturday</td>\n",
              "      <td>14</td>\n",
              "      <td>5</td>\n",
              "      <td>3</td>\n",
              "      <td>1.20</td>\n",
              "      <td>143.8500</td>\n",
              "      <td>POINT (-87.62378 41.90096)</td>\n",
              "      <td>POINT (-87.61862 41.89085)</td>\n",
              "      <td>8631.0</td>\n",
              "    </tr>\n",
              "    <tr>\n",
              "      <th>228492</th>\n",
              "      <td>BBBEB8D51AAD40DA</td>\n",
              "      <td>classic_bike</td>\n",
              "      <td>2021-03-02 11:35:10</td>\n",
              "      <td>2021-03-02 11:43:37</td>\n",
              "      <td>Kingsbury St &amp; Kinzie St</td>\n",
              "      <td>KA1503000043</td>\n",
              "      <td>New St &amp; Illinois St</td>\n",
              "      <td>TA1306000013</td>\n",
              "      <td>41.889177</td>\n",
              "      <td>-87.638506</td>\n",
              "      <td>41.890847</td>\n",
              "      <td>-87.618617</td>\n",
              "      <td>member</td>\n",
              "      <td>0 days 00:08:27</td>\n",
              "      <td>March</td>\n",
              "      <td>Tuesday</td>\n",
              "      <td>11</td>\n",
              "      <td>1</td>\n",
              "      <td>3</td>\n",
              "      <td>1.66</td>\n",
              "      <td>8.4500</td>\n",
              "      <td>POINT (-87.63851 41.88918)</td>\n",
              "      <td>POINT (-87.61862 41.89085)</td>\n",
              "      <td>507.0</td>\n",
              "    </tr>\n",
              "    <tr>\n",
              "      <th>228493</th>\n",
              "      <td>637FF754DA0BD9E1</td>\n",
              "      <td>classic_bike</td>\n",
              "      <td>2021-03-09 11:07:36</td>\n",
              "      <td>2021-03-09 11:49:11</td>\n",
              "      <td>Michigan Ave &amp; Oak St</td>\n",
              "      <td>13042</td>\n",
              "      <td>Clark St &amp; Berwyn Ave</td>\n",
              "      <td>KA1504000146</td>\n",
              "      <td>41.900960</td>\n",
              "      <td>-87.623777</td>\n",
              "      <td>41.977997</td>\n",
              "      <td>-87.668047</td>\n",
              "      <td>member</td>\n",
              "      <td>0 days 00:41:35</td>\n",
              "      <td>March</td>\n",
              "      <td>Tuesday</td>\n",
              "      <td>11</td>\n",
              "      <td>1</td>\n",
              "      <td>3</td>\n",
              "      <td>9.31</td>\n",
              "      <td>41.5833</td>\n",
              "      <td>POINT (-87.62378 41.90096)</td>\n",
              "      <td>POINT (-87.66805 41.97800)</td>\n",
              "      <td>2495.0</td>\n",
              "    </tr>\n",
              "    <tr>\n",
              "      <th>228494</th>\n",
              "      <td>F8F43A0B978A7A35</td>\n",
              "      <td>classic_bike</td>\n",
              "      <td>2021-03-01 18:11:57</td>\n",
              "      <td>2021-03-01 18:18:37</td>\n",
              "      <td>Kingsbury St &amp; Kinzie St</td>\n",
              "      <td>KA1503000043</td>\n",
              "      <td>New St &amp; Illinois St</td>\n",
              "      <td>TA1306000013</td>\n",
              "      <td>41.889177</td>\n",
              "      <td>-87.638506</td>\n",
              "      <td>41.890847</td>\n",
              "      <td>-87.618617</td>\n",
              "      <td>member</td>\n",
              "      <td>0 days 00:06:40</td>\n",
              "      <td>March</td>\n",
              "      <td>Monday</td>\n",
              "      <td>18</td>\n",
              "      <td>0</td>\n",
              "      <td>3</td>\n",
              "      <td>1.66</td>\n",
              "      <td>6.6667</td>\n",
              "      <td>POINT (-87.63851 41.88918)</td>\n",
              "      <td>POINT (-87.61862 41.89085)</td>\n",
              "      <td>400.0</td>\n",
              "    </tr>\n",
              "  </tbody>\n",
              "</table>\n",
              "<p>3284416 rows × 24 columns</p>\n",
              "</div>"
            ],
            "text/plain": [
              "                 ride_id  ... ride_time_sec\n",
              "0       A847FADBBC638E45  ...        1609.0\n",
              "1       5405B80E996FF60D  ...         489.0\n",
              "2       5DD24A79A4E006F4  ...         863.0\n",
              "3       2A59BBDF5CDBA725  ...         732.0\n",
              "4       27AD306C119C6158  ...        3175.0\n",
              "...                  ...  ...           ...\n",
              "228490  081549DEA616CA22  ...        4411.0\n",
              "228491  9397BDD14798A1BA  ...        8631.0\n",
              "228492  BBBEB8D51AAD40DA  ...         507.0\n",
              "228493  637FF754DA0BD9E1  ...        2495.0\n",
              "228494  F8F43A0B978A7A35  ...         400.0\n",
              "\n",
              "[3284416 rows x 24 columns]"
            ]
          },
          "metadata": {},
          "execution_count": 38
        }
      ]
    },
    {
      "cell_type": "code",
      "metadata": {
        "colab": {
          "base_uri": "https://localhost:8080/",
          "height": 295
        },
        "id": "bODQNU4dTfFI",
        "outputId": "cfe88090-821d-4bfd-b804-e1900fa236f0"
      },
      "source": [
        "df.groupby(['ride_weekday_no','member_casual'])['ride_id'].count().unstack('member_casual').sort_values('ride_weekday_no').plot(kind = 'bar')     "
      ],
      "id": "bODQNU4dTfFI",
      "execution_count": 39,
      "outputs": [
        {
          "output_type": "execute_result",
          "data": {
            "text/plain": [
              "<matplotlib.axes._subplots.AxesSubplot at 0x7f75087e1610>"
            ]
          },
          "metadata": {},
          "execution_count": 39
        },
        {
          "output_type": "display_data",
          "data": {
            "image/png": "[encoded data removed]",
            "text/plain": [
              "<Figure size 432x288 with 1 Axes>"
            ]
          },
          "metadata": {
            "needs_background": "light"
          }
        }
      ]
    },
    {
      "cell_type": "code",
      "metadata": {
        "colab": {
          "base_uri": "https://localhost:8080/",
          "height": 301
        },
        "id": "8azsWhxwdSMi",
        "outputId": "bde8cf01-0e6c-41f2-b6fa-1b30fdb25106"
      },
      "source": [
        "df.groupby(['ride_month_no','member_casual'])['ride_id'].count().unstack('member_casual').sort_values('ride_month_no').plot(kind = 'bar')     "
      ],
      "id": "8azsWhxwdSMi",
      "execution_count": 40,
      "outputs": [
        {
          "output_type": "execute_result",
          "data": {
            "text/plain": [
              "<matplotlib.axes._subplots.AxesSubplot at 0x7f750884ee10>"
            ]
          },
          "metadata": {},
          "execution_count": 40
        },
        {
          "output_type": "display_data",
          "data": {
            "image/png": "[encoded data removed]",
            "text/plain": [
              "<Figure size 432x288 with 1 Axes>"
            ]
          },
          "metadata": {
            "needs_background": "light"
          }
        }
      ]
    },
    {
      "cell_type": "code",
      "metadata": {
        "id": "fuIy0l3ya9hR"
      },
      "source": [
        "#df['ride_day'] = df.started_at.dt.weekday()"
      ],
      "id": "fuIy0l3ya9hR",
      "execution_count": null,
      "outputs": []
    },
    {
      "cell_type": "code",
      "metadata": {
        "colab": {
          "base_uri": "https://localhost:8080/",
          "height": 399
        },
        "id": "FBr_0fQA1nby",
        "outputId": "022411e5-8eeb-4620-d0de-82a0b0e48216"
      },
      "source": [
        "df.head()"
      ],
      "id": "FBr_0fQA1nby",
      "execution_count": 41,
      "outputs": [
        {
          "output_type": "execute_result",
          "data": {
            "text/html": [
              "<div>\n",
              "<style scoped>\n",
              "    .dataframe tbody tr th:only-of-type {\n",
              "        vertical-align: middle;\n",
              "    }\n",
              "\n",
              "    .dataframe tbody tr th {\n",
              "        vertical-align: top;\n",
              "    }\n",
              "\n",
              "    .dataframe thead th {\n",
              "        text-align: right;\n",
              "    }\n",
              "</style>\n",
              "<table border=\"1\" class=\"dataframe\">\n",
              "  <thead>\n",
              "    <tr style=\"text-align: right;\">\n",
              "      <th></th>\n",
              "      <th>ride_id</th>\n",
              "      <th>rideable_type</th>\n",
              "      <th>started_at</th>\n",
              "      <th>ended_at</th>\n",
              "      <th>start_station_name</th>\n",
              "      <th>start_station_id</th>\n",
              "      <th>end_station_name</th>\n",
              "      <th>end_station_id</th>\n",
              "      <th>start_lat</th>\n",
              "      <th>start_lng</th>\n",
              "      <th>end_lat</th>\n",
              "      <th>end_lng</th>\n",
              "      <th>member_casual</th>\n",
              "      <th>ride_length</th>\n",
              "      <th>ride_month</th>\n",
              "      <th>ride_weekday</th>\n",
              "      <th>ride_time</th>\n",
              "      <th>ride_weekday_no</th>\n",
              "      <th>ride_month_no</th>\n",
              "      <th>distance</th>\n",
              "      <th>ride_length_min</th>\n",
              "      <th>start_geometry</th>\n",
              "      <th>end_geometry</th>\n",
              "      <th>ride_time_sec</th>\n",
              "    </tr>\n",
              "  </thead>\n",
              "  <tbody>\n",
              "    <tr>\n",
              "      <th>0</th>\n",
              "      <td>A847FADBBC638E45</td>\n",
              "      <td>docked_bike</td>\n",
              "      <td>2020-04-26 17:45:14</td>\n",
              "      <td>2020-04-26 18:12:03</td>\n",
              "      <td>Eckhart Park</td>\n",
              "      <td>86</td>\n",
              "      <td>Lincoln Ave &amp; Diversey Pkwy</td>\n",
              "      <td>152.0</td>\n",
              "      <td>41.8964</td>\n",
              "      <td>-87.6610</td>\n",
              "      <td>41.9322</td>\n",
              "      <td>-87.6586</td>\n",
              "      <td>member</td>\n",
              "      <td>0 days 00:26:49</td>\n",
              "      <td>April</td>\n",
              "      <td>Sunday</td>\n",
              "      <td>17</td>\n",
              "      <td>6</td>\n",
              "      <td>4</td>\n",
              "      <td>3.98</td>\n",
              "      <td>26.8167</td>\n",
              "      <td>POINT (-87.66100 41.89640)</td>\n",
              "      <td>POINT (-87.65860 41.93220)</td>\n",
              "      <td>1609.0</td>\n",
              "    </tr>\n",
              "    <tr>\n",
              "      <th>1</th>\n",
              "      <td>5405B80E996FF60D</td>\n",
              "      <td>docked_bike</td>\n",
              "      <td>2020-04-17 17:08:54</td>\n",
              "      <td>2020-04-17 17:17:03</td>\n",
              "      <td>Drake Ave &amp; Fullerton Ave</td>\n",
              "      <td>503</td>\n",
              "      <td>Kosciuszko Park</td>\n",
              "      <td>499.0</td>\n",
              "      <td>41.9244</td>\n",
              "      <td>-87.7154</td>\n",
              "      <td>41.9306</td>\n",
              "      <td>-87.7238</td>\n",
              "      <td>member</td>\n",
              "      <td>0 days 00:08:09</td>\n",
              "      <td>April</td>\n",
              "      <td>Friday</td>\n",
              "      <td>17</td>\n",
              "      <td>4</td>\n",
              "      <td>4</td>\n",
              "      <td>0.98</td>\n",
              "      <td>8.1500</td>\n",
              "      <td>POINT (-87.71540 41.92440)</td>\n",
              "      <td>POINT (-87.72380 41.93060)</td>\n",
              "      <td>489.0</td>\n",
              "    </tr>\n",
              "    <tr>\n",
              "      <th>2</th>\n",
              "      <td>5DD24A79A4E006F4</td>\n",
              "      <td>docked_bike</td>\n",
              "      <td>2020-04-01 17:54:13</td>\n",
              "      <td>2020-04-01 18:08:36</td>\n",
              "      <td>McClurg Ct &amp; Erie St</td>\n",
              "      <td>142</td>\n",
              "      <td>Indiana Ave &amp; Roosevelt Rd</td>\n",
              "      <td>255.0</td>\n",
              "      <td>41.8945</td>\n",
              "      <td>-87.6179</td>\n",
              "      <td>41.8679</td>\n",
              "      <td>-87.6230</td>\n",
              "      <td>member</td>\n",
              "      <td>0 days 00:14:23</td>\n",
              "      <td>April</td>\n",
              "      <td>Wednesday</td>\n",
              "      <td>17</td>\n",
              "      <td>2</td>\n",
              "      <td>4</td>\n",
              "      <td>2.99</td>\n",
              "      <td>14.3833</td>\n",
              "      <td>POINT (-87.61790 41.89450)</td>\n",
              "      <td>POINT (-87.62300 41.86790)</td>\n",
              "      <td>863.0</td>\n",
              "    </tr>\n",
              "    <tr>\n",
              "      <th>3</th>\n",
              "      <td>2A59BBDF5CDBA725</td>\n",
              "      <td>docked_bike</td>\n",
              "      <td>2020-04-07 12:50:19</td>\n",
              "      <td>2020-04-07 13:02:31</td>\n",
              "      <td>California Ave &amp; Division St</td>\n",
              "      <td>216</td>\n",
              "      <td>Wood St &amp; Augusta Blvd</td>\n",
              "      <td>657.0</td>\n",
              "      <td>41.9030</td>\n",
              "      <td>-87.6975</td>\n",
              "      <td>41.8992</td>\n",
              "      <td>-87.6722</td>\n",
              "      <td>member</td>\n",
              "      <td>0 days 00:12:12</td>\n",
              "      <td>April</td>\n",
              "      <td>Tuesday</td>\n",
              "      <td>12</td>\n",
              "      <td>1</td>\n",
              "      <td>4</td>\n",
              "      <td>2.13</td>\n",
              "      <td>12.2000</td>\n",
              "      <td>POINT (-87.69750 41.90300)</td>\n",
              "      <td>POINT (-87.67220 41.89920)</td>\n",
              "      <td>732.0</td>\n",
              "    </tr>\n",
              "    <tr>\n",
              "      <th>4</th>\n",
              "      <td>27AD306C119C6158</td>\n",
              "      <td>docked_bike</td>\n",
              "      <td>2020-04-18 10:22:59</td>\n",
              "      <td>2020-04-18 11:15:54</td>\n",
              "      <td>Rush St &amp; Hubbard St</td>\n",
              "      <td>125</td>\n",
              "      <td>Sheridan Rd &amp; Lawrence Ave</td>\n",
              "      <td>323.0</td>\n",
              "      <td>41.8902</td>\n",
              "      <td>-87.6262</td>\n",
              "      <td>41.9695</td>\n",
              "      <td>-87.6547</td>\n",
              "      <td>casual</td>\n",
              "      <td>0 days 00:52:55</td>\n",
              "      <td>April</td>\n",
              "      <td>Saturday</td>\n",
              "      <td>10</td>\n",
              "      <td>5</td>\n",
              "      <td>4</td>\n",
              "      <td>9.12</td>\n",
              "      <td>52.9167</td>\n",
              "      <td>POINT (-87.62620 41.89020)</td>\n",
              "      <td>POINT (-87.65470 41.96950)</td>\n",
              "      <td>3175.0</td>\n",
              "    </tr>\n",
              "  </tbody>\n",
              "</table>\n",
              "</div>"
            ],
            "text/plain": [
              "            ride_id rideable_type  ...                end_geometry ride_time_sec\n",
              "0  A847FADBBC638E45   docked_bike  ...  POINT (-87.65860 41.93220)        1609.0\n",
              "1  5405B80E996FF60D   docked_bike  ...  POINT (-87.72380 41.93060)         489.0\n",
              "2  5DD24A79A4E006F4   docked_bike  ...  POINT (-87.62300 41.86790)         863.0\n",
              "3  2A59BBDF5CDBA725   docked_bike  ...  POINT (-87.67220 41.89920)         732.0\n",
              "4  27AD306C119C6158   docked_bike  ...  POINT (-87.65470 41.96950)        3175.0\n",
              "\n",
              "[5 rows x 24 columns]"
            ]
          },
          "metadata": {},
          "execution_count": 41
        }
      ]
    },
    {
      "cell_type": "code",
      "metadata": {
        "colab": {
          "base_uri": "https://localhost:8080/",
          "height": 343
        },
        "id": "Sg1eXmfnX7_Z",
        "outputId": "9d10d540-25ad-40eb-99d5-947d001c826a"
      },
      "source": [
        "df.groupby('ride_month')['ride_id'].count().reset_index().sort_values('ride_id',ascending=False).plot(kind = 'bar', x = 'ride_month', y = 'ride_id')"
      ],
      "id": "Sg1eXmfnX7_Z",
      "execution_count": 42,
      "outputs": [
        {
          "output_type": "execute_result",
          "data": {
            "text/plain": [
              "<matplotlib.axes._subplots.AxesSubplot at 0x7f750877ae90>"
            ]
          },
          "metadata": {},
          "execution_count": 42
        },
        {
          "output_type": "display_data",
          "data": {
            "image/png": "[encoded data removed]",
            "text/plain": [
              "<Figure size 432x288 with 1 Axes>"
            ]
          },
          "metadata": {
            "needs_background": "light"
          }
        }
      ]
    },
    {
      "cell_type": "code",
      "metadata": {
        "id": "rwZT7NwCnEns"
      },
      "source": [
        ""
      ],
      "id": "rwZT7NwCnEns",
      "execution_count": 42,
      "outputs": []
    },
    {
      "cell_type": "code",
      "metadata": {
        "id": "zhhrYsZ6a9cd",
        "colab": {
          "base_uri": "https://localhost:8080/",
          "height": 295
        },
        "outputId": "ac785cc3-c865-412c-8ffa-195a3a4db367"
      },
      "source": [
        "df.groupby(['ride_weekday_no','member_casual'])['ride_id'].count().unstack('member_casual').plot(kind='bar')"
      ],
      "id": "zhhrYsZ6a9cd",
      "execution_count": 43,
      "outputs": [
        {
          "output_type": "execute_result",
          "data": {
            "text/plain": [
              "<matplotlib.axes._subplots.AxesSubplot at 0x7f75085e9d90>"
            ]
          },
          "metadata": {},
          "execution_count": 43
        },
        {
          "output_type": "display_data",
          "data": {
            "image/png": "[encoded data removed]",
            "text/plain": [
              "<Figure size 432x288 with 1 Axes>"
            ]
          },
          "metadata": {
            "needs_background": "light"
          }
        }
      ]
    },
    {
      "cell_type": "code",
      "metadata": {
        "id": "QNC1858YmqBI"
      },
      "source": [
        ""
      ],
      "id": "QNC1858YmqBI",
      "execution_count": null,
      "outputs": []
    },
    {
      "cell_type": "code",
      "metadata": {
        "id": "DYjkuH_Wmp-F",
        "colab": {
          "base_uri": "https://localhost:8080/"
        },
        "outputId": "00c686fb-44be-48c4-8b51-12ef6723ad05"
      },
      "source": [
        "df['member_casual'].value_counts()"
      ],
      "id": "DYjkuH_Wmp-F",
      "execution_count": 44,
      "outputs": [
        {
          "output_type": "execute_result",
          "data": {
            "text/plain": [
              "member    1936258\n",
              "casual    1348158\n",
              "Name: member_casual, dtype: int64"
            ]
          },
          "metadata": {},
          "execution_count": 44
        }
      ]
    },
    {
      "cell_type": "code",
      "metadata": {
        "colab": {
          "base_uri": "https://localhost:8080/",
          "height": 349
        },
        "id": "zVZC9r4_i5We",
        "outputId": "fe32cc6c-7127-4e64-92ec-98284f35cdac"
      },
      "source": [
        "df.groupby(['member_casual','ride_weekday_no','rideable_type'])['ride_id'].count().unstack('rideable_type').plot(kind = 'bar')"
      ],
      "id": "zVZC9r4_i5We",
      "execution_count": 45,
      "outputs": [
        {
          "output_type": "execute_result",
          "data": {
            "text/plain": [
              "<matplotlib.axes._subplots.AxesSubplot at 0x7f7508514810>"
            ]
          },
          "metadata": {},
          "execution_count": 45
        },
        {
          "output_type": "display_data",
          "data": {
            "image/png": "[encoded data removed]",
            "text/plain": [
              "<Figure size 432x288 with 1 Axes>"
            ]
          },
          "metadata": {
            "needs_background": "light"
          }
        }
      ]
    },
    {
      "cell_type": "code",
      "metadata": {
        "id": "ZUBS4-Wvmp7f",
        "colab": {
          "base_uri": "https://localhost:8080/",
          "height": 371
        },
        "outputId": "3ad08c38-8a8e-4a30-d648-fc6a047803ba"
      },
      "source": [
        "df.groupby(['member_casual','ride_weekday_no','rideable_type'])['rideable_type'].count().unstack('member_casual').plot(kind = 'bar')"
      ],
      "id": "ZUBS4-Wvmp7f",
      "execution_count": 46,
      "outputs": [
        {
          "output_type": "execute_result",
          "data": {
            "text/plain": [
              "<matplotlib.axes._subplots.AxesSubplot at 0x7f75084098d0>"
            ]
          },
          "metadata": {},
          "execution_count": 46
        },
        {
          "output_type": "display_data",
          "data": {
            "image/png": "[encoded data removed]",
            "text/plain": [
              "<Figure size 432x288 with 1 Axes>"
            ]
          },
          "metadata": {
            "needs_background": "light"
          }
        }
      ]
    },
    {
      "cell_type": "code",
      "metadata": {
        "colab": {
          "base_uri": "https://localhost:8080/",
          "height": 790
        },
        "id": "lPAwJPe3pBqU",
        "outputId": "89128ed2-c191-49f9-bd03-40ff9b0356aa"
      },
      "source": [
        "df"
      ],
      "id": "lPAwJPe3pBqU",
      "execution_count": 47,
      "outputs": [
        {
          "output_type": "execute_result",
          "data": {
            "text/html": [
              "<div>\n",
              "<style scoped>\n",
              "    .dataframe tbody tr th:only-of-type {\n",
              "        vertical-align: middle;\n",
              "    }\n",
              "\n",
              "    .dataframe tbody tr th {\n",
              "        vertical-align: top;\n",
              "    }\n",
              "\n",
              "    .dataframe thead th {\n",
              "        text-align: right;\n",
              "    }\n",
              "</style>\n",
              "<table border=\"1\" class=\"dataframe\">\n",
              "  <thead>\n",
              "    <tr style=\"text-align: right;\">\n",
              "      <th></th>\n",
              "      <th>ride_id</th>\n",
              "      <th>rideable_type</th>\n",
              "      <th>started_at</th>\n",
              "      <th>ended_at</th>\n",
              "      <th>start_station_name</th>\n",
              "      <th>start_station_id</th>\n",
              "      <th>end_station_name</th>\n",
              "      <th>end_station_id</th>\n",
              "      <th>start_lat</th>\n",
              "      <th>start_lng</th>\n",
              "      <th>end_lat</th>\n",
              "      <th>end_lng</th>\n",
              "      <th>member_casual</th>\n",
              "      <th>ride_length</th>\n",
              "      <th>ride_month</th>\n",
              "      <th>ride_weekday</th>\n",
              "      <th>ride_time</th>\n",
              "      <th>ride_weekday_no</th>\n",
              "      <th>ride_month_no</th>\n",
              "      <th>distance</th>\n",
              "      <th>ride_length_min</th>\n",
              "      <th>start_geometry</th>\n",
              "      <th>end_geometry</th>\n",
              "      <th>ride_time_sec</th>\n",
              "    </tr>\n",
              "  </thead>\n",
              "  <tbody>\n",
              "    <tr>\n",
              "      <th>0</th>\n",
              "      <td>A847FADBBC638E45</td>\n",
              "      <td>docked_bike</td>\n",
              "      <td>2020-04-26 17:45:14</td>\n",
              "      <td>2020-04-26 18:12:03</td>\n",
              "      <td>Eckhart Park</td>\n",
              "      <td>86</td>\n",
              "      <td>Lincoln Ave &amp; Diversey Pkwy</td>\n",
              "      <td>152.0</td>\n",
              "      <td>41.896400</td>\n",
              "      <td>-87.661000</td>\n",
              "      <td>41.932200</td>\n",
              "      <td>-87.658600</td>\n",
              "      <td>member</td>\n",
              "      <td>0 days 00:26:49</td>\n",
              "      <td>April</td>\n",
              "      <td>Sunday</td>\n",
              "      <td>17</td>\n",
              "      <td>6</td>\n",
              "      <td>4</td>\n",
              "      <td>3.98</td>\n",
              "      <td>26.8167</td>\n",
              "      <td>POINT (-87.66100 41.89640)</td>\n",
              "      <td>POINT (-87.65860 41.93220)</td>\n",
              "      <td>1609.0</td>\n",
              "    </tr>\n",
              "    <tr>\n",
              "      <th>1</th>\n",
              "      <td>5405B80E996FF60D</td>\n",
              "      <td>docked_bike</td>\n",
              "      <td>2020-04-17 17:08:54</td>\n",
              "      <td>2020-04-17 17:17:03</td>\n",
              "      <td>Drake Ave &amp; Fullerton Ave</td>\n",
              "      <td>503</td>\n",
              "      <td>Kosciuszko Park</td>\n",
              "      <td>499.0</td>\n",
              "      <td>41.924400</td>\n",
              "      <td>-87.715400</td>\n",
              "      <td>41.930600</td>\n",
              "      <td>-87.723800</td>\n",
              "      <td>member</td>\n",
              "      <td>0 days 00:08:09</td>\n",
              "      <td>April</td>\n",
              "      <td>Friday</td>\n",
              "      <td>17</td>\n",
              "      <td>4</td>\n",
              "      <td>4</td>\n",
              "      <td>0.98</td>\n",
              "      <td>8.1500</td>\n",
              "      <td>POINT (-87.71540 41.92440)</td>\n",
              "      <td>POINT (-87.72380 41.93060)</td>\n",
              "      <td>489.0</td>\n",
              "    </tr>\n",
              "    <tr>\n",
              "      <th>2</th>\n",
              "      <td>5DD24A79A4E006F4</td>\n",
              "      <td>docked_bike</td>\n",
              "      <td>2020-04-01 17:54:13</td>\n",
              "      <td>2020-04-01 18:08:36</td>\n",
              "      <td>McClurg Ct &amp; Erie St</td>\n",
              "      <td>142</td>\n",
              "      <td>Indiana Ave &amp; Roosevelt Rd</td>\n",
              "      <td>255.0</td>\n",
              "      <td>41.894500</td>\n",
              "      <td>-87.617900</td>\n",
              "      <td>41.867900</td>\n",
              "      <td>-87.623000</td>\n",
              "      <td>member</td>\n",
              "      <td>0 days 00:14:23</td>\n",
              "      <td>April</td>\n",
              "      <td>Wednesday</td>\n",
              "      <td>17</td>\n",
              "      <td>2</td>\n",
              "      <td>4</td>\n",
              "      <td>2.99</td>\n",
              "      <td>14.3833</td>\n",
              "      <td>POINT (-87.61790 41.89450)</td>\n",
              "      <td>POINT (-87.62300 41.86790)</td>\n",
              "      <td>863.0</td>\n",
              "    </tr>\n",
              "    <tr>\n",
              "      <th>3</th>\n",
              "      <td>2A59BBDF5CDBA725</td>\n",
              "      <td>docked_bike</td>\n",
              "      <td>2020-04-07 12:50:19</td>\n",
              "      <td>2020-04-07 13:02:31</td>\n",
              "      <td>California Ave &amp; Division St</td>\n",
              "      <td>216</td>\n",
              "      <td>Wood St &amp; Augusta Blvd</td>\n",
              "      <td>657.0</td>\n",
              "      <td>41.903000</td>\n",
              "      <td>-87.697500</td>\n",
              "      <td>41.899200</td>\n",
              "      <td>-87.672200</td>\n",
              "      <td>member</td>\n",
              "      <td>0 days 00:12:12</td>\n",
              "      <td>April</td>\n",
              "      <td>Tuesday</td>\n",
              "      <td>12</td>\n",
              "      <td>1</td>\n",
              "      <td>4</td>\n",
              "      <td>2.13</td>\n",
              "      <td>12.2000</td>\n",
              "      <td>POINT (-87.69750 41.90300)</td>\n",
              "      <td>POINT (-87.67220 41.89920)</td>\n",
              "      <td>732.0</td>\n",
              "    </tr>\n",
              "    <tr>\n",
              "      <th>4</th>\n",
              "      <td>27AD306C119C6158</td>\n",
              "      <td>docked_bike</td>\n",
              "      <td>2020-04-18 10:22:59</td>\n",
              "      <td>2020-04-18 11:15:54</td>\n",
              "      <td>Rush St &amp; Hubbard St</td>\n",
              "      <td>125</td>\n",
              "      <td>Sheridan Rd &amp; Lawrence Ave</td>\n",
              "      <td>323.0</td>\n",
              "      <td>41.890200</td>\n",
              "      <td>-87.626200</td>\n",
              "      <td>41.969500</td>\n",
              "      <td>-87.654700</td>\n",
              "      <td>casual</td>\n",
              "      <td>0 days 00:52:55</td>\n",
              "      <td>April</td>\n",
              "      <td>Saturday</td>\n",
              "      <td>10</td>\n",
              "      <td>5</td>\n",
              "      <td>4</td>\n",
              "      <td>9.12</td>\n",
              "      <td>52.9167</td>\n",
              "      <td>POINT (-87.62620 41.89020)</td>\n",
              "      <td>POINT (-87.65470 41.96950)</td>\n",
              "      <td>3175.0</td>\n",
              "    </tr>\n",
              "    <tr>\n",
              "      <th>...</th>\n",
              "      <td>...</td>\n",
              "      <td>...</td>\n",
              "      <td>...</td>\n",
              "      <td>...</td>\n",
              "      <td>...</td>\n",
              "      <td>...</td>\n",
              "      <td>...</td>\n",
              "      <td>...</td>\n",
              "      <td>...</td>\n",
              "      <td>...</td>\n",
              "      <td>...</td>\n",
              "      <td>...</td>\n",
              "      <td>...</td>\n",
              "      <td>...</td>\n",
              "      <td>...</td>\n",
              "      <td>...</td>\n",
              "      <td>...</td>\n",
              "      <td>...</td>\n",
              "      <td>...</td>\n",
              "      <td>...</td>\n",
              "      <td>...</td>\n",
              "      <td>...</td>\n",
              "      <td>...</td>\n",
              "      <td>...</td>\n",
              "    </tr>\n",
              "    <tr>\n",
              "      <th>228490</th>\n",
              "      <td>081549DEA616CA22</td>\n",
              "      <td>electric_bike</td>\n",
              "      <td>2021-03-14 01:59:38</td>\n",
              "      <td>2021-03-14 03:13:09</td>\n",
              "      <td>Larrabee St &amp; Armitage Ave</td>\n",
              "      <td>TA1309000006</td>\n",
              "      <td>New St &amp; Illinois St</td>\n",
              "      <td>TA1306000013</td>\n",
              "      <td>41.918129</td>\n",
              "      <td>-87.643749</td>\n",
              "      <td>41.890808</td>\n",
              "      <td>-87.618779</td>\n",
              "      <td>member</td>\n",
              "      <td>0 days 01:13:31</td>\n",
              "      <td>March</td>\n",
              "      <td>Sunday</td>\n",
              "      <td>1</td>\n",
              "      <td>6</td>\n",
              "      <td>3</td>\n",
              "      <td>3.67</td>\n",
              "      <td>73.5167</td>\n",
              "      <td>POINT (-87.64375 41.91813)</td>\n",
              "      <td>POINT (-87.61878 41.89081)</td>\n",
              "      <td>4411.0</td>\n",
              "    </tr>\n",
              "    <tr>\n",
              "      <th>228491</th>\n",
              "      <td>9397BDD14798A1BA</td>\n",
              "      <td>docked_bike</td>\n",
              "      <td>2021-03-20 14:58:56</td>\n",
              "      <td>2021-03-20 17:22:47</td>\n",
              "      <td>Michigan Ave &amp; Oak St</td>\n",
              "      <td>13042</td>\n",
              "      <td>New St &amp; Illinois St</td>\n",
              "      <td>TA1306000013</td>\n",
              "      <td>41.900960</td>\n",
              "      <td>-87.623777</td>\n",
              "      <td>41.890847</td>\n",
              "      <td>-87.618617</td>\n",
              "      <td>casual</td>\n",
              "      <td>0 days 02:23:51</td>\n",
              "      <td>March</td>\n",
              "      <td>Saturday</td>\n",
              "      <td>14</td>\n",
              "      <td>5</td>\n",
              "      <td>3</td>\n",
              "      <td>1.20</td>\n",
              "      <td>143.8500</td>\n",
              "      <td>POINT (-87.62378 41.90096)</td>\n",
              "      <td>POINT (-87.61862 41.89085)</td>\n",
              "      <td>8631.0</td>\n",
              "    </tr>\n",
              "    <tr>\n",
              "      <th>228492</th>\n",
              "      <td>BBBEB8D51AAD40DA</td>\n",
              "      <td>classic_bike</td>\n",
              "      <td>2021-03-02 11:35:10</td>\n",
              "      <td>2021-03-02 11:43:37</td>\n",
              "      <td>Kingsbury St &amp; Kinzie St</td>\n",
              "      <td>KA1503000043</td>\n",
              "      <td>New St &amp; Illinois St</td>\n",
              "      <td>TA1306000013</td>\n",
              "      <td>41.889177</td>\n",
              "      <td>-87.638506</td>\n",
              "      <td>41.890847</td>\n",
              "      <td>-87.618617</td>\n",
              "      <td>member</td>\n",
              "      <td>0 days 00:08:27</td>\n",
              "      <td>March</td>\n",
              "      <td>Tuesday</td>\n",
              "      <td>11</td>\n",
              "      <td>1</td>\n",
              "      <td>3</td>\n",
              "      <td>1.66</td>\n",
              "      <td>8.4500</td>\n",
              "      <td>POINT (-87.63851 41.88918)</td>\n",
              "      <td>POINT (-87.61862 41.89085)</td>\n",
              "      <td>507.0</td>\n",
              "    </tr>\n",
              "    <tr>\n",
              "      <th>228493</th>\n",
              "      <td>637FF754DA0BD9E1</td>\n",
              "      <td>classic_bike</td>\n",
              "      <td>2021-03-09 11:07:36</td>\n",
              "      <td>2021-03-09 11:49:11</td>\n",
              "      <td>Michigan Ave &amp; Oak St</td>\n",
              "      <td>13042</td>\n",
              "      <td>Clark St &amp; Berwyn Ave</td>\n",
              "      <td>KA1504000146</td>\n",
              "      <td>41.900960</td>\n",
              "      <td>-87.623777</td>\n",
              "      <td>41.977997</td>\n",
              "      <td>-87.668047</td>\n",
              "      <td>member</td>\n",
              "      <td>0 days 00:41:35</td>\n",
              "      <td>March</td>\n",
              "      <td>Tuesday</td>\n",
              "      <td>11</td>\n",
              "      <td>1</td>\n",
              "      <td>3</td>\n",
              "      <td>9.31</td>\n",
              "      <td>41.5833</td>\n",
              "      <td>POINT (-87.62378 41.90096)</td>\n",
              "      <td>POINT (-87.66805 41.97800)</td>\n",
              "      <td>2495.0</td>\n",
              "    </tr>\n",
              "    <tr>\n",
              "      <th>228494</th>\n",
              "      <td>F8F43A0B978A7A35</td>\n",
              "      <td>classic_bike</td>\n",
              "      <td>2021-03-01 18:11:57</td>\n",
              "      <td>2021-03-01 18:18:37</td>\n",
              "      <td>Kingsbury St &amp; Kinzie St</td>\n",
              "      <td>KA1503000043</td>\n",
              "      <td>New St &amp; Illinois St</td>\n",
              "      <td>TA1306000013</td>\n",
              "      <td>41.889177</td>\n",
              "      <td>-87.638506</td>\n",
              "      <td>41.890847</td>\n",
              "      <td>-87.618617</td>\n",
              "      <td>member</td>\n",
              "      <td>0 days 00:06:40</td>\n",
              "      <td>March</td>\n",
              "      <td>Monday</td>\n",
              "      <td>18</td>\n",
              "      <td>0</td>\n",
              "      <td>3</td>\n",
              "      <td>1.66</td>\n",
              "      <td>6.6667</td>\n",
              "      <td>POINT (-87.63851 41.88918)</td>\n",
              "      <td>POINT (-87.61862 41.89085)</td>\n",
              "      <td>400.0</td>\n",
              "    </tr>\n",
              "  </tbody>\n",
              "</table>\n",
              "<p>3284416 rows × 24 columns</p>\n",
              "</div>"
            ],
            "text/plain": [
              "                 ride_id  ... ride_time_sec\n",
              "0       A847FADBBC638E45  ...        1609.0\n",
              "1       5405B80E996FF60D  ...         489.0\n",
              "2       5DD24A79A4E006F4  ...         863.0\n",
              "3       2A59BBDF5CDBA725  ...         732.0\n",
              "4       27AD306C119C6158  ...        3175.0\n",
              "...                  ...  ...           ...\n",
              "228490  081549DEA616CA22  ...        4411.0\n",
              "228491  9397BDD14798A1BA  ...        8631.0\n",
              "228492  BBBEB8D51AAD40DA  ...         507.0\n",
              "228493  637FF754DA0BD9E1  ...        2495.0\n",
              "228494  F8F43A0B978A7A35  ...         400.0\n",
              "\n",
              "[3284416 rows x 24 columns]"
            ]
          },
          "metadata": {},
          "execution_count": 47
        }
      ]
    },
    {
      "cell_type": "code",
      "metadata": {
        "id": "yRWhYDFSl0JR"
      },
      "source": [
        "def generate_map(map_location, map_style, start_lat_col, start_lng_col, start_color, end_lat_col, end_lng_col, end_color):\n",
        "  folium_map = folium.Map(location=map_location,\n",
        "                            zoom_start=11,\n",
        "                            tiles=map_style)\n",
        "  \n",
        "  for index, row in df[:50].iterrows():\n",
        "    folium.CircleMarker(location=(row[start_lat_col],\n",
        "                                      row[start_lng_col]),\n",
        "                            color=start_color,\n",
        "                            radius=5,\n",
        "                            weight=1,\n",
        "                            fill=True).add_to(folium_map)\n",
        "\n",
        "    folium.CircleMarker(location=(row[end_lat_col],\n",
        "                                      row[end_lng_col]),\n",
        "                            color=end_color,\n",
        "                            radius=5,\n",
        "                            weight=1,\n",
        "                            fill=True).add_to(folium_map)\n",
        "\n",
        "  return folium_map\n",
        "\n",
        "  "
      ],
      "id": "yRWhYDFSl0JR",
      "execution_count": 48,
      "outputs": []
    },
    {
      "cell_type": "code",
      "metadata": {
        "id": "qZb8egT6l0Fi",
        "colab": {
          "base_uri": "https://localhost:8080/",
          "height": 531
        },
        "outputId": "e631c7b5-d183-4312-db9f-b23b569e0810"
      },
      "source": [
        "generate_map([41.878100, -87.629800],\"cartodbpositron\",\"start_lat\",\"start_lng\",'#0A8A9F',\"end_lat\",\"end_lng\",'#f68e56')"
      ],
      "id": "qZb8egT6l0Fi",
      "execution_count": 49,
      "outputs": [
        {
          "output_type": "execute_result",
          "data": {
            "text/html": [
              "<div style=\"width:100%;\"><div style=\"position:relative;width:100%;height:0;padding-bottom:60%;\"><span style=\"color:#565656\">Make this Notebook Trusted to load map: File -> Trust Notebook</span><iframe src=\"about:blank\" style=\"position:absolute;width:100%;height:100%;left:0;top:0;border:none !important;\" data-html=%3C%21DOCTYPE%20html%3E%0A%3Chead%3E%20%20%20%20%0A%20%20%20%20%3Cmeta%20http-equiv%3D%22content-type%22%20content%3D%22text/html%3B%20charset%3DUTF-8%22%20/%3E%0A%20%20%20%20%3Cscript%3EL_PREFER_CANVAS%3Dfalse%3B%20L_NO_TOUCH%3Dfalse%3B%20L_DISABLE_3D%3Dfalse%3B%3C/script%3E%0A%20%20%20%20%3Cscript%20src%3D%22https%3A//cdn.jsdelivr.net/npm/leaflet%401.4.0/dist/leaflet.js%22%3E%3C/script%3E%0A%20%20%20%20%3Cscript%20src%3D%22https%3A//code.jquery.com/jquery-1.12.4.min.js%22%3E%3C/script%3E%0A%20%20%20%20%3Cscript%20src%3D%22https%3A//maxcdn.bootstrapcdn.com/bootstrap/3.2.0/js/bootstrap.min.js%22%3E%3C/script%3E%0A%20%20%20%20%3Cscript%20src%3D%22https%3A//cdnjs.cloudflare.com/ajax/libs/Leaflet.awesome-markers/2.0.2/leaflet.awesome-markers.js%22%3E%3C/script%3E%0A%20%20%20%20%3Clink%20rel%3D%22stylesheet%22%20href%3D%22https%3A//cdn.jsdelivr.net/npm/leaflet%401.4.0/dist/leaflet.css%22/%3E%0A%20%20%20%20%3Clink%20rel%3D%22stylesheet%22%20href%3D%22https%3A//maxcdn.bootstrapcdn.com/bootstrap/3.2.0/css/bootstrap.min.css%22/%3E%0A%20%20%20%20%3Clink%20rel%3D%22stylesheet%22%20href%3D%22https%3A//maxcdn.bootstrapcdn.com/bootstrap/3.2.0/css/bootstrap-theme.min.css%22/%3E%0A%20%20%20%20%3Clink%20rel%3D%22stylesheet%22%20href%3D%22https%3A//maxcdn.bootstrapcdn.com/font-awesome/4.6.3/css/font-awesome.min.css%22/%3E%0A%20%20%20%20%3Clink%20rel%3D%22stylesheet%22%20href%3D%22https%3A//cdnjs.cloudflare.com/ajax/libs/Leaflet.awesome-markers/2.0.2/leaflet.awesome-markers.css%22/%3E%0A%20%20%20%20%3Clink%20rel%3D%22stylesheet%22%20href%3D%22https%3A//rawcdn.githack.com/python-visualization/folium/master/folium/templates/leaflet.awesome.rotate.css%22/%3E%0A%20%20%20%20%3Cstyle%3Ehtml%2C%20body%20%7Bwidth%3A%20100%25%3Bheight%3A%20100%25%3Bmargin%3A%200%3Bpadding%3A%200%3B%7D%3C/style%3E%0A%20%20%20%20%3Cstyle%3E%23map%20%7Bposition%3Aabsolute%3Btop%3A0%3Bbottom%3A0%3Bright%3A0%3Bleft%3A0%3B%7D%3C/style%3E%0A%20%20%20%20%0A%20%20%20%20%3Cmeta%20name%3D%22viewport%22%20content%3D%22width%3Ddevice-width%2C%0A%20%20%20%20%20%20%20%20initial-scale%3D1.0%2C%20maximum-scale%3D1.0%2C%20user-scalable%3Dno%22%20/%3E%0A%20%20%20%20%3Cstyle%3E%23map_55dce43f431b40ea80cc01f8f9f96660%20%7B%0A%20%20%20%20%20%20%20%20position%3A%20relative%3B%0A%20%20%20%20%20%20%20%20width%3A%20100.0%25%3B%0A%20%20%20%20%20%20%20%20height%3A%20100.0%25%3B%0A%20%20%20%20%20%20%20%20left%3A%200.0%25%3B%0A%20%20%20%20%20%20%20%20top%3A%200.0%25%3B%0A%20%20%20%20%20%20%20%20%7D%0A%20%20%20%20%3C/style%3E%0A%3C/head%3E%0A%3Cbody%3E%20%20%20%20%0A%20%20%20%20%0A%20%20%20%20%3Cdiv%20class%3D%22folium-map%22%20id%3D%22map_55dce43f431b40ea80cc01f8f9f96660%22%20%3E%3C/div%3E%0A%3C/body%3E%0A%3Cscript%3E%20%20%20%20%0A%20%20%20%20%0A%20%20%20%20%0A%20%20%20%20%20%20%20%20var%20bounds%20%3D%20null%3B%0A%20%20%20%20%0A%0A%20%20%20%20var%20map_55dce43f431b40ea80cc01f8f9f96660%20%3D%20L.map%28%0A%20%20%20%20%20%20%20%20%27map_55dce43f431b40ea80cc01f8f9f96660%27%2C%20%7B%0A%20%20%20%20%20%20%20%20center%3A%20%5B41.8781%2C%20-87.6298%5D%2C%0A%20%20%20%20%20%20%20%20zoom%3A%2011%2C%0A%20%20%20%20%20%20%20%20maxBounds%3A%20bounds%2C%0A%20%20%20%20%20%20%20%20layers%3A%20%5B%5D%2C%0A%20%20%20%20%20%20%20%20worldCopyJump%3A%20false%2C%0A%20%20%20%20%20%20%20%20crs%3A%20L.CRS.EPSG3857%2C%0A%20%20%20%20%20%20%20%20zoomControl%3A%20true%2C%0A%20%20%20%20%20%20%20%20%7D%29%3B%0A%0A%0A%20%20%20%20%0A%20%20%20%20var%20tile_layer_164e4a65642448aa82e48a70bc42a309%20%3D%20L.tileLayer%28%0A%20%20%20%20%20%20%20%20%27https%3A//cartodb-basemaps-%7Bs%7D.global.ssl.fastly.net/light_all/%7Bz%7D/%7Bx%7D/%7By%7D.png%27%2C%0A%20%20%20%20%20%20%20%20%7B%0A%20%20%20%20%20%20%20%20%22attribution%22%3A%20null%2C%0A%20%20%20%20%20%20%20%20%22detectRetina%22%3A%20false%2C%0A%20%20%20%20%20%20%20%20%22maxNativeZoom%22%3A%2018%2C%0A%20%20%20%20%20%20%20%20%22maxZoom%22%3A%2018%2C%0A%20%20%20%20%20%20%20%20%22minZoom%22%3A%200%2C%0A%20%20%20%20%20%20%20%20%22noWrap%22%3A%20false%2C%0A%20%20%20%20%20%20%20%20%22opacity%22%3A%201%2C%0A%20%20%20%20%20%20%20%20%22subdomains%22%3A%20%22abc%22%2C%0A%20%20%20%20%20%20%20%20%22tms%22%3A%20false%0A%7D%29.addTo%28map_55dce43f431b40ea80cc01f8f9f96660%29%3B%0A%20%20%20%20%0A%20%20%20%20%20%20%20%20%20%20%20%20var%20circle_marker_a21f3b8938af4e66b1a574e6ef156de2%20%3D%20L.circleMarker%28%0A%20%20%20%20%20%20%20%20%20%20%20%20%20%20%20%20%5B41.8964%2C%20-87.661%5D%2C%0A%20%20%20%20%20%20%20%20%20%20%20%20%20%20%20%20%7B%0A%20%20%22bubblingMouseEvents%22%3A%20true%2C%0A%20%20%22color%22%3A%20%22%230A8A9F%22%2C%0A%20%20%22dashArray%22%3A%20null%2C%0A%20%20%22dashOffset%22%3A%20null%2C%0A%20%20%22fill%22%3A%20true%2C%0A%20%20%22fillColor%22%3A%20%22%230A8A9F%22%2C%0A%20%20%22fillOpacity%22%3A%200.2%2C%0A%20%20%22fillRule%22%3A%20%22evenodd%22%2C%0A%20%20%22lineCap%22%3A%20%22round%22%2C%0A%20%20%22lineJoin%22%3A%20%22round%22%2C%0A%20%20%22opacity%22%3A%201.0%2C%0A%20%20%22radius%22%3A%205%2C%0A%20%20%22stroke%22%3A%20true%2C%0A%20%20%22weight%22%3A%201%0A%7D%0A%20%20%20%20%20%20%20%20%20%20%20%20%20%20%20%20%29%0A%20%20%20%20%20%20%20%20%20%20%20%20%20%20%20%20.addTo%28map_55dce43f431b40ea80cc01f8f9f96660%29%3B%0A%20%20%20%20%20%20%20%20%20%20%20%20%0A%20%20%20%20%0A%20%20%20%20%20%20%20%20%20%20%20%20var%20circle_marker_252285dbc3a644ca8a8244778164ad8b%20%3D%20L.circleMarker%28%0A%20%20%20%20%20%20%20%20%20%20%20%20%20%20%20%20%5B41.9322%2C%20-87.6586%5D%2C%0A%20%20%20%20%20%20%20%20%20%20%20%20%20%20%20%20%7B%0A%20%20%22bubblingMouseEvents%22%3A%20true%2C%0A%20%20%22color%22%3A%20%22%23f68e56%22%2C%0A%20%20%22dashArray%22%3A%20null%2C%0A%20%20%22dashOffset%22%3A%20null%2C%0A%20%20%22fill%22%3A%20true%2C%0A%20%20%22fillColor%22%3A%20%22%23f68e56%22%2C%0A%20%20%22fillOpacity%22%3A%200.2%2C%0A%20%20%22fillRule%22%3A%20%22evenodd%22%2C%0A%20%20%22lineCap%22%3A%20%22round%22%2C%0A%20%20%22lineJoin%22%3A%20%22round%22%2C%0A%20%20%22opacity%22%3A%201.0%2C%0A%20%20%22radius%22%3A%205%2C%0A%20%20%22stroke%22%3A%20true%2C%0A%20%20%22weight%22%3A%201%0A%7D%0A%20%20%20%20%20%20%20%20%20%20%20%20%20%20%20%20%29%0A%20%20%20%20%20%20%20%20%20%20%20%20%20%20%20%20.addTo%28map_55dce43f431b40ea80cc01f8f9f96660%29%3B%0A%20%20%20%20%20%20%20%20%20%20%20%20%0A%20%20%20%20%0A%20%20%20%20%20%20%20%20%20%20%20%20var%20circle_marker_b397df2a0f694a2082c4f4906e821196%20%3D%20L.circleMarker%28%0A%20%20%20%20%20%20%20%20%20%20%20%20%20%20%20%20%5B41.9244%2C%20-87.7154%5D%2C%0A%20%20%20%20%20%20%20%20%20%20%20%20%20%20%20%20%7B%0A%20%20%22bubblingMouseEvents%22%3A%20true%2C%0A%20%20%22color%22%3A%20%22%230A8A9F%22%2C%0A%20%20%22dashArray%22%3A%20null%2C%0A%20%20%22dashOffset%22%3A%20null%2C%0A%20%20%22fill%22%3A%20true%2C%0A%20%20%22fillColor%22%3A%20%22%230A8A9F%22%2C%0A%20%20%22fillOpacity%22%3A%200.2%2C%0A%20%20%22fillRule%22%3A%20%22evenodd%22%2C%0A%20%20%22lineCap%22%3A%20%22round%22%2C%0A%20%20%22lineJoin%22%3A%20%22round%22%2C%0A%20%20%22opacity%22%3A%201.0%2C%0A%20%20%22radius%22%3A%205%2C%0A%20%20%22stroke%22%3A%20true%2C%0A%20%20%22weight%22%3A%201%0A%7D%0A%20%20%20%20%20%20%20%20%20%20%20%20%20%20%20%20%29%0A%20%20%20%20%20%20%20%20%20%20%20%20%20%20%20%20.addTo%28map_55dce43f431b40ea80cc01f8f9f96660%29%3B%0A%20%20%20%20%20%20%20%20%20%20%20%20%0A%20%20%20%20%0A%20%20%20%20%20%20%20%20%20%20%20%20var%20circle_marker_03caf811ba234d7ebf4b4dadb9e681f0%20%3D%20L.circleMarker%28%0A%20%20%20%20%20%20%20%20%20%20%20%20%20%20%20%20%5B41.9306%2C%20-87.7238%5D%2C%0A%20%20%20%20%20%20%20%20%20%20%20%20%20%20%20%20%7B%0A%20%20%22bubblingMouseEvents%22%3A%20true%2C%0A%20%20%22color%22%3A%20%22%23f68e56%22%2C%0A%20%20%22dashArray%22%3A%20null%2C%0A%20%20%22dashOffset%22%3A%20null%2C%0A%20%20%22fill%22%3A%20true%2C%0A%20%20%22fillColor%22%3A%20%22%23f68e56%22%2C%0A%20%20%22fillOpacity%22%3A%200.2%2C%0A%20%20%22fillRule%22%3A%20%22evenodd%22%2C%0A%20%20%22lineCap%22%3A%20%22round%22%2C%0A%20%20%22lineJoin%22%3A%20%22round%22%2C%0A%20%20%22opacity%22%3A%201.0%2C%0A%20%20%22radius%22%3A%205%2C%0A%20%20%22stroke%22%3A%20true%2C%0A%20%20%22weight%22%3A%201%0A%7D%0A%20%20%20%20%20%20%20%20%20%20%20%20%20%20%20%20%29%0A%20%20%20%20%20%20%20%20%20%20%20%20%20%20%20%20.addTo%28map_55dce43f431b40ea80cc01f8f9f96660%29%3B%0A%20%20%20%20%20%20%20%20%20%20%20%20%0A%20%20%20%20%0A%20%20%20%20%20%20%20%20%20%20%20%20var%20circle_marker_7e822a9547f141f0a98411018c803a41%20%3D%20L.circleMarker%28%0A%20%20%20%20%20%20%20%20%20%20%20%20%20%20%20%20%5B41.8945%2C%20-87.6179%5D%2C%0A%20%20%20%20%20%20%20%20%20%20%20%20%20%20%20%20%7B%0A%20%20%22bubblingMouseEvents%22%3A%20true%2C%0A%20%20%22color%22%3A%20%22%230A8A9F%22%2C%0A%20%20%22dashArray%22%3A%20null%2C%0A%20%20%22dashOffset%22%3A%20null%2C%0A%20%20%22fill%22%3A%20true%2C%0A%20%20%22fillColor%22%3A%20%22%230A8A9F%22%2C%0A%20%20%22fillOpacity%22%3A%200.2%2C%0A%20%20%22fillRule%22%3A%20%22evenodd%22%2C%0A%20%20%22lineCap%22%3A%20%22round%22%2C%0A%20%20%22lineJoin%22%3A%20%22round%22%2C%0A%20%20%22opacity%22%3A%201.0%2C%0A%20%20%22radius%22%3A%205%2C%0A%20%20%22stroke%22%3A%20true%2C%0A%20%20%22weight%22%3A%201%0A%7D%0A%20%20%20%20%20%20%20%20%20%20%20%20%20%20%20%20%29%0A%20%20%20%20%20%20%20%20%20%20%20%20%20%20%20%20.addTo%28map_55dce43f431b40ea80cc01f8f9f96660%29%3B%0A%20%20%20%20%20%20%20%20%20%20%20%20%0A%20%20%20%20%0A%20%20%20%20%20%20%20%20%20%20%20%20var%20circle_marker_e0d06f9f47084cf78e16663af88e1a74%20%3D%20L.circleMarker%28%0A%20%20%20%20%20%20%20%20%20%20%20%20%20%20%20%20%5B41.8679%2C%20-87.62299999999999%5D%2C%0A%20%20%20%20%20%20%20%20%20%20%20%20%20%20%20%20%7B%0A%20%20%22bubblingMouseEvents%22%3A%20true%2C%0A%20%20%22color%22%3A%20%22%23f68e56%22%2C%0A%20%20%22dashArray%22%3A%20null%2C%0A%20%20%22dashOffset%22%3A%20null%2C%0A%20%20%22fill%22%3A%20true%2C%0A%20%20%22fillColor%22%3A%20%22%23f68e56%22%2C%0A%20%20%22fillOpacity%22%3A%200.2%2C%0A%20%20%22fillRule%22%3A%20%22evenodd%22%2C%0A%20%20%22lineCap%22%3A%20%22round%22%2C%0A%20%20%22lineJoin%22%3A%20%22round%22%2C%0A%20%20%22opacity%22%3A%201.0%2C%0A%20%20%22radius%22%3A%205%2C%0A%20%20%22stroke%22%3A%20true%2C%0A%20%20%22weight%22%3A%201%0A%7D%0A%20%20%20%20%20%20%20%20%20%20%20%20%20%20%20%20%29%0A%20%20%20%20%20%20%20%20%20%20%20%20%20%20%20%20.addTo%28map_55dce43f431b40ea80cc01f8f9f96660%29%3B%0A%20%20%20%20%20%20%20%20%20%20%20%20%0A%20%20%20%20%0A%20%20%20%20%20%20%20%20%20%20%20%20var%20circle_marker_3fbd65ab9d3349639f04290e75f6402d%20%3D%20L.circleMarker%28%0A%20%20%20%20%20%20%20%20%20%20%20%20%20%20%20%20%5B41.903%2C%20-87.6975%5D%2C%0A%20%20%20%20%20%20%20%20%20%20%20%20%20%20%20%20%7B%0A%20%20%22bubblingMouseEvents%22%3A%20true%2C%0A%20%20%22color%22%3A%20%22%230A8A9F%22%2C%0A%20%20%22dashArray%22%3A%20null%2C%0A%20%20%22dashOffset%22%3A%20null%2C%0A%20%20%22fill%22%3A%20true%2C%0A%20%20%22fillColor%22%3A%20%22%230A8A9F%22%2C%0A%20%20%22fillOpacity%22%3A%200.2%2C%0A%20%20%22fillRule%22%3A%20%22evenodd%22%2C%0A%20%20%22lineCap%22%3A%20%22round%22%2C%0A%20%20%22lineJoin%22%3A%20%22round%22%2C%0A%20%20%22opacity%22%3A%201.0%2C%0A%20%20%22radius%22%3A%205%2C%0A%20%20%22stroke%22%3A%20true%2C%0A%20%20%22weight%22%3A%201%0A%7D%0A%20%20%20%20%20%20%20%20%20%20%20%20%20%20%20%20%29%0A%20%20%20%20%20%20%20%20%20%20%20%20%20%20%20%20.addTo%28map_55dce43f431b40ea80cc01f8f9f96660%29%3B%0A%20%20%20%20%20%20%20%20%20%20%20%20%0A%20%20%20%20%0A%20%20%20%20%20%20%20%20%20%20%20%20var%20circle_marker_48f43bc5123645a9ad384e579a7ad4be%20%3D%20L.circleMarker%28%0A%20%20%20%20%20%20%20%20%20%20%20%20%20%20%20%20%5B41.8992%2C%20-87.6722%5D%2C%0A%20%20%20%20%20%20%20%20%20%20%20%20%20%20%20%20%7B%0A%20%20%22bubblingMouseEvents%22%3A%20true%2C%0A%20%20%22color%22%3A%20%22%23f68e56%22%2C%0A%20%20%22dashArray%22%3A%20null%2C%0A%20%20%22dashOffset%22%3A%20null%2C%0A%20%20%22fill%22%3A%20true%2C%0A%20%20%22fillColor%22%3A%20%22%23f68e56%22%2C%0A%20%20%22fillOpacity%22%3A%200.2%2C%0A%20%20%22fillRule%22%3A%20%22evenodd%22%2C%0A%20%20%22lineCap%22%3A%20%22round%22%2C%0A%20%20%22lineJoin%22%3A%20%22round%22%2C%0A%20%20%22opacity%22%3A%201.0%2C%0A%20%20%22radius%22%3A%205%2C%0A%20%20%22stroke%22%3A%20true%2C%0A%20%20%22weight%22%3A%201%0A%7D%0A%20%20%20%20%20%20%20%20%20%20%20%20%20%20%20%20%29%0A%20%20%20%20%20%20%20%20%20%20%20%20%20%20%20%20.addTo%28map_55dce43f431b40ea80cc01f8f9f96660%29%3B%0A%20%20%20%20%20%20%20%20%20%20%20%20%0A%20%20%20%20%0A%20%20%20%20%20%20%20%20%20%20%20%20var%20circle_marker_dce63d7d8f974c5f9727db506d1a30e6%20%3D%20L.circleMarker%28%0A%20%20%20%20%20%20%20%20%20%20%20%20%20%20%20%20%5B41.8902%2C%20-87.6262%5D%2C%0A%20%20%20%20%20%20%20%20%20%20%20%20%20%20%20%20%7B%0A%20%20%22bubblingMouseEvents%22%3A%20true%2C%0A%20%20%22color%22%3A%20%22%230A8A9F%22%2C%0A%20%20%22dashArray%22%3A%20null%2C%0A%20%20%22dashOffset%22%3A%20null%2C%0A%20%20%22fill%22%3A%20true%2C%0A%20%20%22fillColor%22%3A%20%22%230A8A9F%22%2C%0A%20%20%22fillOpacity%22%3A%200.2%2C%0A%20%20%22fillRule%22%3A%20%22evenodd%22%2C%0A%20%20%22lineCap%22%3A%20%22round%22%2C%0A%20%20%22lineJoin%22%3A%20%22round%22%2C%0A%20%20%22opacity%22%3A%201.0%2C%0A%20%20%22radius%22%3A%205%2C%0A%20%20%22stroke%22%3A%20true%2C%0A%20%20%22weight%22%3A%201%0A%7D%0A%20%20%20%20%20%20%20%20%20%20%20%20%20%20%20%20%29%0A%20%20%20%20%20%20%20%20%20%20%20%20%20%20%20%20.addTo%28map_55dce43f431b40ea80cc01f8f9f96660%29%3B%0A%20%20%20%20%20%20%20%20%20%20%20%20%0A%20%20%20%20%0A%20%20%20%20%20%20%20%20%20%20%20%20var%20circle_marker_2467bf02f6ae416a8f8da7fa2bf6d8e0%20%3D%20L.circleMarker%28%0A%20%20%20%20%20%20%20%20%20%20%20%20%20%20%20%20%5B41.9695%2C%20-87.6547%5D%2C%0A%20%20%20%20%20%20%20%20%20%20%20%20%20%20%20%20%7B%0A%20%20%22bubblingMouseEvents%22%3A%20true%2C%0A%20%20%22color%22%3A%20%22%23f68e56%22%2C%0A%20%20%22dashArray%22%3A%20null%2C%0A%20%20%22dashOffset%22%3A%20null%2C%0A%20%20%22fill%22%3A%20true%2C%0A%20%20%22fillColor%22%3A%20%22%23f68e56%22%2C%0A%20%20%22fillOpacity%22%3A%200.2%2C%0A%20%20%22fillRule%22%3A%20%22evenodd%22%2C%0A%20%20%22lineCap%22%3A%20%22round%22%2C%0A%20%20%22lineJoin%22%3A%20%22round%22%2C%0A%20%20%22opacity%22%3A%201.0%2C%0A%20%20%22radius%22%3A%205%2C%0A%20%20%22stroke%22%3A%20true%2C%0A%20%20%22weight%22%3A%201%0A%7D%0A%20%20%20%20%20%20%20%20%20%20%20%20%20%20%20%20%29%0A%20%20%20%20%20%20%20%20%20%20%20%20%20%20%20%20.addTo%28map_55dce43f431b40ea80cc01f8f9f96660%29%3B%0A%20%20%20%20%20%20%20%20%20%20%20%20%0A%20%20%20%20%0A%20%20%20%20%20%20%20%20%20%20%20%20var%20circle_marker_2e5061792f7d4befb9a286af62f8a81b%20%3D%20L.circleMarker%28%0A%20%20%20%20%20%20%20%20%20%20%20%20%20%20%20%20%5B41.8969%2C%20-87.6217%5D%2C%0A%20%20%20%20%20%20%20%20%20%20%20%20%20%20%20%20%7B%0A%20%20%22bubblingMouseEvents%22%3A%20true%2C%0A%20%20%22color%22%3A%20%22%230A8A9F%22%2C%0A%20%20%22dashArray%22%3A%20null%2C%0A%20%20%22dashOffset%22%3A%20null%2C%0A%20%20%22fill%22%3A%20true%2C%0A%20%20%22fillColor%22%3A%20%22%230A8A9F%22%2C%0A%20%20%22fillOpacity%22%3A%200.2%2C%0A%20%20%22fillRule%22%3A%20%22evenodd%22%2C%0A%20%20%22lineCap%22%3A%20%22round%22%2C%0A%20%20%22lineJoin%22%3A%20%22round%22%2C%0A%20%20%22opacity%22%3A%201.0%2C%0A%20%20%22radius%22%3A%205%2C%0A%20%20%22stroke%22%3A%20true%2C%0A%20%20%22weight%22%3A%201%0A%7D%0A%20%20%20%20%20%20%20%20%20%20%20%20%20%20%20%20%29%0A%20%20%20%20%20%20%20%20%20%20%20%20%20%20%20%20.addTo%28map_55dce43f431b40ea80cc01f8f9f96660%29%3B%0A%20%20%20%20%20%20%20%20%20%20%20%20%0A%20%20%20%20%0A%20%20%20%20%20%20%20%20%20%20%20%20var%20circle_marker_2648b392b75e45b99e8c0536d87b494c%20%3D%20L.circleMarker%28%0A%20%20%20%20%20%20%20%20%20%20%20%20%20%20%20%20%5B41.8923%2C%20-87.61200000000001%5D%2C%0A%20%20%20%20%20%20%20%20%20%20%20%20%20%20%20%20%7B%0A%20%20%22bubblingMouseEvents%22%3A%20true%2C%0A%20%20%22color%22%3A%20%22%23f68e56%22%2C%0A%20%20%22dashArray%22%3A%20null%2C%0A%20%20%22dashOffset%22%3A%20null%2C%0A%20%20%22fill%22%3A%20true%2C%0A%20%20%22fillColor%22%3A%20%22%23f68e56%22%2C%0A%20%20%22fillOpacity%22%3A%200.2%2C%0A%20%20%22fillRule%22%3A%20%22evenodd%22%2C%0A%20%20%22lineCap%22%3A%20%22round%22%2C%0A%20%20%22lineJoin%22%3A%20%22round%22%2C%0A%20%20%22opacity%22%3A%201.0%2C%0A%20%20%22radius%22%3A%205%2C%0A%20%20%22stroke%22%3A%20true%2C%0A%20%20%22weight%22%3A%201%0A%7D%0A%20%20%20%20%20%20%20%20%20%20%20%20%20%20%20%20%29%0A%20%20%20%20%20%20%20%20%20%20%20%20%20%20%20%20.addTo%28map_55dce43f431b40ea80cc01f8f9f96660%29%3B%0A%20%20%20%20%20%20%20%20%20%20%20%20%0A%20%20%20%20%0A%20%20%20%20%20%20%20%20%20%20%20%20var%20circle_marker_d8bf9d3f843d4fbbada58c02e033e4a9%20%3D%20L.circleMarker%28%0A%20%20%20%20%20%20%20%20%20%20%20%20%20%20%20%20%5B41.8923%2C%20-87.61200000000001%5D%2C%0A%20%20%20%20%20%20%20%20%20%20%20%20%20%20%20%20%7B%0A%20%20%22bubblingMouseEvents%22%3A%20true%2C%0A%20%20%22color%22%3A%20%22%230A8A9F%22%2C%0A%20%20%22dashArray%22%3A%20null%2C%0A%20%20%22dashOffset%22%3A%20null%2C%0A%20%20%22fill%22%3A%20true%2C%0A%20%20%22fillColor%22%3A%20%22%230A8A9F%22%2C%0A%20%20%22fillOpacity%22%3A%200.2%2C%0A%20%20%22fillRule%22%3A%20%22evenodd%22%2C%0A%20%20%22lineCap%22%3A%20%22round%22%2C%0A%20%20%22lineJoin%22%3A%20%22round%22%2C%0A%20%20%22opacity%22%3A%201.0%2C%0A%20%20%22radius%22%3A%205%2C%0A%20%20%22stroke%22%3A%20true%2C%0A%20%20%22weight%22%3A%201%0A%7D%0A%20%20%20%20%20%20%20%20%20%20%20%20%20%20%20%20%29%0A%20%20%20%20%20%20%20%20%20%20%20%20%20%20%20%20.addTo%28map_55dce43f431b40ea80cc01f8f9f96660%29%3B%0A%20%20%20%20%20%20%20%20%20%20%20%20%0A%20%20%20%20%0A%20%20%20%20%20%20%20%20%20%20%20%20var%20circle_marker_f44ffde5fc01459f924e97e056955bd1%20%3D%20L.circleMarker%28%0A%20%20%20%20%20%20%20%20%20%20%20%20%20%20%20%20%5B41.8957%2C%20-87.6201%5D%2C%0A%20%20%20%20%20%20%20%20%20%20%20%20%20%20%20%20%7B%0A%20%20%22bubblingMouseEvents%22%3A%20true%2C%0A%20%20%22color%22%3A%20%22%23f68e56%22%2C%0A%20%20%22dashArray%22%3A%20null%2C%0A%20%20%22dashOffset%22%3A%20null%2C%0A%20%20%22fill%22%3A%20true%2C%0A%20%20%22fillColor%22%3A%20%22%23f68e56%22%2C%0A%20%20%22fillOpacity%22%3A%200.2%2C%0A%20%20%22fillRule%22%3A%20%22evenodd%22%2C%0A%20%20%22lineCap%22%3A%20%22round%22%2C%0A%20%20%22lineJoin%22%3A%20%22round%22%2C%0A%20%20%22opacity%22%3A%201.0%2C%0A%20%20%22radius%22%3A%205%2C%0A%20%20%22stroke%22%3A%20true%2C%0A%20%20%22weight%22%3A%201%0A%7D%0A%20%20%20%20%20%20%20%20%20%20%20%20%20%20%20%20%29%0A%20%20%20%20%20%20%20%20%20%20%20%20%20%20%20%20.addTo%28map_55dce43f431b40ea80cc01f8f9f96660%29%3B%0A%20%20%20%20%20%20%20%20%20%20%20%20%0A%20%20%20%20%0A%20%20%20%20%20%20%20%20%20%20%20%20var%20circle_marker_cb6818755d8a447187172117c5d34a41%20%3D%20L.circleMarker%28%0A%20%20%20%20%20%20%20%20%20%20%20%20%20%20%20%20%5B41.8665%2C%20-87.6847%5D%2C%0A%20%20%20%20%20%20%20%20%20%20%20%20%20%20%20%20%7B%0A%20%20%22bubblingMouseEvents%22%3A%20true%2C%0A%20%20%22color%22%3A%20%22%230A8A9F%22%2C%0A%20%20%22dashArray%22%3A%20null%2C%0A%20%20%22dashOffset%22%3A%20null%2C%0A%20%20%22fill%22%3A%20true%2C%0A%20%20%22fillColor%22%3A%20%22%230A8A9F%22%2C%0A%20%20%22fillOpacity%22%3A%200.2%2C%0A%20%20%22fillRule%22%3A%20%22evenodd%22%2C%0A%20%20%22lineCap%22%3A%20%22round%22%2C%0A%20%20%22lineJoin%22%3A%20%22round%22%2C%0A%20%20%22opacity%22%3A%201.0%2C%0A%20%20%22radius%22%3A%205%2C%0A%20%20%22stroke%22%3A%20true%2C%0A%20%20%22weight%22%3A%201%0A%7D%0A%20%20%20%20%20%20%20%20%20%20%20%20%20%20%20%20%29%0A%20%20%20%20%20%20%20%20%20%20%20%20%20%20%20%20.addTo%28map_55dce43f431b40ea80cc01f8f9f96660%29%3B%0A%20%20%20%20%20%20%20%20%20%20%20%20%0A%20%20%20%20%0A%20%20%20%20%20%20%20%20%20%20%20%20var%20circle_marker_1dc69041308d48a4827dd26622e13617%20%3D%20L.circleMarker%28%0A%20%20%20%20%20%20%20%20%20%20%20%20%20%20%20%20%5B41.8747%2C%20-87.6864%5D%2C%0A%20%20%20%20%20%20%20%20%20%20%20%20%20%20%20%20%7B%0A%20%20%22bubblingMouseEvents%22%3A%20true%2C%0A%20%20%22color%22%3A%20%22%23f68e56%22%2C%0A%20%20%22dashArray%22%3A%20null%2C%0A%20%20%22dashOffset%22%3A%20null%2C%0A%20%20%22fill%22%3A%20true%2C%0A%20%20%22fillColor%22%3A%20%22%23f68e56%22%2C%0A%20%20%22fillOpacity%22%3A%200.2%2C%0A%20%20%22fillRule%22%3A%20%22evenodd%22%2C%0A%20%20%22lineCap%22%3A%20%22round%22%2C%0A%20%20%22lineJoin%22%3A%20%22round%22%2C%0A%20%20%22opacity%22%3A%201.0%2C%0A%20%20%22radius%22%3A%205%2C%0A%20%20%22stroke%22%3A%20true%2C%0A%20%20%22weight%22%3A%201%0A%7D%0A%20%20%20%20%20%20%20%20%20%20%20%20%20%20%20%20%29%0A%20%20%20%20%20%20%20%20%20%20%20%20%20%20%20%20.addTo%28map_55dce43f431b40ea80cc01f8f9f96660%29%3B%0A%20%20%20%20%20%20%20%20%20%20%20%20%0A%20%20%20%20%0A%20%20%20%20%20%20%20%20%20%20%20%20var%20circle_marker_b403df1e3ed04cbc9a34af5781d2c144%20%3D%20L.circleMarker%28%0A%20%20%20%20%20%20%20%20%20%20%20%20%20%20%20%20%5B41.8949%2C%20-87.6323%5D%2C%0A%20%20%20%20%20%20%20%20%20%20%20%20%20%20%20%20%7B%0A%20%20%22bubblingMouseEvents%22%3A%20true%2C%0A%20%20%22color%22%3A%20%22%230A8A9F%22%2C%0A%20%20%22dashArray%22%3A%20null%2C%0A%20%20%22dashOffset%22%3A%20null%2C%0A%20%20%22fill%22%3A%20true%2C%0A%20%20%22fillColor%22%3A%20%22%230A8A9F%22%2C%0A%20%20%22fillOpacity%22%3A%200.2%2C%0A%20%20%22fillRule%22%3A%20%22evenodd%22%2C%0A%20%20%22lineCap%22%3A%20%22round%22%2C%0A%20%20%22lineJoin%22%3A%20%22round%22%2C%0A%20%20%22opacity%22%3A%201.0%2C%0A%20%20%22radius%22%3A%205%2C%0A%20%20%22stroke%22%3A%20true%2C%0A%20%20%22weight%22%3A%201%0A%7D%0A%20%20%20%20%20%20%20%20%20%20%20%20%20%20%20%20%29%0A%20%20%20%20%20%20%20%20%20%20%20%20%20%20%20%20.addTo%28map_55dce43f431b40ea80cc01f8f9f96660%29%3B%0A%20%20%20%20%20%20%20%20%20%20%20%20%0A%20%20%20%20%0A%20%20%20%20%20%20%20%20%20%20%20%20var%20circle_marker_e773aafdb1624d6dbb521a152f1929a4%20%3D%20L.circleMarker%28%0A%20%20%20%20%20%20%20%20%20%20%20%20%20%20%20%20%5B41.9035%2C%20-87.6434%5D%2C%0A%20%20%20%20%20%20%20%20%20%20%20%20%20%20%20%20%7B%0A%20%20%22bubblingMouseEvents%22%3A%20true%2C%0A%20%20%22color%22%3A%20%22%23f68e56%22%2C%0A%20%20%22dashArray%22%3A%20null%2C%0A%20%20%22dashOffset%22%3A%20null%2C%0A%20%20%22fill%22%3A%20true%2C%0A%20%20%22fillColor%22%3A%20%22%23f68e56%22%2C%0A%20%20%22fillOpacity%22%3A%200.2%2C%0A%20%20%22fillRule%22%3A%20%22evenodd%22%2C%0A%20%20%22lineCap%22%3A%20%22round%22%2C%0A%20%20%22lineJoin%22%3A%20%22round%22%2C%0A%20%20%22opacity%22%3A%201.0%2C%0A%20%20%22radius%22%3A%205%2C%0A%20%20%22stroke%22%3A%20true%2C%0A%20%20%22weight%22%3A%201%0A%7D%0A%20%20%20%20%20%20%20%20%20%20%20%20%20%20%20%20%29%0A%20%20%20%20%20%20%20%20%20%20%20%20%20%20%20%20.addTo%28map_55dce43f431b40ea80cc01f8f9f96660%29%3B%0A%20%20%20%20%20%20%20%20%20%20%20%20%0A%20%20%20%20%0A%20%20%20%20%20%20%20%20%20%20%20%20var%20circle_marker_b4b2f7b1a8de41c28690974c0886e65e%20%3D%20L.circleMarker%28%0A%20%20%20%20%20%20%20%20%20%20%20%20%20%20%20%20%5B41.8846%2C%20-87.7063%5D%2C%0A%20%20%20%20%20%20%20%20%20%20%20%20%20%20%20%20%7B%0A%20%20%22bubblingMouseEvents%22%3A%20true%2C%0A%20%20%22color%22%3A%20%22%230A8A9F%22%2C%0A%20%20%22dashArray%22%3A%20null%2C%0A%20%20%22dashOffset%22%3A%20null%2C%0A%20%20%22fill%22%3A%20true%2C%0A%20%20%22fillColor%22%3A%20%22%230A8A9F%22%2C%0A%20%20%22fillOpacity%22%3A%200.2%2C%0A%20%20%22fillRule%22%3A%20%22evenodd%22%2C%0A%20%20%22lineCap%22%3A%20%22round%22%2C%0A%20%20%22lineJoin%22%3A%20%22round%22%2C%0A%20%20%22opacity%22%3A%201.0%2C%0A%20%20%22radius%22%3A%205%2C%0A%20%20%22stroke%22%3A%20true%2C%0A%20%20%22weight%22%3A%201%0A%7D%0A%20%20%20%20%20%20%20%20%20%20%20%20%20%20%20%20%29%0A%20%20%20%20%20%20%20%20%20%20%20%20%20%20%20%20.addTo%28map_55dce43f431b40ea80cc01f8f9f96660%29%3B%0A%20%20%20%20%20%20%20%20%20%20%20%20%0A%20%20%20%20%0A%20%20%20%20%20%20%20%20%20%20%20%20var%20circle_marker_4d703ec00f9c48a38bb909850bee63e7%20%3D%20L.circleMarker%28%0A%20%20%20%20%20%20%20%20%20%20%20%20%20%20%20%20%5B41.9097%2C%20-87.7166%5D%2C%0A%20%20%20%20%20%20%20%20%20%20%20%20%20%20%20%20%7B%0A%20%20%22bubblingMouseEvents%22%3A%20true%2C%0A%20%20%22color%22%3A%20%22%23f68e56%22%2C%0A%20%20%22dashArray%22%3A%20null%2C%0A%20%20%22dashOffset%22%3A%20null%2C%0A%20%20%22fill%22%3A%20true%2C%0A%20%20%22fillColor%22%3A%20%22%23f68e56%22%2C%0A%20%20%22fillOpacity%22%3A%200.2%2C%0A%20%20%22fillRule%22%3A%20%22evenodd%22%2C%0A%20%20%22lineCap%22%3A%20%22round%22%2C%0A%20%20%22lineJoin%22%3A%20%22round%22%2C%0A%20%20%22opacity%22%3A%201.0%2C%0A%20%20%22radius%22%3A%205%2C%0A%20%20%22stroke%22%3A%20true%2C%0A%20%20%22weight%22%3A%201%0A%7D%0A%20%20%20%20%20%20%20%20%20%20%20%20%20%20%20%20%29%0A%20%20%20%20%20%20%20%20%20%20%20%20%20%20%20%20.addTo%28map_55dce43f431b40ea80cc01f8f9f96660%29%3B%0A%20%20%20%20%20%20%20%20%20%20%20%20%0A%20%20%20%20%0A%20%20%20%20%20%20%20%20%20%20%20%20var%20circle_marker_3ea74dbe92884362a982dad2895ad330%20%3D%20L.circleMarker%28%0A%20%20%20%20%20%20%20%20%20%20%20%20%20%20%20%20%5B41.9097%2C%20-87.7166%5D%2C%0A%20%20%20%20%20%20%20%20%20%20%20%20%20%20%20%20%7B%0A%20%20%22bubblingMouseEvents%22%3A%20true%2C%0A%20%20%22color%22%3A%20%22%230A8A9F%22%2C%0A%20%20%22dashArray%22%3A%20null%2C%0A%20%20%22dashOffset%22%3A%20null%2C%0A%20%20%22fill%22%3A%20true%2C%0A%20%20%22fillColor%22%3A%20%22%230A8A9F%22%2C%0A%20%20%22fillOpacity%22%3A%200.2%2C%0A%20%20%22fillRule%22%3A%20%22evenodd%22%2C%0A%20%20%22lineCap%22%3A%20%22round%22%2C%0A%20%20%22lineJoin%22%3A%20%22round%22%2C%0A%20%20%22opacity%22%3A%201.0%2C%0A%20%20%22radius%22%3A%205%2C%0A%20%20%22stroke%22%3A%20true%2C%0A%20%20%22weight%22%3A%201%0A%7D%0A%20%20%20%20%20%20%20%20%20%20%20%20%20%20%20%20%29%0A%20%20%20%20%20%20%20%20%20%20%20%20%20%20%20%20.addTo%28map_55dce43f431b40ea80cc01f8f9f96660%29%3B%0A%20%20%20%20%20%20%20%20%20%20%20%20%0A%20%20%20%20%0A%20%20%20%20%20%20%20%20%20%20%20%20var%20circle_marker_391708229e504154baf93eddd2378dd7%20%3D%20L.circleMarker%28%0A%20%20%20%20%20%20%20%20%20%20%20%20%20%20%20%20%5B41.8984%2C%20-87.6866%5D%2C%0A%20%20%20%20%20%20%20%20%20%20%20%20%20%20%20%20%7B%0A%20%20%22bubblingMouseEvents%22%3A%20true%2C%0A%20%20%22color%22%3A%20%22%23f68e56%22%2C%0A%20%20%22dashArray%22%3A%20null%2C%0A%20%20%22dashOffset%22%3A%20null%2C%0A%20%20%22fill%22%3A%20true%2C%0A%20%20%22fillColor%22%3A%20%22%23f68e56%22%2C%0A%20%20%22fillOpacity%22%3A%200.2%2C%0A%20%20%22fillRule%22%3A%20%22evenodd%22%2C%0A%20%20%22lineCap%22%3A%20%22round%22%2C%0A%20%20%22lineJoin%22%3A%20%22round%22%2C%0A%20%20%22opacity%22%3A%201.0%2C%0A%20%20%22radius%22%3A%205%2C%0A%20%20%22stroke%22%3A%20true%2C%0A%20%20%22weight%22%3A%201%0A%7D%0A%20%20%20%20%20%20%20%20%20%20%20%20%20%20%20%20%29%0A%20%20%20%20%20%20%20%20%20%20%20%20%20%20%20%20.addTo%28map_55dce43f431b40ea80cc01f8f9f96660%29%3B%0A%20%20%20%20%20%20%20%20%20%20%20%20%0A%20%20%20%20%0A%20%20%20%20%20%20%20%20%20%20%20%20var%20circle_marker_989fd077139e4291a94e5fde07780458%20%3D%20L.circleMarker%28%0A%20%20%20%20%20%20%20%20%20%20%20%20%20%20%20%20%5B41.8984%2C%20-87.6866%5D%2C%0A%20%20%20%20%20%20%20%20%20%20%20%20%20%20%20%20%7B%0A%20%20%22bubblingMouseEvents%22%3A%20true%2C%0A%20%20%22color%22%3A%20%22%230A8A9F%22%2C%0A%20%20%22dashArray%22%3A%20null%2C%0A%20%20%22dashOffset%22%3A%20null%2C%0A%20%20%22fill%22%3A%20true%2C%0A%20%20%22fillColor%22%3A%20%22%230A8A9F%22%2C%0A%20%20%22fillOpacity%22%3A%200.2%2C%0A%20%20%22fillRule%22%3A%20%22evenodd%22%2C%0A%20%20%22lineCap%22%3A%20%22round%22%2C%0A%20%20%22lineJoin%22%3A%20%22round%22%2C%0A%20%20%22opacity%22%3A%201.0%2C%0A%20%20%22radius%22%3A%205%2C%0A%20%20%22stroke%22%3A%20true%2C%0A%20%20%22weight%22%3A%201%0A%7D%0A%20%20%20%20%20%20%20%20%20%20%20%20%20%20%20%20%29%0A%20%20%20%20%20%20%20%20%20%20%20%20%20%20%20%20.addTo%28map_55dce43f431b40ea80cc01f8f9f96660%29%3B%0A%20%20%20%20%20%20%20%20%20%20%20%20%0A%20%20%20%20%0A%20%20%20%20%20%20%20%20%20%20%20%20var%20circle_marker_395430b3ece746539f29dbbc8544016f%20%3D%20L.circleMarker%28%0A%20%20%20%20%20%20%20%20%20%20%20%20%20%20%20%20%5B41.8958%2C%20-87.6772%5D%2C%0A%20%20%20%20%20%20%20%20%20%20%20%20%20%20%20%20%7B%0A%20%20%22bubblingMouseEvents%22%3A%20true%2C%0A%20%20%22color%22%3A%20%22%23f68e56%22%2C%0A%20%20%22dashArray%22%3A%20null%2C%0A%20%20%22dashOffset%22%3A%20null%2C%0A%20%20%22fill%22%3A%20true%2C%0A%20%20%22fillColor%22%3A%20%22%23f68e56%22%2C%0A%20%20%22fillOpacity%22%3A%200.2%2C%0A%20%20%22fillRule%22%3A%20%22evenodd%22%2C%0A%20%20%22lineCap%22%3A%20%22round%22%2C%0A%20%20%22lineJoin%22%3A%20%22round%22%2C%0A%20%20%22opacity%22%3A%201.0%2C%0A%20%20%22radius%22%3A%205%2C%0A%20%20%22stroke%22%3A%20true%2C%0A%20%20%22weight%22%3A%201%0A%7D%0A%20%20%20%20%20%20%20%20%20%20%20%20%20%20%20%20%29%0A%20%20%20%20%20%20%20%20%20%20%20%20%20%20%20%20.addTo%28map_55dce43f431b40ea80cc01f8f9f96660%29%3B%0A%20%20%20%20%20%20%20%20%20%20%20%20%0A%20%20%20%20%0A%20%20%20%20%20%20%20%20%20%20%20%20var%20circle_marker_4587331d3d3240e8810882ebfbe62a64%20%3D%20L.circleMarker%28%0A%20%20%20%20%20%20%20%20%20%20%20%20%20%20%20%20%5B41.8984%2C%20-87.6866%5D%2C%0A%20%20%20%20%20%20%20%20%20%20%20%20%20%20%20%20%7B%0A%20%20%22bubblingMouseEvents%22%3A%20true%2C%0A%20%20%22color%22%3A%20%22%230A8A9F%22%2C%0A%20%20%22dashArray%22%3A%20null%2C%0A%20%20%22dashOffset%22%3A%20null%2C%0A%20%20%22fill%22%3A%20true%2C%0A%20%20%22fillColor%22%3A%20%22%230A8A9F%22%2C%0A%20%20%22fillOpacity%22%3A%200.2%2C%0A%20%20%22fillRule%22%3A%20%22evenodd%22%2C%0A%20%20%22lineCap%22%3A%20%22round%22%2C%0A%20%20%22lineJoin%22%3A%20%22round%22%2C%0A%20%20%22opacity%22%3A%201.0%2C%0A%20%20%22radius%22%3A%205%2C%0A%20%20%22stroke%22%3A%20true%2C%0A%20%20%22weight%22%3A%201%0A%7D%0A%20%20%20%20%20%20%20%20%20%20%20%20%20%20%20%20%29%0A%20%20%20%20%20%20%20%20%20%20%20%20%20%20%20%20.addTo%28map_55dce43f431b40ea80cc01f8f9f96660%29%3B%0A%20%20%20%20%20%20%20%20%20%20%20%20%0A%20%20%20%20%0A%20%20%20%20%20%20%20%20%20%20%20%20var%20circle_marker_0637860b7be84967bb24e7ecc7fd7997%20%3D%20L.circleMarker%28%0A%20%20%20%20%20%20%20%20%20%20%20%20%20%20%20%20%5B41.9035%2C%20-87.6677%5D%2C%0A%20%20%20%20%20%20%20%20%20%20%20%20%20%20%20%20%7B%0A%20%20%22bubblingMouseEvents%22%3A%20true%2C%0A%20%20%22color%22%3A%20%22%23f68e56%22%2C%0A%20%20%22dashArray%22%3A%20null%2C%0A%20%20%22dashOffset%22%3A%20null%2C%0A%20%20%22fill%22%3A%20true%2C%0A%20%20%22fillColor%22%3A%20%22%23f68e56%22%2C%0A%20%20%22fillOpacity%22%3A%200.2%2C%0A%20%20%22fillRule%22%3A%20%22evenodd%22%2C%0A%20%20%22lineCap%22%3A%20%22round%22%2C%0A%20%20%22lineJoin%22%3A%20%22round%22%2C%0A%20%20%22opacity%22%3A%201.0%2C%0A%20%20%22radius%22%3A%205%2C%0A%20%20%22stroke%22%3A%20true%2C%0A%20%20%22weight%22%3A%201%0A%7D%0A%20%20%20%20%20%20%20%20%20%20%20%20%20%20%20%20%29%0A%20%20%20%20%20%20%20%20%20%20%20%20%20%20%20%20.addTo%28map_55dce43f431b40ea80cc01f8f9f96660%29%3B%0A%20%20%20%20%20%20%20%20%20%20%20%20%0A%20%20%20%20%0A%20%20%20%20%20%20%20%20%20%20%20%20var%20circle_marker_166916fa2dd84a19a4435cbff67e0b28%20%3D%20L.circleMarker%28%0A%20%20%20%20%20%20%20%20%20%20%20%20%20%20%20%20%5B41.8984%2C%20-87.6866%5D%2C%0A%20%20%20%20%20%20%20%20%20%20%20%20%20%20%20%20%7B%0A%20%20%22bubblingMouseEvents%22%3A%20true%2C%0A%20%20%22color%22%3A%20%22%230A8A9F%22%2C%0A%20%20%22dashArray%22%3A%20null%2C%0A%20%20%22dashOffset%22%3A%20null%2C%0A%20%20%22fill%22%3A%20true%2C%0A%20%20%22fillColor%22%3A%20%22%230A8A9F%22%2C%0A%20%20%22fillOpacity%22%3A%200.2%2C%0A%20%20%22fillRule%22%3A%20%22evenodd%22%2C%0A%20%20%22lineCap%22%3A%20%22round%22%2C%0A%20%20%22lineJoin%22%3A%20%22round%22%2C%0A%20%20%22opacity%22%3A%201.0%2C%0A%20%20%22radius%22%3A%205%2C%0A%20%20%22stroke%22%3A%20true%2C%0A%20%20%22weight%22%3A%201%0A%7D%0A%20%20%20%20%20%20%20%20%20%20%20%20%20%20%20%20%29%0A%20%20%20%20%20%20%20%20%20%20%20%20%20%20%20%20.addTo%28map_55dce43f431b40ea80cc01f8f9f96660%29%3B%0A%20%20%20%20%20%20%20%20%20%20%20%20%0A%20%20%20%20%0A%20%20%20%20%20%20%20%20%20%20%20%20var%20circle_marker_ede4bffad08d4c3ca9b2cf4612e6569d%20%3D%20L.circleMarker%28%0A%20%20%20%20%20%20%20%20%20%20%20%20%20%20%20%20%5B41.8958%2C%20-87.6772%5D%2C%0A%20%20%20%20%20%20%20%20%20%20%20%20%20%20%20%20%7B%0A%20%20%22bubblingMouseEvents%22%3A%20true%2C%0A%20%20%22color%22%3A%20%22%23f68e56%22%2C%0A%20%20%22dashArray%22%3A%20null%2C%0A%20%20%22dashOffset%22%3A%20null%2C%0A%20%20%22fill%22%3A%20true%2C%0A%20%20%22fillColor%22%3A%20%22%23f68e56%22%2C%0A%20%20%22fillOpacity%22%3A%200.2%2C%0A%20%20%22fillRule%22%3A%20%22evenodd%22%2C%0A%20%20%22lineCap%22%3A%20%22round%22%2C%0A%20%20%22lineJoin%22%3A%20%22round%22%2C%0A%20%20%22opacity%22%3A%201.0%2C%0A%20%20%22radius%22%3A%205%2C%0A%20%20%22stroke%22%3A%20true%2C%0A%20%20%22weight%22%3A%201%0A%7D%0A%20%20%20%20%20%20%20%20%20%20%20%20%20%20%20%20%29%0A%20%20%20%20%20%20%20%20%20%20%20%20%20%20%20%20.addTo%28map_55dce43f431b40ea80cc01f8f9f96660%29%3B%0A%20%20%20%20%20%20%20%20%20%20%20%20%0A%20%20%20%20%0A%20%20%20%20%20%20%20%20%20%20%20%20var%20circle_marker_e66b9e6293924bf9bd77443326458c95%20%3D%20L.circleMarker%28%0A%20%20%20%20%20%20%20%20%20%20%20%20%20%20%20%20%5B41.8708%2C%20-87.6257%5D%2C%0A%20%20%20%20%20%20%20%20%20%20%20%20%20%20%20%20%7B%0A%20%20%22bubblingMouseEvents%22%3A%20true%2C%0A%20%20%22color%22%3A%20%22%230A8A9F%22%2C%0A%20%20%22dashArray%22%3A%20null%2C%0A%20%20%22dashOffset%22%3A%20null%2C%0A%20%20%22fill%22%3A%20true%2C%0A%20%20%22fillColor%22%3A%20%22%230A8A9F%22%2C%0A%20%20%22fillOpacity%22%3A%200.2%2C%0A%20%20%22fillRule%22%3A%20%22evenodd%22%2C%0A%20%20%22lineCap%22%3A%20%22round%22%2C%0A%20%20%22lineJoin%22%3A%20%22round%22%2C%0A%20%20%22opacity%22%3A%201.0%2C%0A%20%20%22radius%22%3A%205%2C%0A%20%20%22stroke%22%3A%20true%2C%0A%20%20%22weight%22%3A%201%0A%7D%0A%20%20%20%20%20%20%20%20%20%20%20%20%20%20%20%20%29%0A%20%20%20%20%20%20%20%20%20%20%20%20%20%20%20%20.addTo%28map_55dce43f431b40ea80cc01f8f9f96660%29%3B%0A%20%20%20%20%20%20%20%20%20%20%20%20%0A%20%20%20%20%0A%20%20%20%20%20%20%20%20%20%20%20%20var%20circle_marker_4ee341009d6a4dc3af1f5509958d5e3e%20%3D%20L.circleMarker%28%0A%20%20%20%20%20%20%20%20%20%20%20%20%20%20%20%20%5B41.8728%2C%20-87.624%5D%2C%0A%20%20%20%20%20%20%20%20%20%20%20%20%20%20%20%20%7B%0A%20%20%22bubblingMouseEvents%22%3A%20true%2C%0A%20%20%22color%22%3A%20%22%23f68e56%22%2C%0A%20%20%22dashArray%22%3A%20null%2C%0A%20%20%22dashOffset%22%3A%20null%2C%0A%20%20%22fill%22%3A%20true%2C%0A%20%20%22fillColor%22%3A%20%22%23f68e56%22%2C%0A%20%20%22fillOpacity%22%3A%200.2%2C%0A%20%20%22fillRule%22%3A%20%22evenodd%22%2C%0A%20%20%22lineCap%22%3A%20%22round%22%2C%0A%20%20%22lineJoin%22%3A%20%22round%22%2C%0A%20%20%22opacity%22%3A%201.0%2C%0A%20%20%22radius%22%3A%205%2C%0A%20%20%22stroke%22%3A%20true%2C%0A%20%20%22weight%22%3A%201%0A%7D%0A%20%20%20%20%20%20%20%20%20%20%20%20%20%20%20%20%29%0A%20%20%20%20%20%20%20%20%20%20%20%20%20%20%20%20.addTo%28map_55dce43f431b40ea80cc01f8f9f96660%29%3B%0A%20%20%20%20%20%20%20%20%20%20%20%20%0A%20%20%20%20%0A%20%20%20%20%20%20%20%20%20%20%20%20var%20circle_marker_231277ecc6094aa6afa9c01bc607a033%20%3D%20L.circleMarker%28%0A%20%20%20%20%20%20%20%20%20%20%20%20%20%20%20%20%5B41.8708%2C%20-87.6257%5D%2C%0A%20%20%20%20%20%20%20%20%20%20%20%20%20%20%20%20%7B%0A%20%20%22bubblingMouseEvents%22%3A%20true%2C%0A%20%20%22color%22%3A%20%22%230A8A9F%22%2C%0A%20%20%22dashArray%22%3A%20null%2C%0A%20%20%22dashOffset%22%3A%20null%2C%0A%20%20%22fill%22%3A%20true%2C%0A%20%20%22fillColor%22%3A%20%22%230A8A9F%22%2C%0A%20%20%22fillOpacity%22%3A%200.2%2C%0A%20%20%22fillRule%22%3A%20%22evenodd%22%2C%0A%20%20%22lineCap%22%3A%20%22round%22%2C%0A%20%20%22lineJoin%22%3A%20%22round%22%2C%0A%20%20%22opacity%22%3A%201.0%2C%0A%20%20%22radius%22%3A%205%2C%0A%20%20%22stroke%22%3A%20true%2C%0A%20%20%22weight%22%3A%201%0A%7D%0A%20%20%20%20%20%20%20%20%20%20%20%20%20%20%20%20%29%0A%20%20%20%20%20%20%20%20%20%20%20%20%20%20%20%20.addTo%28map_55dce43f431b40ea80cc01f8f9f96660%29%3B%0A%20%20%20%20%20%20%20%20%20%20%20%20%0A%20%20%20%20%0A%20%20%20%20%20%20%20%20%20%20%20%20var%20circle_marker_ce24ea565236495ca07dda018339a108%20%3D%20L.circleMarker%28%0A%20%20%20%20%20%20%20%20%20%20%20%20%20%20%20%20%5B41.9105%2C%20-87.6531%5D%2C%0A%20%20%20%20%20%20%20%20%20%20%20%20%20%20%20%20%7B%0A%20%20%22bubblingMouseEvents%22%3A%20true%2C%0A%20%20%22color%22%3A%20%22%23f68e56%22%2C%0A%20%20%22dashArray%22%3A%20null%2C%0A%20%20%22dashOffset%22%3A%20null%2C%0A%20%20%22fill%22%3A%20true%2C%0A%20%20%22fillColor%22%3A%20%22%23f68e56%22%2C%0A%20%20%22fillOpacity%22%3A%200.2%2C%0A%20%20%22fillRule%22%3A%20%22evenodd%22%2C%0A%20%20%22lineCap%22%3A%20%22round%22%2C%0A%20%20%22lineJoin%22%3A%20%22round%22%2C%0A%20%20%22opacity%22%3A%201.0%2C%0A%20%20%22radius%22%3A%205%2C%0A%20%20%22stroke%22%3A%20true%2C%0A%20%20%22weight%22%3A%201%0A%7D%0A%20%20%20%20%20%20%20%20%20%20%20%20%20%20%20%20%29%0A%20%20%20%20%20%20%20%20%20%20%20%20%20%20%20%20.addTo%28map_55dce43f431b40ea80cc01f8f9f96660%29%3B%0A%20%20%20%20%20%20%20%20%20%20%20%20%0A%20%20%20%20%0A%20%20%20%20%20%20%20%20%20%20%20%20var%20circle_marker_541ed43886714fed9970a179785bee8f%20%3D%20L.circleMarker%28%0A%20%20%20%20%20%20%20%20%20%20%20%20%20%20%20%20%5B41.8708%2C%20-87.6257%5D%2C%0A%20%20%20%20%20%20%20%20%20%20%20%20%20%20%20%20%7B%0A%20%20%22bubblingMouseEvents%22%3A%20true%2C%0A%20%20%22color%22%3A%20%22%230A8A9F%22%2C%0A%20%20%22dashArray%22%3A%20null%2C%0A%20%20%22dashOffset%22%3A%20null%2C%0A%20%20%22fill%22%3A%20true%2C%0A%20%20%22fillColor%22%3A%20%22%230A8A9F%22%2C%0A%20%20%22fillOpacity%22%3A%200.2%2C%0A%20%20%22fillRule%22%3A%20%22evenodd%22%2C%0A%20%20%22lineCap%22%3A%20%22round%22%2C%0A%20%20%22lineJoin%22%3A%20%22round%22%2C%0A%20%20%22opacity%22%3A%201.0%2C%0A%20%20%22radius%22%3A%205%2C%0A%20%20%22stroke%22%3A%20true%2C%0A%20%20%22weight%22%3A%201%0A%7D%0A%20%20%20%20%20%20%20%20%20%20%20%20%20%20%20%20%29%0A%20%20%20%20%20%20%20%20%20%20%20%20%20%20%20%20.addTo%28map_55dce43f431b40ea80cc01f8f9f96660%29%3B%0A%20%20%20%20%20%20%20%20%20%20%20%20%0A%20%20%20%20%0A%20%20%20%20%20%20%20%20%20%20%20%20var%20circle_marker_d75a644aa4f246bf91dcd1377c861cb0%20%3D%20L.circleMarker%28%0A%20%20%20%20%20%20%20%20%20%20%20%20%20%20%20%20%5B41.9157%2C%20-87.6346%5D%2C%0A%20%20%20%20%20%20%20%20%20%20%20%20%20%20%20%20%7B%0A%20%20%22bubblingMouseEvents%22%3A%20true%2C%0A%20%20%22color%22%3A%20%22%23f68e56%22%2C%0A%20%20%22dashArray%22%3A%20null%2C%0A%20%20%22dashOffset%22%3A%20null%2C%0A%20%20%22fill%22%3A%20true%2C%0A%20%20%22fillColor%22%3A%20%22%23f68e56%22%2C%0A%20%20%22fillOpacity%22%3A%200.2%2C%0A%20%20%22fillRule%22%3A%20%22evenodd%22%2C%0A%20%20%22lineCap%22%3A%20%22round%22%2C%0A%20%20%22lineJoin%22%3A%20%22round%22%2C%0A%20%20%22opacity%22%3A%201.0%2C%0A%20%20%22radius%22%3A%205%2C%0A%20%20%22stroke%22%3A%20true%2C%0A%20%20%22weight%22%3A%201%0A%7D%0A%20%20%20%20%20%20%20%20%20%20%20%20%20%20%20%20%29%0A%20%20%20%20%20%20%20%20%20%20%20%20%20%20%20%20.addTo%28map_55dce43f431b40ea80cc01f8f9f96660%29%3B%0A%20%20%20%20%20%20%20%20%20%20%20%20%0A%20%20%20%20%0A%20%20%20%20%20%20%20%20%20%20%20%20var%20circle_marker_130348ccc8cf44f591261866da8b5886%20%3D%20L.circleMarker%28%0A%20%20%20%20%20%20%20%20%20%20%20%20%20%20%20%20%5B41.8288%2C%20-87.6806%5D%2C%0A%20%20%20%20%20%20%20%20%20%20%20%20%20%20%20%20%7B%0A%20%20%22bubblingMouseEvents%22%3A%20true%2C%0A%20%20%22color%22%3A%20%22%230A8A9F%22%2C%0A%20%20%22dashArray%22%3A%20null%2C%0A%20%20%22dashOffset%22%3A%20null%2C%0A%20%20%22fill%22%3A%20true%2C%0A%20%20%22fillColor%22%3A%20%22%230A8A9F%22%2C%0A%20%20%22fillOpacity%22%3A%200.2%2C%0A%20%20%22fillRule%22%3A%20%22evenodd%22%2C%0A%20%20%22lineCap%22%3A%20%22round%22%2C%0A%20%20%22lineJoin%22%3A%20%22round%22%2C%0A%20%20%22opacity%22%3A%201.0%2C%0A%20%20%22radius%22%3A%205%2C%0A%20%20%22stroke%22%3A%20true%2C%0A%20%20%22weight%22%3A%201%0A%7D%0A%20%20%20%20%20%20%20%20%20%20%20%20%20%20%20%20%29%0A%20%20%20%20%20%20%20%20%20%20%20%20%20%20%20%20.addTo%28map_55dce43f431b40ea80cc01f8f9f96660%29%3B%0A%20%20%20%20%20%20%20%20%20%20%20%20%0A%20%20%20%20%0A%20%20%20%20%20%20%20%20%20%20%20%20var%20circle_marker_a0c42097184c409d8d446241dcb10373%20%3D%20L.circleMarker%28%0A%20%20%20%20%20%20%20%20%20%20%20%20%20%20%20%20%5B41.8288%2C%20-87.6806%5D%2C%0A%20%20%20%20%20%20%20%20%20%20%20%20%20%20%20%20%7B%0A%20%20%22bubblingMouseEvents%22%3A%20true%2C%0A%20%20%22color%22%3A%20%22%23f68e56%22%2C%0A%20%20%22dashArray%22%3A%20null%2C%0A%20%20%22dashOffset%22%3A%20null%2C%0A%20%20%22fill%22%3A%20true%2C%0A%20%20%22fillColor%22%3A%20%22%23f68e56%22%2C%0A%20%20%22fillOpacity%22%3A%200.2%2C%0A%20%20%22fillRule%22%3A%20%22evenodd%22%2C%0A%20%20%22lineCap%22%3A%20%22round%22%2C%0A%20%20%22lineJoin%22%3A%20%22round%22%2C%0A%20%20%22opacity%22%3A%201.0%2C%0A%20%20%22radius%22%3A%205%2C%0A%20%20%22stroke%22%3A%20true%2C%0A%20%20%22weight%22%3A%201%0A%7D%0A%20%20%20%20%20%20%20%20%20%20%20%20%20%20%20%20%29%0A%20%20%20%20%20%20%20%20%20%20%20%20%20%20%20%20.addTo%28map_55dce43f431b40ea80cc01f8f9f96660%29%3B%0A%20%20%20%20%20%20%20%20%20%20%20%20%0A%20%20%20%20%0A%20%20%20%20%20%20%20%20%20%20%20%20var%20circle_marker_d15f3ad8a8f9442aa521505c20b34345%20%3D%20L.circleMarker%28%0A%20%20%20%20%20%20%20%20%20%20%20%20%20%20%20%20%5B41.9157%2C%20-87.6346%5D%2C%0A%20%20%20%20%20%20%20%20%20%20%20%20%20%20%20%20%7B%0A%20%20%22bubblingMouseEvents%22%3A%20true%2C%0A%20%20%22color%22%3A%20%22%230A8A9F%22%2C%0A%20%20%22dashArray%22%3A%20null%2C%0A%20%20%22dashOffset%22%3A%20null%2C%0A%20%20%22fill%22%3A%20true%2C%0A%20%20%22fillColor%22%3A%20%22%230A8A9F%22%2C%0A%20%20%22fillOpacity%22%3A%200.2%2C%0A%20%20%22fillRule%22%3A%20%22evenodd%22%2C%0A%20%20%22lineCap%22%3A%20%22round%22%2C%0A%20%20%22lineJoin%22%3A%20%22round%22%2C%0A%20%20%22opacity%22%3A%201.0%2C%0A%20%20%22radius%22%3A%205%2C%0A%20%20%22stroke%22%3A%20true%2C%0A%20%20%22weight%22%3A%201%0A%7D%0A%20%20%20%20%20%20%20%20%20%20%20%20%20%20%20%20%29%0A%20%20%20%20%20%20%20%20%20%20%20%20%20%20%20%20.addTo%28map_55dce43f431b40ea80cc01f8f9f96660%29%3B%0A%20%20%20%20%20%20%20%20%20%20%20%20%0A%20%20%20%20%0A%20%20%20%20%20%20%20%20%20%20%20%20var%20circle_marker_f8008bbe3acc4259a1f818a39f28c872%20%3D%20L.circleMarker%28%0A%20%20%20%20%20%20%20%20%20%20%20%20%20%20%20%20%5B41.9288%2C%20-87.6639%5D%2C%0A%20%20%20%20%20%20%20%20%20%20%20%20%20%20%20%20%7B%0A%20%20%22bubblingMouseEvents%22%3A%20true%2C%0A%20%20%22color%22%3A%20%22%23f68e56%22%2C%0A%20%20%22dashArray%22%3A%20null%2C%0A%20%20%22dashOffset%22%3A%20null%2C%0A%20%20%22fill%22%3A%20true%2C%0A%20%20%22fillColor%22%3A%20%22%23f68e56%22%2C%0A%20%20%22fillOpacity%22%3A%200.2%2C%0A%20%20%22fillRule%22%3A%20%22evenodd%22%2C%0A%20%20%22lineCap%22%3A%20%22round%22%2C%0A%20%20%22lineJoin%22%3A%20%22round%22%2C%0A%20%20%22opacity%22%3A%201.0%2C%0A%20%20%22radius%22%3A%205%2C%0A%20%20%22stroke%22%3A%20true%2C%0A%20%20%22weight%22%3A%201%0A%7D%0A%20%20%20%20%20%20%20%20%20%20%20%20%20%20%20%20%29%0A%20%20%20%20%20%20%20%20%20%20%20%20%20%20%20%20.addTo%28map_55dce43f431b40ea80cc01f8f9f96660%29%3B%0A%20%20%20%20%20%20%20%20%20%20%20%20%0A%20%20%20%20%0A%20%20%20%20%20%20%20%20%20%20%20%20var%20circle_marker_65e702fc2df2453591694ce78731eb3c%20%3D%20L.circleMarker%28%0A%20%20%20%20%20%20%20%20%20%20%20%20%20%20%20%20%5B41.8748%2C%20-87.6498%5D%2C%0A%20%20%20%20%20%20%20%20%20%20%20%20%20%20%20%20%7B%0A%20%20%22bubblingMouseEvents%22%3A%20true%2C%0A%20%20%22color%22%3A%20%22%230A8A9F%22%2C%0A%20%20%22dashArray%22%3A%20null%2C%0A%20%20%22dashOffset%22%3A%20null%2C%0A%20%20%22fill%22%3A%20true%2C%0A%20%20%22fillColor%22%3A%20%22%230A8A9F%22%2C%0A%20%20%22fillOpacity%22%3A%200.2%2C%0A%20%20%22fillRule%22%3A%20%22evenodd%22%2C%0A%20%20%22lineCap%22%3A%20%22round%22%2C%0A%20%20%22lineJoin%22%3A%20%22round%22%2C%0A%20%20%22opacity%22%3A%201.0%2C%0A%20%20%22radius%22%3A%205%2C%0A%20%20%22stroke%22%3A%20true%2C%0A%20%20%22weight%22%3A%201%0A%7D%0A%20%20%20%20%20%20%20%20%20%20%20%20%20%20%20%20%29%0A%20%20%20%20%20%20%20%20%20%20%20%20%20%20%20%20.addTo%28map_55dce43f431b40ea80cc01f8f9f96660%29%3B%0A%20%20%20%20%20%20%20%20%20%20%20%20%0A%20%20%20%20%0A%20%20%20%20%20%20%20%20%20%20%20%20var%20circle_marker_6c9ac0d025bd4586aee04eaf45b2d4ab%20%3D%20L.circleMarker%28%0A%20%20%20%20%20%20%20%20%20%20%20%20%20%20%20%20%5B41.8841%2C%20-87.6543%5D%2C%0A%20%20%20%20%20%20%20%20%20%20%20%20%20%20%20%20%7B%0A%20%20%22bubblingMouseEvents%22%3A%20true%2C%0A%20%20%22color%22%3A%20%22%23f68e56%22%2C%0A%20%20%22dashArray%22%3A%20null%2C%0A%20%20%22dashOffset%22%3A%20null%2C%0A%20%20%22fill%22%3A%20true%2C%0A%20%20%22fillColor%22%3A%20%22%23f68e56%22%2C%0A%20%20%22fillOpacity%22%3A%200.2%2C%0A%20%20%22fillRule%22%3A%20%22evenodd%22%2C%0A%20%20%22lineCap%22%3A%20%22round%22%2C%0A%20%20%22lineJoin%22%3A%20%22round%22%2C%0A%20%20%22opacity%22%3A%201.0%2C%0A%20%20%22radius%22%3A%205%2C%0A%20%20%22stroke%22%3A%20true%2C%0A%20%20%22weight%22%3A%201%0A%7D%0A%20%20%20%20%20%20%20%20%20%20%20%20%20%20%20%20%29%0A%20%20%20%20%20%20%20%20%20%20%20%20%20%20%20%20.addTo%28map_55dce43f431b40ea80cc01f8f9f96660%29%3B%0A%20%20%20%20%20%20%20%20%20%20%20%20%0A%20%20%20%20%0A%20%20%20%20%20%20%20%20%20%20%20%20var%20circle_marker_04a2d810551c457fb4a9af79b3aae914%20%3D%20L.circleMarker%28%0A%20%20%20%20%20%20%20%20%20%20%20%20%20%20%20%20%5B41.7917%2C%20-87.5839%5D%2C%0A%20%20%20%20%20%20%20%20%20%20%20%20%20%20%20%20%7B%0A%20%20%22bubblingMouseEvents%22%3A%20true%2C%0A%20%20%22color%22%3A%20%22%230A8A9F%22%2C%0A%20%20%22dashArray%22%3A%20null%2C%0A%20%20%22dashOffset%22%3A%20null%2C%0A%20%20%22fill%22%3A%20true%2C%0A%20%20%22fillColor%22%3A%20%22%230A8A9F%22%2C%0A%20%20%22fillOpacity%22%3A%200.2%2C%0A%20%20%22fillRule%22%3A%20%22evenodd%22%2C%0A%20%20%22lineCap%22%3A%20%22round%22%2C%0A%20%20%22lineJoin%22%3A%20%22round%22%2C%0A%20%20%22opacity%22%3A%201.0%2C%0A%20%20%22radius%22%3A%205%2C%0A%20%20%22stroke%22%3A%20true%2C%0A%20%20%22weight%22%3A%201%0A%7D%0A%20%20%20%20%20%20%20%20%20%20%20%20%20%20%20%20%29%0A%20%20%20%20%20%20%20%20%20%20%20%20%20%20%20%20.addTo%28map_55dce43f431b40ea80cc01f8f9f96660%29%3B%0A%20%20%20%20%20%20%20%20%20%20%20%20%0A%20%20%20%20%0A%20%20%20%20%20%20%20%20%20%20%20%20var%20circle_marker_6aeb669622cb4548b913b430ed456085%20%3D%20L.circleMarker%28%0A%20%20%20%20%20%20%20%20%20%20%20%20%20%20%20%20%5B41.7806%2C%20-87.5848%5D%2C%0A%20%20%20%20%20%20%20%20%20%20%20%20%20%20%20%20%7B%0A%20%20%22bubblingMouseEvents%22%3A%20true%2C%0A%20%20%22color%22%3A%20%22%23f68e56%22%2C%0A%20%20%22dashArray%22%3A%20null%2C%0A%20%20%22dashOffset%22%3A%20null%2C%0A%20%20%22fill%22%3A%20true%2C%0A%20%20%22fillColor%22%3A%20%22%23f68e56%22%2C%0A%20%20%22fillOpacity%22%3A%200.2%2C%0A%20%20%22fillRule%22%3A%20%22evenodd%22%2C%0A%20%20%22lineCap%22%3A%20%22round%22%2C%0A%20%20%22lineJoin%22%3A%20%22round%22%2C%0A%20%20%22opacity%22%3A%201.0%2C%0A%20%20%22radius%22%3A%205%2C%0A%20%20%22stroke%22%3A%20true%2C%0A%20%20%22weight%22%3A%201%0A%7D%0A%20%20%20%20%20%20%20%20%20%20%20%20%20%20%20%20%29%0A%20%20%20%20%20%20%20%20%20%20%20%20%20%20%20%20.addTo%28map_55dce43f431b40ea80cc01f8f9f96660%29%3B%0A%20%20%20%20%20%20%20%20%20%20%20%20%0A%20%20%20%20%0A%20%20%20%20%20%20%20%20%20%20%20%20var%20circle_marker_97c05e9f5d7a4d3a8edb769a05dd64ea%20%3D%20L.circleMarker%28%0A%20%20%20%20%20%20%20%20%20%20%20%20%20%20%20%20%5B41.9507%2C%20-87.6687%5D%2C%0A%20%20%20%20%20%20%20%20%20%20%20%20%20%20%20%20%7B%0A%20%20%22bubblingMouseEvents%22%3A%20true%2C%0A%20%20%22color%22%3A%20%22%230A8A9F%22%2C%0A%20%20%22dashArray%22%3A%20null%2C%0A%20%20%22dashOffset%22%3A%20null%2C%0A%20%20%22fill%22%3A%20true%2C%0A%20%20%22fillColor%22%3A%20%22%230A8A9F%22%2C%0A%20%20%22fillOpacity%22%3A%200.2%2C%0A%20%20%22fillRule%22%3A%20%22evenodd%22%2C%0A%20%20%22lineCap%22%3A%20%22round%22%2C%0A%20%20%22lineJoin%22%3A%20%22round%22%2C%0A%20%20%22opacity%22%3A%201.0%2C%0A%20%20%22radius%22%3A%205%2C%0A%20%20%22stroke%22%3A%20true%2C%0A%20%20%22weight%22%3A%201%0A%7D%0A%20%20%20%20%20%20%20%20%20%20%20%20%20%20%20%20%29%0A%20%20%20%20%20%20%20%20%20%20%20%20%20%20%20%20.addTo%28map_55dce43f431b40ea80cc01f8f9f96660%29%3B%0A%20%20%20%20%20%20%20%20%20%20%20%20%0A%20%20%20%20%0A%20%20%20%20%20%20%20%20%20%20%20%20var%20circle_marker_1f93830825db42218207fdcac765f442%20%3D%20L.circleMarker%28%0A%20%20%20%20%20%20%20%20%20%20%20%20%20%20%20%20%5B41.9482%2C%20-87.6639%5D%2C%0A%20%20%20%20%20%20%20%20%20%20%20%20%20%20%20%20%7B%0A%20%20%22bubblingMouseEvents%22%3A%20true%2C%0A%20%20%22color%22%3A%20%22%23f68e56%22%2C%0A%20%20%22dashArray%22%3A%20null%2C%0A%20%20%22dashOffset%22%3A%20null%2C%0A%20%20%22fill%22%3A%20true%2C%0A%20%20%22fillColor%22%3A%20%22%23f68e56%22%2C%0A%20%20%22fillOpacity%22%3A%200.2%2C%0A%20%20%22fillRule%22%3A%20%22evenodd%22%2C%0A%20%20%22lineCap%22%3A%20%22round%22%2C%0A%20%20%22lineJoin%22%3A%20%22round%22%2C%0A%20%20%22opacity%22%3A%201.0%2C%0A%20%20%22radius%22%3A%205%2C%0A%20%20%22stroke%22%3A%20true%2C%0A%20%20%22weight%22%3A%201%0A%7D%0A%20%20%20%20%20%20%20%20%20%20%20%20%20%20%20%20%29%0A%20%20%20%20%20%20%20%20%20%20%20%20%20%20%20%20.addTo%28map_55dce43f431b40ea80cc01f8f9f96660%29%3B%0A%20%20%20%20%20%20%20%20%20%20%20%20%0A%20%20%20%20%0A%20%20%20%20%20%20%20%20%20%20%20%20var%20circle_marker_54f888db73364bb1849ff6398dc81d3c%20%3D%20L.circleMarker%28%0A%20%20%20%20%20%20%20%20%20%20%20%20%20%20%20%20%5B41.8819%2C%20-87.6488%5D%2C%0A%20%20%20%20%20%20%20%20%20%20%20%20%20%20%20%20%7B%0A%20%20%22bubblingMouseEvents%22%3A%20true%2C%0A%20%20%22color%22%3A%20%22%230A8A9F%22%2C%0A%20%20%22dashArray%22%3A%20null%2C%0A%20%20%22dashOffset%22%3A%20null%2C%0A%20%20%22fill%22%3A%20true%2C%0A%20%20%22fillColor%22%3A%20%22%230A8A9F%22%2C%0A%20%20%22fillOpacity%22%3A%200.2%2C%0A%20%20%22fillRule%22%3A%20%22evenodd%22%2C%0A%20%20%22lineCap%22%3A%20%22round%22%2C%0A%20%20%22lineJoin%22%3A%20%22round%22%2C%0A%20%20%22opacity%22%3A%201.0%2C%0A%20%20%22radius%22%3A%205%2C%0A%20%20%22stroke%22%3A%20true%2C%0A%20%20%22weight%22%3A%201%0A%7D%0A%20%20%20%20%20%20%20%20%20%20%20%20%20%20%20%20%29%0A%20%20%20%20%20%20%20%20%20%20%20%20%20%20%20%20.addTo%28map_55dce43f431b40ea80cc01f8f9f96660%29%3B%0A%20%20%20%20%20%20%20%20%20%20%20%20%0A%20%20%20%20%0A%20%20%20%20%20%20%20%20%20%20%20%20var%20circle_marker_7f1fa23c4a9048f49d74a784bb02673b%20%3D%20L.circleMarker%28%0A%20%20%20%20%20%20%20%20%20%20%20%20%20%20%20%20%5B41.8748%2C%20-87.6498%5D%2C%0A%20%20%20%20%20%20%20%20%20%20%20%20%20%20%20%20%7B%0A%20%20%22bubblingMouseEvents%22%3A%20true%2C%0A%20%20%22color%22%3A%20%22%23f68e56%22%2C%0A%20%20%22dashArray%22%3A%20null%2C%0A%20%20%22dashOffset%22%3A%20null%2C%0A%20%20%22fill%22%3A%20true%2C%0A%20%20%22fillColor%22%3A%20%22%23f68e56%22%2C%0A%20%20%22fillOpacity%22%3A%200.2%2C%0A%20%20%22fillRule%22%3A%20%22evenodd%22%2C%0A%20%20%22lineCap%22%3A%20%22round%22%2C%0A%20%20%22lineJoin%22%3A%20%22round%22%2C%0A%20%20%22opacity%22%3A%201.0%2C%0A%20%20%22radius%22%3A%205%2C%0A%20%20%22stroke%22%3A%20true%2C%0A%20%20%22weight%22%3A%201%0A%7D%0A%20%20%20%20%20%20%20%20%20%20%20%20%20%20%20%20%29%0A%20%20%20%20%20%20%20%20%20%20%20%20%20%20%20%20.addTo%28map_55dce43f431b40ea80cc01f8f9f96660%29%3B%0A%20%20%20%20%20%20%20%20%20%20%20%20%0A%20%20%20%20%0A%20%20%20%20%20%20%20%20%20%20%20%20var%20circle_marker_bb86792754c240c1a16d32627fac3a5d%20%3D%20L.circleMarker%28%0A%20%20%20%20%20%20%20%20%20%20%20%20%20%20%20%20%5B41.9691%2C%20-87.6742%5D%2C%0A%20%20%20%20%20%20%20%20%20%20%20%20%20%20%20%20%7B%0A%20%20%22bubblingMouseEvents%22%3A%20true%2C%0A%20%20%22color%22%3A%20%22%230A8A9F%22%2C%0A%20%20%22dashArray%22%3A%20null%2C%0A%20%20%22dashOffset%22%3A%20null%2C%0A%20%20%22fill%22%3A%20true%2C%0A%20%20%22fillColor%22%3A%20%22%230A8A9F%22%2C%0A%20%20%22fillOpacity%22%3A%200.2%2C%0A%20%20%22fillRule%22%3A%20%22evenodd%22%2C%0A%20%20%22lineCap%22%3A%20%22round%22%2C%0A%20%20%22lineJoin%22%3A%20%22round%22%2C%0A%20%20%22opacity%22%3A%201.0%2C%0A%20%20%22radius%22%3A%205%2C%0A%20%20%22stroke%22%3A%20true%2C%0A%20%20%22weight%22%3A%201%0A%7D%0A%20%20%20%20%20%20%20%20%20%20%20%20%20%20%20%20%29%0A%20%20%20%20%20%20%20%20%20%20%20%20%20%20%20%20.addTo%28map_55dce43f431b40ea80cc01f8f9f96660%29%3B%0A%20%20%20%20%20%20%20%20%20%20%20%20%0A%20%20%20%20%0A%20%20%20%20%20%20%20%20%20%20%20%20var%20circle_marker_6ca82b5d7b364d1bb7c46624a45b2d8b%20%3D%20L.circleMarker%28%0A%20%20%20%20%20%20%20%20%20%20%20%20%20%20%20%20%5B41.9482%2C%20-87.6639%5D%2C%0A%20%20%20%20%20%20%20%20%20%20%20%20%20%20%20%20%7B%0A%20%20%22bubblingMouseEvents%22%3A%20true%2C%0A%20%20%22color%22%3A%20%22%23f68e56%22%2C%0A%20%20%22dashArray%22%3A%20null%2C%0A%20%20%22dashOffset%22%3A%20null%2C%0A%20%20%22fill%22%3A%20true%2C%0A%20%20%22fillColor%22%3A%20%22%23f68e56%22%2C%0A%20%20%22fillOpacity%22%3A%200.2%2C%0A%20%20%22fillRule%22%3A%20%22evenodd%22%2C%0A%20%20%22lineCap%22%3A%20%22round%22%2C%0A%20%20%22lineJoin%22%3A%20%22round%22%2C%0A%20%20%22opacity%22%3A%201.0%2C%0A%20%20%22radius%22%3A%205%2C%0A%20%20%22stroke%22%3A%20true%2C%0A%20%20%22weight%22%3A%201%0A%7D%0A%20%20%20%20%20%20%20%20%20%20%20%20%20%20%20%20%29%0A%20%20%20%20%20%20%20%20%20%20%20%20%20%20%20%20.addTo%28map_55dce43f431b40ea80cc01f8f9f96660%29%3B%0A%20%20%20%20%20%20%20%20%20%20%20%20%0A%20%20%20%20%0A%20%20%20%20%20%20%20%20%20%20%20%20var%20circle_marker_340def23a2914ecca0709be14bef461a%20%3D%20L.circleMarker%28%0A%20%20%20%20%20%20%20%20%20%20%20%20%20%20%20%20%5B41.9482%2C%20-87.6639%5D%2C%0A%20%20%20%20%20%20%20%20%20%20%20%20%20%20%20%20%7B%0A%20%20%22bubblingMouseEvents%22%3A%20true%2C%0A%20%20%22color%22%3A%20%22%230A8A9F%22%2C%0A%20%20%22dashArray%22%3A%20null%2C%0A%20%20%22dashOffset%22%3A%20null%2C%0A%20%20%22fill%22%3A%20true%2C%0A%20%20%22fillColor%22%3A%20%22%230A8A9F%22%2C%0A%20%20%22fillOpacity%22%3A%200.2%2C%0A%20%20%22fillRule%22%3A%20%22evenodd%22%2C%0A%20%20%22lineCap%22%3A%20%22round%22%2C%0A%20%20%22lineJoin%22%3A%20%22round%22%2C%0A%20%20%22opacity%22%3A%201.0%2C%0A%20%20%22radius%22%3A%205%2C%0A%20%20%22stroke%22%3A%20true%2C%0A%20%20%22weight%22%3A%201%0A%7D%0A%20%20%20%20%20%20%20%20%20%20%20%20%20%20%20%20%29%0A%20%20%20%20%20%20%20%20%20%20%20%20%20%20%20%20.addTo%28map_55dce43f431b40ea80cc01f8f9f96660%29%3B%0A%20%20%20%20%20%20%20%20%20%20%20%20%0A%20%20%20%20%0A%20%20%20%20%20%20%20%20%20%20%20%20var%20circle_marker_a348ed2808e54d89ad8612c97dbcd1b5%20%3D%20L.circleMarker%28%0A%20%20%20%20%20%20%20%20%20%20%20%20%20%20%20%20%5B41.9691%2C%20-87.6742%5D%2C%0A%20%20%20%20%20%20%20%20%20%20%20%20%20%20%20%20%7B%0A%20%20%22bubblingMouseEvents%22%3A%20true%2C%0A%20%20%22color%22%3A%20%22%23f68e56%22%2C%0A%20%20%22dashArray%22%3A%20null%2C%0A%20%20%22dashOffset%22%3A%20null%2C%0A%20%20%22fill%22%3A%20true%2C%0A%20%20%22fillColor%22%3A%20%22%23f68e56%22%2C%0A%20%20%22fillOpacity%22%3A%200.2%2C%0A%20%20%22fillRule%22%3A%20%22evenodd%22%2C%0A%20%20%22lineCap%22%3A%20%22round%22%2C%0A%20%20%22lineJoin%22%3A%20%22round%22%2C%0A%20%20%22opacity%22%3A%201.0%2C%0A%20%20%22radius%22%3A%205%2C%0A%20%20%22stroke%22%3A%20true%2C%0A%20%20%22weight%22%3A%201%0A%7D%0A%20%20%20%20%20%20%20%20%20%20%20%20%20%20%20%20%29%0A%20%20%20%20%20%20%20%20%20%20%20%20%20%20%20%20.addTo%28map_55dce43f431b40ea80cc01f8f9f96660%29%3B%0A%20%20%20%20%20%20%20%20%20%20%20%20%0A%20%20%20%20%0A%20%20%20%20%20%20%20%20%20%20%20%20var%20circle_marker_ab30d504657e4e10bd103164ac49e2ed%20%3D%20L.circleMarker%28%0A%20%20%20%20%20%20%20%20%20%20%20%20%20%20%20%20%5B41.9482%2C%20-87.6639%5D%2C%0A%20%20%20%20%20%20%20%20%20%20%20%20%20%20%20%20%7B%0A%20%20%22bubblingMouseEvents%22%3A%20true%2C%0A%20%20%22color%22%3A%20%22%230A8A9F%22%2C%0A%20%20%22dashArray%22%3A%20null%2C%0A%20%20%22dashOffset%22%3A%20null%2C%0A%20%20%22fill%22%3A%20true%2C%0A%20%20%22fillColor%22%3A%20%22%230A8A9F%22%2C%0A%20%20%22fillOpacity%22%3A%200.2%2C%0A%20%20%22fillRule%22%3A%20%22evenodd%22%2C%0A%20%20%22lineCap%22%3A%20%22round%22%2C%0A%20%20%22lineJoin%22%3A%20%22round%22%2C%0A%20%20%22opacity%22%3A%201.0%2C%0A%20%20%22radius%22%3A%205%2C%0A%20%20%22stroke%22%3A%20true%2C%0A%20%20%22weight%22%3A%201%0A%7D%0A%20%20%20%20%20%20%20%20%20%20%20%20%20%20%20%20%29%0A%20%20%20%20%20%20%20%20%20%20%20%20%20%20%20%20.addTo%28map_55dce43f431b40ea80cc01f8f9f96660%29%3B%0A%20%20%20%20%20%20%20%20%20%20%20%20%0A%20%20%20%20%0A%20%20%20%20%20%20%20%20%20%20%20%20var%20circle_marker_b24d90ba22e2471792d7389528fda8a1%20%3D%20L.circleMarker%28%0A%20%20%20%20%20%20%20%20%20%20%20%20%20%20%20%20%5B41.9482%2C%20-87.6639%5D%2C%0A%20%20%20%20%20%20%20%20%20%20%20%20%20%20%20%20%7B%0A%20%20%22bubblingMouseEvents%22%3A%20true%2C%0A%20%20%22color%22%3A%20%22%23f68e56%22%2C%0A%20%20%22dashArray%22%3A%20null%2C%0A%20%20%22dashOffset%22%3A%20null%2C%0A%20%20%22fill%22%3A%20true%2C%0A%20%20%22fillColor%22%3A%20%22%23f68e56%22%2C%0A%20%20%22fillOpacity%22%3A%200.2%2C%0A%20%20%22fillRule%22%3A%20%22evenodd%22%2C%0A%20%20%22lineCap%22%3A%20%22round%22%2C%0A%20%20%22lineJoin%22%3A%20%22round%22%2C%0A%20%20%22opacity%22%3A%201.0%2C%0A%20%20%22radius%22%3A%205%2C%0A%20%20%22stroke%22%3A%20true%2C%0A%20%20%22weight%22%3A%201%0A%7D%0A%20%20%20%20%20%20%20%20%20%20%20%20%20%20%20%20%29%0A%20%20%20%20%20%20%20%20%20%20%20%20%20%20%20%20.addTo%28map_55dce43f431b40ea80cc01f8f9f96660%29%3B%0A%20%20%20%20%20%20%20%20%20%20%20%20%0A%20%20%20%20%0A%20%20%20%20%20%20%20%20%20%20%20%20var%20circle_marker_1e6a54ba01304e3793dd64303b7089df%20%3D%20L.circleMarker%28%0A%20%20%20%20%20%20%20%20%20%20%20%20%20%20%20%20%5B41.9482%2C%20-87.6639%5D%2C%0A%20%20%20%20%20%20%20%20%20%20%20%20%20%20%20%20%7B%0A%20%20%22bubblingMouseEvents%22%3A%20true%2C%0A%20%20%22color%22%3A%20%22%230A8A9F%22%2C%0A%20%20%22dashArray%22%3A%20null%2C%0A%20%20%22dashOffset%22%3A%20null%2C%0A%20%20%22fill%22%3A%20true%2C%0A%20%20%22fillColor%22%3A%20%22%230A8A9F%22%2C%0A%20%20%22fillOpacity%22%3A%200.2%2C%0A%20%20%22fillRule%22%3A%20%22evenodd%22%2C%0A%20%20%22lineCap%22%3A%20%22round%22%2C%0A%20%20%22lineJoin%22%3A%20%22round%22%2C%0A%20%20%22opacity%22%3A%201.0%2C%0A%20%20%22radius%22%3A%205%2C%0A%20%20%22stroke%22%3A%20true%2C%0A%20%20%22weight%22%3A%201%0A%7D%0A%20%20%20%20%20%20%20%20%20%20%20%20%20%20%20%20%29%0A%20%20%20%20%20%20%20%20%20%20%20%20%20%20%20%20.addTo%28map_55dce43f431b40ea80cc01f8f9f96660%29%3B%0A%20%20%20%20%20%20%20%20%20%20%20%20%0A%20%20%20%20%0A%20%20%20%20%20%20%20%20%20%20%20%20var%20circle_marker_6ff54125c99245389a10e52a7744c36d%20%3D%20L.circleMarker%28%0A%20%20%20%20%20%20%20%20%20%20%20%20%20%20%20%20%5B41.9482%2C%20-87.6639%5D%2C%0A%20%20%20%20%20%20%20%20%20%20%20%20%20%20%20%20%7B%0A%20%20%22bubblingMouseEvents%22%3A%20true%2C%0A%20%20%22color%22%3A%20%22%23f68e56%22%2C%0A%20%20%22dashArray%22%3A%20null%2C%0A%20%20%22dashOffset%22%3A%20null%2C%0A%20%20%22fill%22%3A%20true%2C%0A%20%20%22fillColor%22%3A%20%22%23f68e56%22%2C%0A%20%20%22fillOpacity%22%3A%200.2%2C%0A%20%20%22fillRule%22%3A%20%22evenodd%22%2C%0A%20%20%22lineCap%22%3A%20%22round%22%2C%0A%20%20%22lineJoin%22%3A%20%22round%22%2C%0A%20%20%22opacity%22%3A%201.0%2C%0A%20%20%22radius%22%3A%205%2C%0A%20%20%22stroke%22%3A%20true%2C%0A%20%20%22weight%22%3A%201%0A%7D%0A%20%20%20%20%20%20%20%20%20%20%20%20%20%20%20%20%29%0A%20%20%20%20%20%20%20%20%20%20%20%20%20%20%20%20.addTo%28map_55dce43f431b40ea80cc01f8f9f96660%29%3B%0A%20%20%20%20%20%20%20%20%20%20%20%20%0A%20%20%20%20%0A%20%20%20%20%20%20%20%20%20%20%20%20var%20circle_marker_bdbc09f1c41f41f097abfaececb1f104%20%3D%20L.circleMarker%28%0A%20%20%20%20%20%20%20%20%20%20%20%20%20%20%20%20%5B42.056999999999995%2C%20-87.6866%5D%2C%0A%20%20%20%20%20%20%20%20%20%20%20%20%20%20%20%20%7B%0A%20%20%22bubblingMouseEvents%22%3A%20true%2C%0A%20%20%22color%22%3A%20%22%230A8A9F%22%2C%0A%20%20%22dashArray%22%3A%20null%2C%0A%20%20%22dashOffset%22%3A%20null%2C%0A%20%20%22fill%22%3A%20true%2C%0A%20%20%22fillColor%22%3A%20%22%230A8A9F%22%2C%0A%20%20%22fillOpacity%22%3A%200.2%2C%0A%20%20%22fillRule%22%3A%20%22evenodd%22%2C%0A%20%20%22lineCap%22%3A%20%22round%22%2C%0A%20%20%22lineJoin%22%3A%20%22round%22%2C%0A%20%20%22opacity%22%3A%201.0%2C%0A%20%20%22radius%22%3A%205%2C%0A%20%20%22stroke%22%3A%20true%2C%0A%20%20%22weight%22%3A%201%0A%7D%0A%20%20%20%20%20%20%20%20%20%20%20%20%20%20%20%20%29%0A%20%20%20%20%20%20%20%20%20%20%20%20%20%20%20%20.addTo%28map_55dce43f431b40ea80cc01f8f9f96660%29%3B%0A%20%20%20%20%20%20%20%20%20%20%20%20%0A%20%20%20%20%0A%20%20%20%20%20%20%20%20%20%20%20%20var%20circle_marker_f672cdaeaa234c41ae4db18b285da1b7%20%3D%20L.circleMarker%28%0A%20%20%20%20%20%20%20%20%20%20%20%20%20%20%20%20%5B42.056999999999995%2C%20-87.6866%5D%2C%0A%20%20%20%20%20%20%20%20%20%20%20%20%20%20%20%20%7B%0A%20%20%22bubblingMouseEvents%22%3A%20true%2C%0A%20%20%22color%22%3A%20%22%23f68e56%22%2C%0A%20%20%22dashArray%22%3A%20null%2C%0A%20%20%22dashOffset%22%3A%20null%2C%0A%20%20%22fill%22%3A%20true%2C%0A%20%20%22fillColor%22%3A%20%22%23f68e56%22%2C%0A%20%20%22fillOpacity%22%3A%200.2%2C%0A%20%20%22fillRule%22%3A%20%22evenodd%22%2C%0A%20%20%22lineCap%22%3A%20%22round%22%2C%0A%20%20%22lineJoin%22%3A%20%22round%22%2C%0A%20%20%22opacity%22%3A%201.0%2C%0A%20%20%22radius%22%3A%205%2C%0A%20%20%22stroke%22%3A%20true%2C%0A%20%20%22weight%22%3A%201%0A%7D%0A%20%20%20%20%20%20%20%20%20%20%20%20%20%20%20%20%29%0A%20%20%20%20%20%20%20%20%20%20%20%20%20%20%20%20.addTo%28map_55dce43f431b40ea80cc01f8f9f96660%29%3B%0A%20%20%20%20%20%20%20%20%20%20%20%20%0A%20%20%20%20%0A%20%20%20%20%20%20%20%20%20%20%20%20var%20circle_marker_1d7606335ff84574bb20181e58cc1290%20%3D%20L.circleMarker%28%0A%20%20%20%20%20%20%20%20%20%20%20%20%20%20%20%20%5B41.9259%2C%20-87.6493%5D%2C%0A%20%20%20%20%20%20%20%20%20%20%20%20%20%20%20%20%7B%0A%20%20%22bubblingMouseEvents%22%3A%20true%2C%0A%20%20%22color%22%3A%20%22%230A8A9F%22%2C%0A%20%20%22dashArray%22%3A%20null%2C%0A%20%20%22dashOffset%22%3A%20null%2C%0A%20%20%22fill%22%3A%20true%2C%0A%20%20%22fillColor%22%3A%20%22%230A8A9F%22%2C%0A%20%20%22fillOpacity%22%3A%200.2%2C%0A%20%20%22fillRule%22%3A%20%22evenodd%22%2C%0A%20%20%22lineCap%22%3A%20%22round%22%2C%0A%20%20%22lineJoin%22%3A%20%22round%22%2C%0A%20%20%22opacity%22%3A%201.0%2C%0A%20%20%22radius%22%3A%205%2C%0A%20%20%22stroke%22%3A%20true%2C%0A%20%20%22weight%22%3A%201%0A%7D%0A%20%20%20%20%20%20%20%20%20%20%20%20%20%20%20%20%29%0A%20%20%20%20%20%20%20%20%20%20%20%20%20%20%20%20.addTo%28map_55dce43f431b40ea80cc01f8f9f96660%29%3B%0A%20%20%20%20%20%20%20%20%20%20%20%20%0A%20%20%20%20%0A%20%20%20%20%20%20%20%20%20%20%20%20var%20circle_marker_f32647e3ad18423bafe6fb567f445ae3%20%3D%20L.circleMarker%28%0A%20%20%20%20%20%20%20%20%20%20%20%20%20%20%20%20%5B41.9259%2C%20-87.6493%5D%2C%0A%20%20%20%20%20%20%20%20%20%20%20%20%20%20%20%20%7B%0A%20%20%22bubblingMouseEvents%22%3A%20true%2C%0A%20%20%22color%22%3A%20%22%23f68e56%22%2C%0A%20%20%22dashArray%22%3A%20null%2C%0A%20%20%22dashOffset%22%3A%20null%2C%0A%20%20%22fill%22%3A%20true%2C%0A%20%20%22fillColor%22%3A%20%22%23f68e56%22%2C%0A%20%20%22fillOpacity%22%3A%200.2%2C%0A%20%20%22fillRule%22%3A%20%22evenodd%22%2C%0A%20%20%22lineCap%22%3A%20%22round%22%2C%0A%20%20%22lineJoin%22%3A%20%22round%22%2C%0A%20%20%22opacity%22%3A%201.0%2C%0A%20%20%22radius%22%3A%205%2C%0A%20%20%22stroke%22%3A%20true%2C%0A%20%20%22weight%22%3A%201%0A%7D%0A%20%20%20%20%20%20%20%20%20%20%20%20%20%20%20%20%29%0A%20%20%20%20%20%20%20%20%20%20%20%20%20%20%20%20.addTo%28map_55dce43f431b40ea80cc01f8f9f96660%29%3B%0A%20%20%20%20%20%20%20%20%20%20%20%20%0A%20%20%20%20%0A%20%20%20%20%20%20%20%20%20%20%20%20var%20circle_marker_4b25729d31d5420eab775a24a4d7bab2%20%3D%20L.circleMarker%28%0A%20%20%20%20%20%20%20%20%20%20%20%20%20%20%20%20%5B41.8804%2C%20-87.6555%5D%2C%0A%20%20%20%20%20%20%20%20%20%20%20%20%20%20%20%20%7B%0A%20%20%22bubblingMouseEvents%22%3A%20true%2C%0A%20%20%22color%22%3A%20%22%230A8A9F%22%2C%0A%20%20%22dashArray%22%3A%20null%2C%0A%20%20%22dashOffset%22%3A%20null%2C%0A%20%20%22fill%22%3A%20true%2C%0A%20%20%22fillColor%22%3A%20%22%230A8A9F%22%2C%0A%20%20%22fillOpacity%22%3A%200.2%2C%0A%20%20%22fillRule%22%3A%20%22evenodd%22%2C%0A%20%20%22lineCap%22%3A%20%22round%22%2C%0A%20%20%22lineJoin%22%3A%20%22round%22%2C%0A%20%20%22opacity%22%3A%201.0%2C%0A%20%20%22radius%22%3A%205%2C%0A%20%20%22stroke%22%3A%20true%2C%0A%20%20%22weight%22%3A%201%0A%7D%0A%20%20%20%20%20%20%20%20%20%20%20%20%20%20%20%20%29%0A%20%20%20%20%20%20%20%20%20%20%20%20%20%20%20%20.addTo%28map_55dce43f431b40ea80cc01f8f9f96660%29%3B%0A%20%20%20%20%20%20%20%20%20%20%20%20%0A%20%20%20%20%0A%20%20%20%20%20%20%20%20%20%20%20%20var%20circle_marker_8cd65ac9498c46119463209673ee8499%20%3D%20L.circleMarker%28%0A%20%20%20%20%20%20%20%20%20%20%20%20%20%20%20%20%5B41.8841%2C%20-87.6543%5D%2C%0A%20%20%20%20%20%20%20%20%20%20%20%20%20%20%20%20%7B%0A%20%20%22bubblingMouseEvents%22%3A%20true%2C%0A%20%20%22color%22%3A%20%22%23f68e56%22%2C%0A%20%20%22dashArray%22%3A%20null%2C%0A%20%20%22dashOffset%22%3A%20null%2C%0A%20%20%22fill%22%3A%20true%2C%0A%20%20%22fillColor%22%3A%20%22%23f68e56%22%2C%0A%20%20%22fillOpacity%22%3A%200.2%2C%0A%20%20%22fillRule%22%3A%20%22evenodd%22%2C%0A%20%20%22lineCap%22%3A%20%22round%22%2C%0A%20%20%22lineJoin%22%3A%20%22round%22%2C%0A%20%20%22opacity%22%3A%201.0%2C%0A%20%20%22radius%22%3A%205%2C%0A%20%20%22stroke%22%3A%20true%2C%0A%20%20%22weight%22%3A%201%0A%7D%0A%20%20%20%20%20%20%20%20%20%20%20%20%20%20%20%20%29%0A%20%20%20%20%20%20%20%20%20%20%20%20%20%20%20%20.addTo%28map_55dce43f431b40ea80cc01f8f9f96660%29%3B%0A%20%20%20%20%20%20%20%20%20%20%20%20%0A%20%20%20%20%0A%20%20%20%20%20%20%20%20%20%20%20%20var%20circle_marker_2bfe530e3ca044a9b49ffaf757ae112b%20%3D%20L.circleMarker%28%0A%20%20%20%20%20%20%20%20%20%20%20%20%20%20%20%20%5B41.8822%2C%20-87.6411%5D%2C%0A%20%20%20%20%20%20%20%20%20%20%20%20%20%20%20%20%7B%0A%20%20%22bubblingMouseEvents%22%3A%20true%2C%0A%20%20%22color%22%3A%20%22%230A8A9F%22%2C%0A%20%20%22dashArray%22%3A%20null%2C%0A%20%20%22dashOffset%22%3A%20null%2C%0A%20%20%22fill%22%3A%20true%2C%0A%20%20%22fillColor%22%3A%20%22%230A8A9F%22%2C%0A%20%20%22fillOpacity%22%3A%200.2%2C%0A%20%20%22fillRule%22%3A%20%22evenodd%22%2C%0A%20%20%22lineCap%22%3A%20%22round%22%2C%0A%20%20%22lineJoin%22%3A%20%22round%22%2C%0A%20%20%22opacity%22%3A%201.0%2C%0A%20%20%22radius%22%3A%205%2C%0A%20%20%22stroke%22%3A%20true%2C%0A%20%20%22weight%22%3A%201%0A%7D%0A%20%20%20%20%20%20%20%20%20%20%20%20%20%20%20%20%29%0A%20%20%20%20%20%20%20%20%20%20%20%20%20%20%20%20.addTo%28map_55dce43f431b40ea80cc01f8f9f96660%29%3B%0A%20%20%20%20%20%20%20%20%20%20%20%20%0A%20%20%20%20%0A%20%20%20%20%20%20%20%20%20%20%20%20var%20circle_marker_27b60741172d43909251f3e47316ca3b%20%3D%20L.circleMarker%28%0A%20%20%20%20%20%20%20%20%20%20%20%20%20%20%20%20%5B41.8856%2C%20-87.6418%5D%2C%0A%20%20%20%20%20%20%20%20%20%20%20%20%20%20%20%20%7B%0A%20%20%22bubblingMouseEvents%22%3A%20true%2C%0A%20%20%22color%22%3A%20%22%23f68e56%22%2C%0A%20%20%22dashArray%22%3A%20null%2C%0A%20%20%22dashOffset%22%3A%20null%2C%0A%20%20%22fill%22%3A%20true%2C%0A%20%20%22fillColor%22%3A%20%22%23f68e56%22%2C%0A%20%20%22fillOpacity%22%3A%200.2%2C%0A%20%20%22fillRule%22%3A%20%22evenodd%22%2C%0A%20%20%22lineCap%22%3A%20%22round%22%2C%0A%20%20%22lineJoin%22%3A%20%22round%22%2C%0A%20%20%22opacity%22%3A%201.0%2C%0A%20%20%22radius%22%3A%205%2C%0A%20%20%22stroke%22%3A%20true%2C%0A%20%20%22weight%22%3A%201%0A%7D%0A%20%20%20%20%20%20%20%20%20%20%20%20%20%20%20%20%29%0A%20%20%20%20%20%20%20%20%20%20%20%20%20%20%20%20.addTo%28map_55dce43f431b40ea80cc01f8f9f96660%29%3B%0A%20%20%20%20%20%20%20%20%20%20%20%20%0A%20%20%20%20%0A%20%20%20%20%20%20%20%20%20%20%20%20var%20circle_marker_8a353c5deca743ccb9901439b9550936%20%3D%20L.circleMarker%28%0A%20%20%20%20%20%20%20%20%20%20%20%20%20%20%20%20%5B41.8828%2C%20-87.6612%5D%2C%0A%20%20%20%20%20%20%20%20%20%20%20%20%20%20%20%20%7B%0A%20%20%22bubblingMouseEvents%22%3A%20true%2C%0A%20%20%22color%22%3A%20%22%230A8A9F%22%2C%0A%20%20%22dashArray%22%3A%20null%2C%0A%20%20%22dashOffset%22%3A%20null%2C%0A%20%20%22fill%22%3A%20true%2C%0A%20%20%22fillColor%22%3A%20%22%230A8A9F%22%2C%0A%20%20%22fillOpacity%22%3A%200.2%2C%0A%20%20%22fillRule%22%3A%20%22evenodd%22%2C%0A%20%20%22lineCap%22%3A%20%22round%22%2C%0A%20%20%22lineJoin%22%3A%20%22round%22%2C%0A%20%20%22opacity%22%3A%201.0%2C%0A%20%20%22radius%22%3A%205%2C%0A%20%20%22stroke%22%3A%20true%2C%0A%20%20%22weight%22%3A%201%0A%7D%0A%20%20%20%20%20%20%20%20%20%20%20%20%20%20%20%20%29%0A%20%20%20%20%20%20%20%20%20%20%20%20%20%20%20%20.addTo%28map_55dce43f431b40ea80cc01f8f9f96660%29%3B%0A%20%20%20%20%20%20%20%20%20%20%20%20%0A%20%20%20%20%0A%20%20%20%20%20%20%20%20%20%20%20%20var%20circle_marker_be1448d4775d4931a96c4956f7c36da3%20%3D%20L.circleMarker%28%0A%20%20%20%20%20%20%20%20%20%20%20%20%20%20%20%20%5B41.8765%2C%20-87.6205%5D%2C%0A%20%20%20%20%20%20%20%20%20%20%20%20%20%20%20%20%7B%0A%20%20%22bubblingMouseEvents%22%3A%20true%2C%0A%20%20%22color%22%3A%20%22%23f68e56%22%2C%0A%20%20%22dashArray%22%3A%20null%2C%0A%20%20%22dashOffset%22%3A%20null%2C%0A%20%20%22fill%22%3A%20true%2C%0A%20%20%22fillColor%22%3A%20%22%23f68e56%22%2C%0A%20%20%22fillOpacity%22%3A%200.2%2C%0A%20%20%22fillRule%22%3A%20%22evenodd%22%2C%0A%20%20%22lineCap%22%3A%20%22round%22%2C%0A%20%20%22lineJoin%22%3A%20%22round%22%2C%0A%20%20%22opacity%22%3A%201.0%2C%0A%20%20%22radius%22%3A%205%2C%0A%20%20%22stroke%22%3A%20true%2C%0A%20%20%22weight%22%3A%201%0A%7D%0A%20%20%20%20%20%20%20%20%20%20%20%20%20%20%20%20%29%0A%20%20%20%20%20%20%20%20%20%20%20%20%20%20%20%20.addTo%28map_55dce43f431b40ea80cc01f8f9f96660%29%3B%0A%20%20%20%20%20%20%20%20%20%20%20%20%0A%20%20%20%20%0A%20%20%20%20%20%20%20%20%20%20%20%20var%20circle_marker_86d9bebf8daf4c3daed8ba66a5a244a3%20%3D%20L.circleMarker%28%0A%20%20%20%20%20%20%20%20%20%20%20%20%20%20%20%20%5B41.8804%2C%20-87.6555%5D%2C%0A%20%20%20%20%20%20%20%20%20%20%20%20%20%20%20%20%7B%0A%20%20%22bubblingMouseEvents%22%3A%20true%2C%0A%20%20%22color%22%3A%20%22%230A8A9F%22%2C%0A%20%20%22dashArray%22%3A%20null%2C%0A%20%20%22dashOffset%22%3A%20null%2C%0A%20%20%22fill%22%3A%20true%2C%0A%20%20%22fillColor%22%3A%20%22%230A8A9F%22%2C%0A%20%20%22fillOpacity%22%3A%200.2%2C%0A%20%20%22fillRule%22%3A%20%22evenodd%22%2C%0A%20%20%22lineCap%22%3A%20%22round%22%2C%0A%20%20%22lineJoin%22%3A%20%22round%22%2C%0A%20%20%22opacity%22%3A%201.0%2C%0A%20%20%22radius%22%3A%205%2C%0A%20%20%22stroke%22%3A%20true%2C%0A%20%20%22weight%22%3A%201%0A%7D%0A%20%20%20%20%20%20%20%20%20%20%20%20%20%20%20%20%29%0A%20%20%20%20%20%20%20%20%20%20%20%20%20%20%20%20.addTo%28map_55dce43f431b40ea80cc01f8f9f96660%29%3B%0A%20%20%20%20%20%20%20%20%20%20%20%20%0A%20%20%20%20%0A%20%20%20%20%20%20%20%20%20%20%20%20var%20circle_marker_33dfd3aaeca840698287b57f698f39a0%20%3D%20L.circleMarker%28%0A%20%20%20%20%20%20%20%20%20%20%20%20%20%20%20%20%5B41.8804%2C%20-87.6555%5D%2C%0A%20%20%20%20%20%20%20%20%20%20%20%20%20%20%20%20%7B%0A%20%20%22bubblingMouseEvents%22%3A%20true%2C%0A%20%20%22color%22%3A%20%22%23f68e56%22%2C%0A%20%20%22dashArray%22%3A%20null%2C%0A%20%20%22dashOffset%22%3A%20null%2C%0A%20%20%22fill%22%3A%20true%2C%0A%20%20%22fillColor%22%3A%20%22%23f68e56%22%2C%0A%20%20%22fillOpacity%22%3A%200.2%2C%0A%20%20%22fillRule%22%3A%20%22evenodd%22%2C%0A%20%20%22lineCap%22%3A%20%22round%22%2C%0A%20%20%22lineJoin%22%3A%20%22round%22%2C%0A%20%20%22opacity%22%3A%201.0%2C%0A%20%20%22radius%22%3A%205%2C%0A%20%20%22stroke%22%3A%20true%2C%0A%20%20%22weight%22%3A%201%0A%7D%0A%20%20%20%20%20%20%20%20%20%20%20%20%20%20%20%20%29%0A%20%20%20%20%20%20%20%20%20%20%20%20%20%20%20%20.addTo%28map_55dce43f431b40ea80cc01f8f9f96660%29%3B%0A%20%20%20%20%20%20%20%20%20%20%20%20%0A%20%20%20%20%0A%20%20%20%20%20%20%20%20%20%20%20%20var%20circle_marker_a7e854fa6c724334afa4d292a4a670af%20%3D%20L.circleMarker%28%0A%20%20%20%20%20%20%20%20%20%20%20%20%20%20%20%20%5B41.8804%2C%20-87.6555%5D%2C%0A%20%20%20%20%20%20%20%20%20%20%20%20%20%20%20%20%7B%0A%20%20%22bubblingMouseEvents%22%3A%20true%2C%0A%20%20%22color%22%3A%20%22%230A8A9F%22%2C%0A%20%20%22dashArray%22%3A%20null%2C%0A%20%20%22dashOffset%22%3A%20null%2C%0A%20%20%22fill%22%3A%20true%2C%0A%20%20%22fillColor%22%3A%20%22%230A8A9F%22%2C%0A%20%20%22fillOpacity%22%3A%200.2%2C%0A%20%20%22fillRule%22%3A%20%22evenodd%22%2C%0A%20%20%22lineCap%22%3A%20%22round%22%2C%0A%20%20%22lineJoin%22%3A%20%22round%22%2C%0A%20%20%22opacity%22%3A%201.0%2C%0A%20%20%22radius%22%3A%205%2C%0A%20%20%22stroke%22%3A%20true%2C%0A%20%20%22weight%22%3A%201%0A%7D%0A%20%20%20%20%20%20%20%20%20%20%20%20%20%20%20%20%29%0A%20%20%20%20%20%20%20%20%20%20%20%20%20%20%20%20.addTo%28map_55dce43f431b40ea80cc01f8f9f96660%29%3B%0A%20%20%20%20%20%20%20%20%20%20%20%20%0A%20%20%20%20%0A%20%20%20%20%20%20%20%20%20%20%20%20var%20circle_marker_b2f2dabe800749bc99452312d52a1c6f%20%3D%20L.circleMarker%28%0A%20%20%20%20%20%20%20%20%20%20%20%20%20%20%20%20%5B41.8779%2C%20-87.662%5D%2C%0A%20%20%20%20%20%20%20%20%20%20%20%20%20%20%20%20%7B%0A%20%20%22bubblingMouseEvents%22%3A%20true%2C%0A%20%20%22color%22%3A%20%22%23f68e56%22%2C%0A%20%20%22dashArray%22%3A%20null%2C%0A%20%20%22dashOffset%22%3A%20null%2C%0A%20%20%22fill%22%3A%20true%2C%0A%20%20%22fillColor%22%3A%20%22%23f68e56%22%2C%0A%20%20%22fillOpacity%22%3A%200.2%2C%0A%20%20%22fillRule%22%3A%20%22evenodd%22%2C%0A%20%20%22lineCap%22%3A%20%22round%22%2C%0A%20%20%22lineJoin%22%3A%20%22round%22%2C%0A%20%20%22opacity%22%3A%201.0%2C%0A%20%20%22radius%22%3A%205%2C%0A%20%20%22stroke%22%3A%20true%2C%0A%20%20%22weight%22%3A%201%0A%7D%0A%20%20%20%20%20%20%20%20%20%20%20%20%20%20%20%20%29%0A%20%20%20%20%20%20%20%20%20%20%20%20%20%20%20%20.addTo%28map_55dce43f431b40ea80cc01f8f9f96660%29%3B%0A%20%20%20%20%20%20%20%20%20%20%20%20%0A%20%20%20%20%0A%20%20%20%20%20%20%20%20%20%20%20%20var%20circle_marker_734be096eb3541b18b5a743e4cb2a1db%20%3D%20L.circleMarker%28%0A%20%20%20%20%20%20%20%20%20%20%20%20%20%20%20%20%5B41.9326%2C%20-87.6364%5D%2C%0A%20%20%20%20%20%20%20%20%20%20%20%20%20%20%20%20%7B%0A%20%20%22bubblingMouseEvents%22%3A%20true%2C%0A%20%20%22color%22%3A%20%22%230A8A9F%22%2C%0A%20%20%22dashArray%22%3A%20null%2C%0A%20%20%22dashOffset%22%3A%20null%2C%0A%20%20%22fill%22%3A%20true%2C%0A%20%20%22fillColor%22%3A%20%22%230A8A9F%22%2C%0A%20%20%22fillOpacity%22%3A%200.2%2C%0A%20%20%22fillRule%22%3A%20%22evenodd%22%2C%0A%20%20%22lineCap%22%3A%20%22round%22%2C%0A%20%20%22lineJoin%22%3A%20%22round%22%2C%0A%20%20%22opacity%22%3A%201.0%2C%0A%20%20%22radius%22%3A%205%2C%0A%20%20%22stroke%22%3A%20true%2C%0A%20%20%22weight%22%3A%201%0A%7D%0A%20%20%20%20%20%20%20%20%20%20%20%20%20%20%20%20%29%0A%20%20%20%20%20%20%20%20%20%20%20%20%20%20%20%20.addTo%28map_55dce43f431b40ea80cc01f8f9f96660%29%3B%0A%20%20%20%20%20%20%20%20%20%20%20%20%0A%20%20%20%20%0A%20%20%20%20%20%20%20%20%20%20%20%20var%20circle_marker_0748aaa6ea5c4ce98dc7a1fa0329c902%20%3D%20L.circleMarker%28%0A%20%20%20%20%20%20%20%20%20%20%20%20%20%20%20%20%5B41.9218%2C%20-87.6441%5D%2C%0A%20%20%20%20%20%20%20%20%20%20%20%20%20%20%20%20%7B%0A%20%20%22bubblingMouseEvents%22%3A%20true%2C%0A%20%20%22color%22%3A%20%22%23f68e56%22%2C%0A%20%20%22dashArray%22%3A%20null%2C%0A%20%20%22dashOffset%22%3A%20null%2C%0A%20%20%22fill%22%3A%20true%2C%0A%20%20%22fillColor%22%3A%20%22%23f68e56%22%2C%0A%20%20%22fillOpacity%22%3A%200.2%2C%0A%20%20%22fillRule%22%3A%20%22evenodd%22%2C%0A%20%20%22lineCap%22%3A%20%22round%22%2C%0A%20%20%22lineJoin%22%3A%20%22round%22%2C%0A%20%20%22opacity%22%3A%201.0%2C%0A%20%20%22radius%22%3A%205%2C%0A%20%20%22stroke%22%3A%20true%2C%0A%20%20%22weight%22%3A%201%0A%7D%0A%20%20%20%20%20%20%20%20%20%20%20%20%20%20%20%20%29%0A%20%20%20%20%20%20%20%20%20%20%20%20%20%20%20%20.addTo%28map_55dce43f431b40ea80cc01f8f9f96660%29%3B%0A%20%20%20%20%20%20%20%20%20%20%20%20%0A%20%20%20%20%0A%20%20%20%20%20%20%20%20%20%20%20%20var%20circle_marker_da39d65c061148c6900010cadeb5e9b7%20%3D%20L.circleMarker%28%0A%20%20%20%20%20%20%20%20%20%20%20%20%20%20%20%20%5B41.8957%2C%20-87.6201%5D%2C%0A%20%20%20%20%20%20%20%20%20%20%20%20%20%20%20%20%7B%0A%20%20%22bubblingMouseEvents%22%3A%20true%2C%0A%20%20%22color%22%3A%20%22%230A8A9F%22%2C%0A%20%20%22dashArray%22%3A%20null%2C%0A%20%20%22dashOffset%22%3A%20null%2C%0A%20%20%22fill%22%3A%20true%2C%0A%20%20%22fillColor%22%3A%20%22%230A8A9F%22%2C%0A%20%20%22fillOpacity%22%3A%200.2%2C%0A%20%20%22fillRule%22%3A%20%22evenodd%22%2C%0A%20%20%22lineCap%22%3A%20%22round%22%2C%0A%20%20%22lineJoin%22%3A%20%22round%22%2C%0A%20%20%22opacity%22%3A%201.0%2C%0A%20%20%22radius%22%3A%205%2C%0A%20%20%22stroke%22%3A%20true%2C%0A%20%20%22weight%22%3A%201%0A%7D%0A%20%20%20%20%20%20%20%20%20%20%20%20%20%20%20%20%29%0A%20%20%20%20%20%20%20%20%20%20%20%20%20%20%20%20.addTo%28map_55dce43f431b40ea80cc01f8f9f96660%29%3B%0A%20%20%20%20%20%20%20%20%20%20%20%20%0A%20%20%20%20%0A%20%20%20%20%20%20%20%20%20%20%20%20var%20circle_marker_7238f4bd94f044fb831d19d3ec36565f%20%3D%20L.circleMarker%28%0A%20%20%20%20%20%20%20%20%20%20%20%20%20%20%20%20%5B41.9544%2C%20-87.648%5D%2C%0A%20%20%20%20%20%20%20%20%20%20%20%20%20%20%20%20%7B%0A%20%20%22bubblingMouseEvents%22%3A%20true%2C%0A%20%20%22color%22%3A%20%22%23f68e56%22%2C%0A%20%20%22dashArray%22%3A%20null%2C%0A%20%20%22dashOffset%22%3A%20null%2C%0A%20%20%22fill%22%3A%20true%2C%0A%20%20%22fillColor%22%3A%20%22%23f68e56%22%2C%0A%20%20%22fillOpacity%22%3A%200.2%2C%0A%20%20%22fillRule%22%3A%20%22evenodd%22%2C%0A%20%20%22lineCap%22%3A%20%22round%22%2C%0A%20%20%22lineJoin%22%3A%20%22round%22%2C%0A%20%20%22opacity%22%3A%201.0%2C%0A%20%20%22radius%22%3A%205%2C%0A%20%20%22stroke%22%3A%20true%2C%0A%20%20%22weight%22%3A%201%0A%7D%0A%20%20%20%20%20%20%20%20%20%20%20%20%20%20%20%20%29%0A%20%20%20%20%20%20%20%20%20%20%20%20%20%20%20%20.addTo%28map_55dce43f431b40ea80cc01f8f9f96660%29%3B%0A%20%20%20%20%20%20%20%20%20%20%20%20%0A%20%20%20%20%0A%20%20%20%20%20%20%20%20%20%20%20%20var%20circle_marker_ce0dd052c1b14cde86809f2db84e55f9%20%3D%20L.circleMarker%28%0A%20%20%20%20%20%20%20%20%20%20%20%20%20%20%20%20%5B41.8955%2C%20-87.682%5D%2C%0A%20%20%20%20%20%20%20%20%20%20%20%20%20%20%20%20%7B%0A%20%20%22bubblingMouseEvents%22%3A%20true%2C%0A%20%20%22color%22%3A%20%22%230A8A9F%22%2C%0A%20%20%22dashArray%22%3A%20null%2C%0A%20%20%22dashOffset%22%3A%20null%2C%0A%20%20%22fill%22%3A%20true%2C%0A%20%20%22fillColor%22%3A%20%22%230A8A9F%22%2C%0A%20%20%22fillOpacity%22%3A%200.2%2C%0A%20%20%22fillRule%22%3A%20%22evenodd%22%2C%0A%20%20%22lineCap%22%3A%20%22round%22%2C%0A%20%20%22lineJoin%22%3A%20%22round%22%2C%0A%20%20%22opacity%22%3A%201.0%2C%0A%20%20%22radius%22%3A%205%2C%0A%20%20%22stroke%22%3A%20true%2C%0A%20%20%22weight%22%3A%201%0A%7D%0A%20%20%20%20%20%20%20%20%20%20%20%20%20%20%20%20%29%0A%20%20%20%20%20%20%20%20%20%20%20%20%20%20%20%20.addTo%28map_55dce43f431b40ea80cc01f8f9f96660%29%3B%0A%20%20%20%20%20%20%20%20%20%20%20%20%0A%20%20%20%20%0A%20%20%20%20%20%20%20%20%20%20%20%20var%20circle_marker_aad6b5cf82814c679a290e6f04ee2757%20%3D%20L.circleMarker%28%0A%20%20%20%20%20%20%20%20%20%20%20%20%20%20%20%20%5B41.8713%2C%20-87.6737%5D%2C%0A%20%20%20%20%20%20%20%20%20%20%20%20%20%20%20%20%7B%0A%20%20%22bubblingMouseEvents%22%3A%20true%2C%0A%20%20%22color%22%3A%20%22%23f68e56%22%2C%0A%20%20%22dashArray%22%3A%20null%2C%0A%20%20%22dashOffset%22%3A%20null%2C%0A%20%20%22fill%22%3A%20true%2C%0A%20%20%22fillColor%22%3A%20%22%23f68e56%22%2C%0A%20%20%22fillOpacity%22%3A%200.2%2C%0A%20%20%22fillRule%22%3A%20%22evenodd%22%2C%0A%20%20%22lineCap%22%3A%20%22round%22%2C%0A%20%20%22lineJoin%22%3A%20%22round%22%2C%0A%20%20%22opacity%22%3A%201.0%2C%0A%20%20%22radius%22%3A%205%2C%0A%20%20%22stroke%22%3A%20true%2C%0A%20%20%22weight%22%3A%201%0A%7D%0A%20%20%20%20%20%20%20%20%20%20%20%20%20%20%20%20%29%0A%20%20%20%20%20%20%20%20%20%20%20%20%20%20%20%20.addTo%28map_55dce43f431b40ea80cc01f8f9f96660%29%3B%0A%20%20%20%20%20%20%20%20%20%20%20%20%0A%20%20%20%20%0A%20%20%20%20%20%20%20%20%20%20%20%20var%20circle_marker_ab660c090e664c3f9cc41f833bce7318%20%3D%20L.circleMarker%28%0A%20%20%20%20%20%20%20%20%20%20%20%20%20%20%20%20%5B41.8713%2C%20-87.6737%5D%2C%0A%20%20%20%20%20%20%20%20%20%20%20%20%20%20%20%20%7B%0A%20%20%22bubblingMouseEvents%22%3A%20true%2C%0A%20%20%22color%22%3A%20%22%230A8A9F%22%2C%0A%20%20%22dashArray%22%3A%20null%2C%0A%20%20%22dashOffset%22%3A%20null%2C%0A%20%20%22fill%22%3A%20true%2C%0A%20%20%22fillColor%22%3A%20%22%230A8A9F%22%2C%0A%20%20%22fillOpacity%22%3A%200.2%2C%0A%20%20%22fillRule%22%3A%20%22evenodd%22%2C%0A%20%20%22lineCap%22%3A%20%22round%22%2C%0A%20%20%22lineJoin%22%3A%20%22round%22%2C%0A%20%20%22opacity%22%3A%201.0%2C%0A%20%20%22radius%22%3A%205%2C%0A%20%20%22stroke%22%3A%20true%2C%0A%20%20%22weight%22%3A%201%0A%7D%0A%20%20%20%20%20%20%20%20%20%20%20%20%20%20%20%20%29%0A%20%20%20%20%20%20%20%20%20%20%20%20%20%20%20%20.addTo%28map_55dce43f431b40ea80cc01f8f9f96660%29%3B%0A%20%20%20%20%20%20%20%20%20%20%20%20%0A%20%20%20%20%0A%20%20%20%20%20%20%20%20%20%20%20%20var%20circle_marker_cff4dd4a513a45969a2bd4e2fa1893f5%20%3D%20L.circleMarker%28%0A%20%20%20%20%20%20%20%20%20%20%20%20%20%20%20%20%5B41.8955%2C%20-87.682%5D%2C%0A%20%20%20%20%20%20%20%20%20%20%20%20%20%20%20%20%7B%0A%20%20%22bubblingMouseEvents%22%3A%20true%2C%0A%20%20%22color%22%3A%20%22%23f68e56%22%2C%0A%20%20%22dashArray%22%3A%20null%2C%0A%20%20%22dashOffset%22%3A%20null%2C%0A%20%20%22fill%22%3A%20true%2C%0A%20%20%22fillColor%22%3A%20%22%23f68e56%22%2C%0A%20%20%22fillOpacity%22%3A%200.2%2C%0A%20%20%22fillRule%22%3A%20%22evenodd%22%2C%0A%20%20%22lineCap%22%3A%20%22round%22%2C%0A%20%20%22lineJoin%22%3A%20%22round%22%2C%0A%20%20%22opacity%22%3A%201.0%2C%0A%20%20%22radius%22%3A%205%2C%0A%20%20%22stroke%22%3A%20true%2C%0A%20%20%22weight%22%3A%201%0A%7D%0A%20%20%20%20%20%20%20%20%20%20%20%20%20%20%20%20%29%0A%20%20%20%20%20%20%20%20%20%20%20%20%20%20%20%20.addTo%28map_55dce43f431b40ea80cc01f8f9f96660%29%3B%0A%20%20%20%20%20%20%20%20%20%20%20%20%0A%20%20%20%20%0A%20%20%20%20%20%20%20%20%20%20%20%20var%20circle_marker_8d4d9f66b4134175b0fedd66a8db16b7%20%3D%20L.circleMarker%28%0A%20%20%20%20%20%20%20%20%20%20%20%20%20%20%20%20%5B41.8958%2C%20-87.6259%5D%2C%0A%20%20%20%20%20%20%20%20%20%20%20%20%20%20%20%20%7B%0A%20%20%22bubblingMouseEvents%22%3A%20true%2C%0A%20%20%22color%22%3A%20%22%230A8A9F%22%2C%0A%20%20%22dashArray%22%3A%20null%2C%0A%20%20%22dashOffset%22%3A%20null%2C%0A%20%20%22fill%22%3A%20true%2C%0A%20%20%22fillColor%22%3A%20%22%230A8A9F%22%2C%0A%20%20%22fillOpacity%22%3A%200.2%2C%0A%20%20%22fillRule%22%3A%20%22evenodd%22%2C%0A%20%20%22lineCap%22%3A%20%22round%22%2C%0A%20%20%22lineJoin%22%3A%20%22round%22%2C%0A%20%20%22opacity%22%3A%201.0%2C%0A%20%20%22radius%22%3A%205%2C%0A%20%20%22stroke%22%3A%20true%2C%0A%20%20%22weight%22%3A%201%0A%7D%0A%20%20%20%20%20%20%20%20%20%20%20%20%20%20%20%20%29%0A%20%20%20%20%20%20%20%20%20%20%20%20%20%20%20%20.addTo%28map_55dce43f431b40ea80cc01f8f9f96660%29%3B%0A%20%20%20%20%20%20%20%20%20%20%20%20%0A%20%20%20%20%0A%20%20%20%20%20%20%20%20%20%20%20%20var%20circle_marker_7d968cdb620f4b52899ba2fb98aeafc5%20%3D%20L.circleMarker%28%0A%20%20%20%20%20%20%20%20%20%20%20%20%20%20%20%20%5B41.8841%2C%20-87.6569%5D%2C%0A%20%20%20%20%20%20%20%20%20%20%20%20%20%20%20%20%7B%0A%20%20%22bubblingMouseEvents%22%3A%20true%2C%0A%20%20%22color%22%3A%20%22%23f68e56%22%2C%0A%20%20%22dashArray%22%3A%20null%2C%0A%20%20%22dashOffset%22%3A%20null%2C%0A%20%20%22fill%22%3A%20true%2C%0A%20%20%22fillColor%22%3A%20%22%23f68e56%22%2C%0A%20%20%22fillOpacity%22%3A%200.2%2C%0A%20%20%22fillRule%22%3A%20%22evenodd%22%2C%0A%20%20%22lineCap%22%3A%20%22round%22%2C%0A%20%20%22lineJoin%22%3A%20%22round%22%2C%0A%20%20%22opacity%22%3A%201.0%2C%0A%20%20%22radius%22%3A%205%2C%0A%20%20%22stroke%22%3A%20true%2C%0A%20%20%22weight%22%3A%201%0A%7D%0A%20%20%20%20%20%20%20%20%20%20%20%20%20%20%20%20%29%0A%20%20%20%20%20%20%20%20%20%20%20%20%20%20%20%20.addTo%28map_55dce43f431b40ea80cc01f8f9f96660%29%3B%0A%20%20%20%20%20%20%20%20%20%20%20%20%0A%20%20%20%20%0A%20%20%20%20%20%20%20%20%20%20%20%20var%20circle_marker_95f456ce9a6f471aab6b9ee9e2525d0d%20%3D%20L.circleMarker%28%0A%20%20%20%20%20%20%20%20%20%20%20%20%20%20%20%20%5B41.8841%2C%20-87.6569%5D%2C%0A%20%20%20%20%20%20%20%20%20%20%20%20%20%20%20%20%7B%0A%20%20%22bubblingMouseEvents%22%3A%20true%2C%0A%20%20%22color%22%3A%20%22%230A8A9F%22%2C%0A%20%20%22dashArray%22%3A%20null%2C%0A%20%20%22dashOffset%22%3A%20null%2C%0A%20%20%22fill%22%3A%20true%2C%0A%20%20%22fillColor%22%3A%20%22%230A8A9F%22%2C%0A%20%20%22fillOpacity%22%3A%200.2%2C%0A%20%20%22fillRule%22%3A%20%22evenodd%22%2C%0A%20%20%22lineCap%22%3A%20%22round%22%2C%0A%20%20%22lineJoin%22%3A%20%22round%22%2C%0A%20%20%22opacity%22%3A%201.0%2C%0A%20%20%22radius%22%3A%205%2C%0A%20%20%22stroke%22%3A%20true%2C%0A%20%20%22weight%22%3A%201%0A%7D%0A%20%20%20%20%20%20%20%20%20%20%20%20%20%20%20%20%29%0A%20%20%20%20%20%20%20%20%20%20%20%20%20%20%20%20.addTo%28map_55dce43f431b40ea80cc01f8f9f96660%29%3B%0A%20%20%20%20%20%20%20%20%20%20%20%20%0A%20%20%20%20%0A%20%20%20%20%20%20%20%20%20%20%20%20var%20circle_marker_dee5c86dd8af48f980d63039d798d698%20%3D%20L.circleMarker%28%0A%20%20%20%20%20%20%20%20%20%20%20%20%20%20%20%20%5B41.8958%2C%20-87.6259%5D%2C%0A%20%20%20%20%20%20%20%20%20%20%20%20%20%20%20%20%7B%0A%20%20%22bubblingMouseEvents%22%3A%20true%2C%0A%20%20%22color%22%3A%20%22%23f68e56%22%2C%0A%20%20%22dashArray%22%3A%20null%2C%0A%20%20%22dashOffset%22%3A%20null%2C%0A%20%20%22fill%22%3A%20true%2C%0A%20%20%22fillColor%22%3A%20%22%23f68e56%22%2C%0A%20%20%22fillOpacity%22%3A%200.2%2C%0A%20%20%22fillRule%22%3A%20%22evenodd%22%2C%0A%20%20%22lineCap%22%3A%20%22round%22%2C%0A%20%20%22lineJoin%22%3A%20%22round%22%2C%0A%20%20%22opacity%22%3A%201.0%2C%0A%20%20%22radius%22%3A%205%2C%0A%20%20%22stroke%22%3A%20true%2C%0A%20%20%22weight%22%3A%201%0A%7D%0A%20%20%20%20%20%20%20%20%20%20%20%20%20%20%20%20%29%0A%20%20%20%20%20%20%20%20%20%20%20%20%20%20%20%20.addTo%28map_55dce43f431b40ea80cc01f8f9f96660%29%3B%0A%20%20%20%20%20%20%20%20%20%20%20%20%0A%20%20%20%20%0A%20%20%20%20%20%20%20%20%20%20%20%20var%20circle_marker_f6387c540a934c01aaf2a5ce93cd97e4%20%3D%20L.circleMarker%28%0A%20%20%20%20%20%20%20%20%20%20%20%20%20%20%20%20%5B41.9256%2C%20-87.6537%5D%2C%0A%20%20%20%20%20%20%20%20%20%20%20%20%20%20%20%20%7B%0A%20%20%22bubblingMouseEvents%22%3A%20true%2C%0A%20%20%22color%22%3A%20%22%230A8A9F%22%2C%0A%20%20%22dashArray%22%3A%20null%2C%0A%20%20%22dashOffset%22%3A%20null%2C%0A%20%20%22fill%22%3A%20true%2C%0A%20%20%22fillColor%22%3A%20%22%230A8A9F%22%2C%0A%20%20%22fillOpacity%22%3A%200.2%2C%0A%20%20%22fillRule%22%3A%20%22evenodd%22%2C%0A%20%20%22lineCap%22%3A%20%22round%22%2C%0A%20%20%22lineJoin%22%3A%20%22round%22%2C%0A%20%20%22opacity%22%3A%201.0%2C%0A%20%20%22radius%22%3A%205%2C%0A%20%20%22stroke%22%3A%20true%2C%0A%20%20%22weight%22%3A%201%0A%7D%0A%20%20%20%20%20%20%20%20%20%20%20%20%20%20%20%20%29%0A%20%20%20%20%20%20%20%20%20%20%20%20%20%20%20%20.addTo%28map_55dce43f431b40ea80cc01f8f9f96660%29%3B%0A%20%20%20%20%20%20%20%20%20%20%20%20%0A%20%20%20%20%0A%20%20%20%20%20%20%20%20%20%20%20%20var%20circle_marker_6223c20c6f4d4dcba387143b057d5fbe%20%3D%20L.circleMarker%28%0A%20%20%20%20%20%20%20%20%20%20%20%20%20%20%20%20%5B41.9218%2C%20-87.6441%5D%2C%0A%20%20%20%20%20%20%20%20%20%20%20%20%20%20%20%20%7B%0A%20%20%22bubblingMouseEvents%22%3A%20true%2C%0A%20%20%22color%22%3A%20%22%23f68e56%22%2C%0A%20%20%22dashArray%22%3A%20null%2C%0A%20%20%22dashOffset%22%3A%20null%2C%0A%20%20%22fill%22%3A%20true%2C%0A%20%20%22fillColor%22%3A%20%22%23f68e56%22%2C%0A%20%20%22fillOpacity%22%3A%200.2%2C%0A%20%20%22fillRule%22%3A%20%22evenodd%22%2C%0A%20%20%22lineCap%22%3A%20%22round%22%2C%0A%20%20%22lineJoin%22%3A%20%22round%22%2C%0A%20%20%22opacity%22%3A%201.0%2C%0A%20%20%22radius%22%3A%205%2C%0A%20%20%22stroke%22%3A%20true%2C%0A%20%20%22weight%22%3A%201%0A%7D%0A%20%20%20%20%20%20%20%20%20%20%20%20%20%20%20%20%29%0A%20%20%20%20%20%20%20%20%20%20%20%20%20%20%20%20.addTo%28map_55dce43f431b40ea80cc01f8f9f96660%29%3B%0A%20%20%20%20%20%20%20%20%20%20%20%20%0A%20%20%20%20%0A%20%20%20%20%20%20%20%20%20%20%20%20var%20circle_marker_c92e888aee43430fac7c3b4ccabd3daf%20%3D%20L.circleMarker%28%0A%20%20%20%20%20%20%20%20%20%20%20%20%20%20%20%20%5B41.8858%2C%20-87.6355%5D%2C%0A%20%20%20%20%20%20%20%20%20%20%20%20%20%20%20%20%7B%0A%20%20%22bubblingMouseEvents%22%3A%20true%2C%0A%20%20%22color%22%3A%20%22%230A8A9F%22%2C%0A%20%20%22dashArray%22%3A%20null%2C%0A%20%20%22dashOffset%22%3A%20null%2C%0A%20%20%22fill%22%3A%20true%2C%0A%20%20%22fillColor%22%3A%20%22%230A8A9F%22%2C%0A%20%20%22fillOpacity%22%3A%200.2%2C%0A%20%20%22fillRule%22%3A%20%22evenodd%22%2C%0A%20%20%22lineCap%22%3A%20%22round%22%2C%0A%20%20%22lineJoin%22%3A%20%22round%22%2C%0A%20%20%22opacity%22%3A%201.0%2C%0A%20%20%22radius%22%3A%205%2C%0A%20%20%22stroke%22%3A%20true%2C%0A%20%20%22weight%22%3A%201%0A%7D%0A%20%20%20%20%20%20%20%20%20%20%20%20%20%20%20%20%29%0A%20%20%20%20%20%20%20%20%20%20%20%20%20%20%20%20.addTo%28map_55dce43f431b40ea80cc01f8f9f96660%29%3B%0A%20%20%20%20%20%20%20%20%20%20%20%20%0A%20%20%20%20%0A%20%20%20%20%20%20%20%20%20%20%20%20var%20circle_marker_b92d15b6ff264fb0bf5a93fd1f8053d0%20%3D%20L.circleMarker%28%0A%20%20%20%20%20%20%20%20%20%20%20%20%20%20%20%20%5B41.9361%2C%20-87.6698%5D%2C%0A%20%20%20%20%20%20%20%20%20%20%20%20%20%20%20%20%7B%0A%20%20%22bubblingMouseEvents%22%3A%20true%2C%0A%20%20%22color%22%3A%20%22%23f68e56%22%2C%0A%20%20%22dashArray%22%3A%20null%2C%0A%20%20%22dashOffset%22%3A%20null%2C%0A%20%20%22fill%22%3A%20true%2C%0A%20%20%22fillColor%22%3A%20%22%23f68e56%22%2C%0A%20%20%22fillOpacity%22%3A%200.2%2C%0A%20%20%22fillRule%22%3A%20%22evenodd%22%2C%0A%20%20%22lineCap%22%3A%20%22round%22%2C%0A%20%20%22lineJoin%22%3A%20%22round%22%2C%0A%20%20%22opacity%22%3A%201.0%2C%0A%20%20%22radius%22%3A%205%2C%0A%20%20%22stroke%22%3A%20true%2C%0A%20%20%22weight%22%3A%201%0A%7D%0A%20%20%20%20%20%20%20%20%20%20%20%20%20%20%20%20%29%0A%20%20%20%20%20%20%20%20%20%20%20%20%20%20%20%20.addTo%28map_55dce43f431b40ea80cc01f8f9f96660%29%3B%0A%20%20%20%20%20%20%20%20%20%20%20%20%0A%20%20%20%20%0A%20%20%20%20%20%20%20%20%20%20%20%20var%20circle_marker_56a2e29a89f347c3b6a1332b73ba9713%20%3D%20L.circleMarker%28%0A%20%20%20%20%20%20%20%20%20%20%20%20%20%20%20%20%5B41.8421%2C%20-87.617%5D%2C%0A%20%20%20%20%20%20%20%20%20%20%20%20%20%20%20%20%7B%0A%20%20%22bubblingMouseEvents%22%3A%20true%2C%0A%20%20%22color%22%3A%20%22%230A8A9F%22%2C%0A%20%20%22dashArray%22%3A%20null%2C%0A%20%20%22dashOffset%22%3A%20null%2C%0A%20%20%22fill%22%3A%20true%2C%0A%20%20%22fillColor%22%3A%20%22%230A8A9F%22%2C%0A%20%20%22fillOpacity%22%3A%200.2%2C%0A%20%20%22fillRule%22%3A%20%22evenodd%22%2C%0A%20%20%22lineCap%22%3A%20%22round%22%2C%0A%20%20%22lineJoin%22%3A%20%22round%22%2C%0A%20%20%22opacity%22%3A%201.0%2C%0A%20%20%22radius%22%3A%205%2C%0A%20%20%22stroke%22%3A%20true%2C%0A%20%20%22weight%22%3A%201%0A%7D%0A%20%20%20%20%20%20%20%20%20%20%20%20%20%20%20%20%29%0A%20%20%20%20%20%20%20%20%20%20%20%20%20%20%20%20.addTo%28map_55dce43f431b40ea80cc01f8f9f96660%29%3B%0A%20%20%20%20%20%20%20%20%20%20%20%20%0A%20%20%20%20%0A%20%20%20%20%20%20%20%20%20%20%20%20var%20circle_marker_abe6a85b0fdc4fb793b787a325e3cf05%20%3D%20L.circleMarker%28%0A%20%20%20%20%20%20%20%20%20%20%20%20%20%20%20%20%5B41.886%2C%20-87.6241%5D%2C%0A%20%20%20%20%20%20%20%20%20%20%20%20%20%20%20%20%7B%0A%20%20%22bubblingMouseEvents%22%3A%20true%2C%0A%20%20%22color%22%3A%20%22%23f68e56%22%2C%0A%20%20%22dashArray%22%3A%20null%2C%0A%20%20%22dashOffset%22%3A%20null%2C%0A%20%20%22fill%22%3A%20true%2C%0A%20%20%22fillColor%22%3A%20%22%23f68e56%22%2C%0A%20%20%22fillOpacity%22%3A%200.2%2C%0A%20%20%22fillRule%22%3A%20%22evenodd%22%2C%0A%20%20%22lineCap%22%3A%20%22round%22%2C%0A%20%20%22lineJoin%22%3A%20%22round%22%2C%0A%20%20%22opacity%22%3A%201.0%2C%0A%20%20%22radius%22%3A%205%2C%0A%20%20%22stroke%22%3A%20true%2C%0A%20%20%22weight%22%3A%201%0A%7D%0A%20%20%20%20%20%20%20%20%20%20%20%20%20%20%20%20%29%0A%20%20%20%20%20%20%20%20%20%20%20%20%20%20%20%20.addTo%28map_55dce43f431b40ea80cc01f8f9f96660%29%3B%0A%20%20%20%20%20%20%20%20%20%20%20%20%0A%20%20%20%20%0A%20%20%20%20%20%20%20%20%20%20%20%20var%20circle_marker_9e7acbf90ab34ee89c1c16a77e7e2cea%20%3D%20L.circleMarker%28%0A%20%20%20%20%20%20%20%20%20%20%20%20%20%20%20%20%5B41.8307%2C%20-87.6472%5D%2C%0A%20%20%20%20%20%20%20%20%20%20%20%20%20%20%20%20%7B%0A%20%20%22bubblingMouseEvents%22%3A%20true%2C%0A%20%20%22color%22%3A%20%22%230A8A9F%22%2C%0A%20%20%22dashArray%22%3A%20null%2C%0A%20%20%22dashOffset%22%3A%20null%2C%0A%20%20%22fill%22%3A%20true%2C%0A%20%20%22fillColor%22%3A%20%22%230A8A9F%22%2C%0A%20%20%22fillOpacity%22%3A%200.2%2C%0A%20%20%22fillRule%22%3A%20%22evenodd%22%2C%0A%20%20%22lineCap%22%3A%20%22round%22%2C%0A%20%20%22lineJoin%22%3A%20%22round%22%2C%0A%20%20%22opacity%22%3A%201.0%2C%0A%20%20%22radius%22%3A%205%2C%0A%20%20%22stroke%22%3A%20true%2C%0A%20%20%22weight%22%3A%201%0A%7D%0A%20%20%20%20%20%20%20%20%20%20%20%20%20%20%20%20%29%0A%20%20%20%20%20%20%20%20%20%20%20%20%20%20%20%20.addTo%28map_55dce43f431b40ea80cc01f8f9f96660%29%3B%0A%20%20%20%20%20%20%20%20%20%20%20%20%0A%20%20%20%20%0A%20%20%20%20%20%20%20%20%20%20%20%20var%20circle_marker_e85fb1d82af54495ac2339df4c19e69f%20%3D%20L.circleMarker%28%0A%20%20%20%20%20%20%20%20%20%20%20%20%20%20%20%20%5B41.8672%2C%20-87.626%5D%2C%0A%20%20%20%20%20%20%20%20%20%20%20%20%20%20%20%20%7B%0A%20%20%22bubblingMouseEvents%22%3A%20true%2C%0A%20%20%22color%22%3A%20%22%23f68e56%22%2C%0A%20%20%22dashArray%22%3A%20null%2C%0A%20%20%22dashOffset%22%3A%20null%2C%0A%20%20%22fill%22%3A%20true%2C%0A%20%20%22fillColor%22%3A%20%22%23f68e56%22%2C%0A%20%20%22fillOpacity%22%3A%200.2%2C%0A%20%20%22fillRule%22%3A%20%22evenodd%22%2C%0A%20%20%22lineCap%22%3A%20%22round%22%2C%0A%20%20%22lineJoin%22%3A%20%22round%22%2C%0A%20%20%22opacity%22%3A%201.0%2C%0A%20%20%22radius%22%3A%205%2C%0A%20%20%22stroke%22%3A%20true%2C%0A%20%20%22weight%22%3A%201%0A%7D%0A%20%20%20%20%20%20%20%20%20%20%20%20%20%20%20%20%29%0A%20%20%20%20%20%20%20%20%20%20%20%20%20%20%20%20.addTo%28map_55dce43f431b40ea80cc01f8f9f96660%29%3B%0A%20%20%20%20%20%20%20%20%20%20%20%20%0A%20%20%20%20%0A%20%20%20%20%20%20%20%20%20%20%20%20var%20circle_marker_63009d7aec244324bc32158e6f8854de%20%3D%20L.circleMarker%28%0A%20%20%20%20%20%20%20%20%20%20%20%20%20%20%20%20%5B41.8703%2C%20-87.6395%5D%2C%0A%20%20%20%20%20%20%20%20%20%20%20%20%20%20%20%20%7B%0A%20%20%22bubblingMouseEvents%22%3A%20true%2C%0A%20%20%22color%22%3A%20%22%230A8A9F%22%2C%0A%20%20%22dashArray%22%3A%20null%2C%0A%20%20%22dashOffset%22%3A%20null%2C%0A%20%20%22fill%22%3A%20true%2C%0A%20%20%22fillColor%22%3A%20%22%230A8A9F%22%2C%0A%20%20%22fillOpacity%22%3A%200.2%2C%0A%20%20%22fillRule%22%3A%20%22evenodd%22%2C%0A%20%20%22lineCap%22%3A%20%22round%22%2C%0A%20%20%22lineJoin%22%3A%20%22round%22%2C%0A%20%20%22opacity%22%3A%201.0%2C%0A%20%20%22radius%22%3A%205%2C%0A%20%20%22stroke%22%3A%20true%2C%0A%20%20%22weight%22%3A%201%0A%7D%0A%20%20%20%20%20%20%20%20%20%20%20%20%20%20%20%20%29%0A%20%20%20%20%20%20%20%20%20%20%20%20%20%20%20%20.addTo%28map_55dce43f431b40ea80cc01f8f9f96660%29%3B%0A%20%20%20%20%20%20%20%20%20%20%20%20%0A%20%20%20%20%0A%20%20%20%20%20%20%20%20%20%20%20%20var%20circle_marker_7611f5b29a554e44b4bfef705f71422d%20%3D%20L.circleMarker%28%0A%20%20%20%20%20%20%20%20%20%20%20%20%20%20%20%20%5B41.8472%2C%20-87.6468%5D%2C%0A%20%20%20%20%20%20%20%20%20%20%20%20%20%20%20%20%7B%0A%20%20%22bubblingMouseEvents%22%3A%20true%2C%0A%20%20%22color%22%3A%20%22%23f68e56%22%2C%0A%20%20%22dashArray%22%3A%20null%2C%0A%20%20%22dashOffset%22%3A%20null%2C%0A%20%20%22fill%22%3A%20true%2C%0A%20%20%22fillColor%22%3A%20%22%23f68e56%22%2C%0A%20%20%22fillOpacity%22%3A%200.2%2C%0A%20%20%22fillRule%22%3A%20%22evenodd%22%2C%0A%20%20%22lineCap%22%3A%20%22round%22%2C%0A%20%20%22lineJoin%22%3A%20%22round%22%2C%0A%20%20%22opacity%22%3A%201.0%2C%0A%20%20%22radius%22%3A%205%2C%0A%20%20%22stroke%22%3A%20true%2C%0A%20%20%22weight%22%3A%201%0A%7D%0A%20%20%20%20%20%20%20%20%20%20%20%20%20%20%20%20%29%0A%20%20%20%20%20%20%20%20%20%20%20%20%20%20%20%20.addTo%28map_55dce43f431b40ea80cc01f8f9f96660%29%3B%0A%20%20%20%20%20%20%20%20%20%20%20%20%0A%20%20%20%20%0A%20%20%20%20%20%20%20%20%20%20%20%20var%20circle_marker_616e6e830260464e9bf7ed0f08fe2cef%20%3D%20L.circleMarker%28%0A%20%20%20%20%20%20%20%20%20%20%20%20%20%20%20%20%5B41.8307%2C%20-87.656%5D%2C%0A%20%20%20%20%20%20%20%20%20%20%20%20%20%20%20%20%7B%0A%20%20%22bubblingMouseEvents%22%3A%20true%2C%0A%20%20%22color%22%3A%20%22%230A8A9F%22%2C%0A%20%20%22dashArray%22%3A%20null%2C%0A%20%20%22dashOffset%22%3A%20null%2C%0A%20%20%22fill%22%3A%20true%2C%0A%20%20%22fillColor%22%3A%20%22%230A8A9F%22%2C%0A%20%20%22fillOpacity%22%3A%200.2%2C%0A%20%20%22fillRule%22%3A%20%22evenodd%22%2C%0A%20%20%22lineCap%22%3A%20%22round%22%2C%0A%20%20%22lineJoin%22%3A%20%22round%22%2C%0A%20%20%22opacity%22%3A%201.0%2C%0A%20%20%22radius%22%3A%205%2C%0A%20%20%22stroke%22%3A%20true%2C%0A%20%20%22weight%22%3A%201%0A%7D%0A%20%20%20%20%20%20%20%20%20%20%20%20%20%20%20%20%29%0A%20%20%20%20%20%20%20%20%20%20%20%20%20%20%20%20.addTo%28map_55dce43f431b40ea80cc01f8f9f96660%29%3B%0A%20%20%20%20%20%20%20%20%20%20%20%20%0A%20%20%20%20%0A%20%20%20%20%20%20%20%20%20%20%20%20var%20circle_marker_527e667adb044b759de93483fb3339c0%20%3D%20L.circleMarker%28%0A%20%20%20%20%20%20%20%20%20%20%20%20%20%20%20%20%5B41.8307%2C%20-87.6472%5D%2C%0A%20%20%20%20%20%20%20%20%20%20%20%20%20%20%20%20%7B%0A%20%20%22bubblingMouseEvents%22%3A%20true%2C%0A%20%20%22color%22%3A%20%22%23f68e56%22%2C%0A%20%20%22dashArray%22%3A%20null%2C%0A%20%20%22dashOffset%22%3A%20null%2C%0A%20%20%22fill%22%3A%20true%2C%0A%20%20%22fillColor%22%3A%20%22%23f68e56%22%2C%0A%20%20%22fillOpacity%22%3A%200.2%2C%0A%20%20%22fillRule%22%3A%20%22evenodd%22%2C%0A%20%20%22lineCap%22%3A%20%22round%22%2C%0A%20%20%22lineJoin%22%3A%20%22round%22%2C%0A%20%20%22opacity%22%3A%201.0%2C%0A%20%20%22radius%22%3A%205%2C%0A%20%20%22stroke%22%3A%20true%2C%0A%20%20%22weight%22%3A%201%0A%7D%0A%20%20%20%20%20%20%20%20%20%20%20%20%20%20%20%20%29%0A%20%20%20%20%20%20%20%20%20%20%20%20%20%20%20%20.addTo%28map_55dce43f431b40ea80cc01f8f9f96660%29%3B%0A%20%20%20%20%20%20%20%20%20%20%20%20%0A%20%20%20%20%0A%20%20%20%20%20%20%20%20%20%20%20%20var%20circle_marker_ede29368b5784a748f9af3652d7f91b8%20%3D%20L.circleMarker%28%0A%20%20%20%20%20%20%20%20%20%20%20%20%20%20%20%20%5B41.8307%2C%20-87.6472%5D%2C%0A%20%20%20%20%20%20%20%20%20%20%20%20%20%20%20%20%7B%0A%20%20%22bubblingMouseEvents%22%3A%20true%2C%0A%20%20%22color%22%3A%20%22%230A8A9F%22%2C%0A%20%20%22dashArray%22%3A%20null%2C%0A%20%20%22dashOffset%22%3A%20null%2C%0A%20%20%22fill%22%3A%20true%2C%0A%20%20%22fillColor%22%3A%20%22%230A8A9F%22%2C%0A%20%20%22fillOpacity%22%3A%200.2%2C%0A%20%20%22fillRule%22%3A%20%22evenodd%22%2C%0A%20%20%22lineCap%22%3A%20%22round%22%2C%0A%20%20%22lineJoin%22%3A%20%22round%22%2C%0A%20%20%22opacity%22%3A%201.0%2C%0A%20%20%22radius%22%3A%205%2C%0A%20%20%22stroke%22%3A%20true%2C%0A%20%20%22weight%22%3A%201%0A%7D%0A%20%20%20%20%20%20%20%20%20%20%20%20%20%20%20%20%29%0A%20%20%20%20%20%20%20%20%20%20%20%20%20%20%20%20.addTo%28map_55dce43f431b40ea80cc01f8f9f96660%29%3B%0A%20%20%20%20%20%20%20%20%20%20%20%20%0A%20%20%20%20%0A%20%20%20%20%20%20%20%20%20%20%20%20var%20circle_marker_48453f85c94b4a95962d9f11c430c8b9%20%3D%20L.circleMarker%28%0A%20%20%20%20%20%20%20%20%20%20%20%20%20%20%20%20%5B41.8672%2C%20-87.626%5D%2C%0A%20%20%20%20%20%20%20%20%20%20%20%20%20%20%20%20%7B%0A%20%20%22bubblingMouseEvents%22%3A%20true%2C%0A%20%20%22color%22%3A%20%22%23f68e56%22%2C%0A%20%20%22dashArray%22%3A%20null%2C%0A%20%20%22dashOffset%22%3A%20null%2C%0A%20%20%22fill%22%3A%20true%2C%0A%20%20%22fillColor%22%3A%20%22%23f68e56%22%2C%0A%20%20%22fillOpacity%22%3A%200.2%2C%0A%20%20%22fillRule%22%3A%20%22evenodd%22%2C%0A%20%20%22lineCap%22%3A%20%22round%22%2C%0A%20%20%22lineJoin%22%3A%20%22round%22%2C%0A%20%20%22opacity%22%3A%201.0%2C%0A%20%20%22radius%22%3A%205%2C%0A%20%20%22stroke%22%3A%20true%2C%0A%20%20%22weight%22%3A%201%0A%7D%0A%20%20%20%20%20%20%20%20%20%20%20%20%20%20%20%20%29%0A%20%20%20%20%20%20%20%20%20%20%20%20%20%20%20%20.addTo%28map_55dce43f431b40ea80cc01f8f9f96660%29%3B%0A%20%20%20%20%20%20%20%20%20%20%20%20%0A%20%20%20%20%0A%20%20%20%20%20%20%20%20%20%20%20%20var%20circle_marker_03f14cb432114d28a5c1125d1c4ee5dd%20%3D%20L.circleMarker%28%0A%20%20%20%20%20%20%20%20%20%20%20%20%20%20%20%20%5B41.8672%2C%20-87.626%5D%2C%0A%20%20%20%20%20%20%20%20%20%20%20%20%20%20%20%20%7B%0A%20%20%22bubblingMouseEvents%22%3A%20true%2C%0A%20%20%22color%22%3A%20%22%230A8A9F%22%2C%0A%20%20%22dashArray%22%3A%20null%2C%0A%20%20%22dashOffset%22%3A%20null%2C%0A%20%20%22fill%22%3A%20true%2C%0A%20%20%22fillColor%22%3A%20%22%230A8A9F%22%2C%0A%20%20%22fillOpacity%22%3A%200.2%2C%0A%20%20%22fillRule%22%3A%20%22evenodd%22%2C%0A%20%20%22lineCap%22%3A%20%22round%22%2C%0A%20%20%22lineJoin%22%3A%20%22round%22%2C%0A%20%20%22opacity%22%3A%201.0%2C%0A%20%20%22radius%22%3A%205%2C%0A%20%20%22stroke%22%3A%20true%2C%0A%20%20%22weight%22%3A%201%0A%7D%0A%20%20%20%20%20%20%20%20%20%20%20%20%20%20%20%20%29%0A%20%20%20%20%20%20%20%20%20%20%20%20%20%20%20%20.addTo%28map_55dce43f431b40ea80cc01f8f9f96660%29%3B%0A%20%20%20%20%20%20%20%20%20%20%20%20%0A%20%20%20%20%0A%20%20%20%20%20%20%20%20%20%20%20%20var%20circle_marker_c456d5e0d3e34a52a83b4c5ff4d6ac7b%20%3D%20L.circleMarker%28%0A%20%20%20%20%20%20%20%20%20%20%20%20%20%20%20%20%5B41.8307%2C%20-87.6472%5D%2C%0A%20%20%20%20%20%20%20%20%20%20%20%20%20%20%20%20%7B%0A%20%20%22bubblingMouseEvents%22%3A%20true%2C%0A%20%20%22color%22%3A%20%22%23f68e56%22%2C%0A%20%20%22dashArray%22%3A%20null%2C%0A%20%20%22dashOffset%22%3A%20null%2C%0A%20%20%22fill%22%3A%20true%2C%0A%20%20%22fillColor%22%3A%20%22%23f68e56%22%2C%0A%20%20%22fillOpacity%22%3A%200.2%2C%0A%20%20%22fillRule%22%3A%20%22evenodd%22%2C%0A%20%20%22lineCap%22%3A%20%22round%22%2C%0A%20%20%22lineJoin%22%3A%20%22round%22%2C%0A%20%20%22opacity%22%3A%201.0%2C%0A%20%20%22radius%22%3A%205%2C%0A%20%20%22stroke%22%3A%20true%2C%0A%20%20%22weight%22%3A%201%0A%7D%0A%20%20%20%20%20%20%20%20%20%20%20%20%20%20%20%20%29%0A%20%20%20%20%20%20%20%20%20%20%20%20%20%20%20%20.addTo%28map_55dce43f431b40ea80cc01f8f9f96660%29%3B%0A%20%20%20%20%20%20%20%20%20%20%20%20%0A%20%20%20%20%0A%20%20%20%20%20%20%20%20%20%20%20%20var%20circle_marker_d4bb4e45a6cc47a28b4da3195080ae48%20%3D%20L.circleMarker%28%0A%20%20%20%20%20%20%20%20%20%20%20%20%20%20%20%20%5B41.9367%2C%20-87.6368%5D%2C%0A%20%20%20%20%20%20%20%20%20%20%20%20%20%20%20%20%7B%0A%20%20%22bubblingMouseEvents%22%3A%20true%2C%0A%20%20%22color%22%3A%20%22%230A8A9F%22%2C%0A%20%20%22dashArray%22%3A%20null%2C%0A%20%20%22dashOffset%22%3A%20null%2C%0A%20%20%22fill%22%3A%20true%2C%0A%20%20%22fillColor%22%3A%20%22%230A8A9F%22%2C%0A%20%20%22fillOpacity%22%3A%200.2%2C%0A%20%20%22fillRule%22%3A%20%22evenodd%22%2C%0A%20%20%22lineCap%22%3A%20%22round%22%2C%0A%20%20%22lineJoin%22%3A%20%22round%22%2C%0A%20%20%22opacity%22%3A%201.0%2C%0A%20%20%22radius%22%3A%205%2C%0A%20%20%22stroke%22%3A%20true%2C%0A%20%20%22weight%22%3A%201%0A%7D%0A%20%20%20%20%20%20%20%20%20%20%20%20%20%20%20%20%29%0A%20%20%20%20%20%20%20%20%20%20%20%20%20%20%20%20.addTo%28map_55dce43f431b40ea80cc01f8f9f96660%29%3B%0A%20%20%20%20%20%20%20%20%20%20%20%20%0A%20%20%20%20%0A%20%20%20%20%20%20%20%20%20%20%20%20var%20circle_marker_01ab1cc6fd2e40b38ba0225d32c223ef%20%3D%20L.circleMarker%28%0A%20%20%20%20%20%20%20%20%20%20%20%20%20%20%20%20%5B41.9377%2C%20-87.6441%5D%2C%0A%20%20%20%20%20%20%20%20%20%20%20%20%20%20%20%20%7B%0A%20%20%22bubblingMouseEvents%22%3A%20true%2C%0A%20%20%22color%22%3A%20%22%23f68e56%22%2C%0A%20%20%22dashArray%22%3A%20null%2C%0A%20%20%22dashOffset%22%3A%20null%2C%0A%20%20%22fill%22%3A%20true%2C%0A%20%20%22fillColor%22%3A%20%22%23f68e56%22%2C%0A%20%20%22fillOpacity%22%3A%200.2%2C%0A%20%20%22fillRule%22%3A%20%22evenodd%22%2C%0A%20%20%22lineCap%22%3A%20%22round%22%2C%0A%20%20%22lineJoin%22%3A%20%22round%22%2C%0A%20%20%22opacity%22%3A%201.0%2C%0A%20%20%22radius%22%3A%205%2C%0A%20%20%22stroke%22%3A%20true%2C%0A%20%20%22weight%22%3A%201%0A%7D%0A%20%20%20%20%20%20%20%20%20%20%20%20%20%20%20%20%29%0A%20%20%20%20%20%20%20%20%20%20%20%20%20%20%20%20.addTo%28map_55dce43f431b40ea80cc01f8f9f96660%29%3B%0A%20%20%20%20%20%20%20%20%20%20%20%20%0A%20%20%20%20%0A%20%20%20%20%20%20%20%20%20%20%20%20var%20circle_marker_8743ab8eafd7407990a872fe724dd4d9%20%3D%20L.circleMarker%28%0A%20%20%20%20%20%20%20%20%20%20%20%20%20%20%20%20%5B41.9367%2C%20-87.6368%5D%2C%0A%20%20%20%20%20%20%20%20%20%20%20%20%20%20%20%20%7B%0A%20%20%22bubblingMouseEvents%22%3A%20true%2C%0A%20%20%22color%22%3A%20%22%230A8A9F%22%2C%0A%20%20%22dashArray%22%3A%20null%2C%0A%20%20%22dashOffset%22%3A%20null%2C%0A%20%20%22fill%22%3A%20true%2C%0A%20%20%22fillColor%22%3A%20%22%230A8A9F%22%2C%0A%20%20%22fillOpacity%22%3A%200.2%2C%0A%20%20%22fillRule%22%3A%20%22evenodd%22%2C%0A%20%20%22lineCap%22%3A%20%22round%22%2C%0A%20%20%22lineJoin%22%3A%20%22round%22%2C%0A%20%20%22opacity%22%3A%201.0%2C%0A%20%20%22radius%22%3A%205%2C%0A%20%20%22stroke%22%3A%20true%2C%0A%20%20%22weight%22%3A%201%0A%7D%0A%20%20%20%20%20%20%20%20%20%20%20%20%20%20%20%20%29%0A%20%20%20%20%20%20%20%20%20%20%20%20%20%20%20%20.addTo%28map_55dce43f431b40ea80cc01f8f9f96660%29%3B%0A%20%20%20%20%20%20%20%20%20%20%20%20%0A%20%20%20%20%0A%20%20%20%20%20%20%20%20%20%20%20%20var%20circle_marker_e445ee301cd44e53b6153cf133af9fb8%20%3D%20L.circleMarker%28%0A%20%20%20%20%20%20%20%20%20%20%20%20%20%20%20%20%5B41.9324%2C%20-87.6527%5D%2C%0A%20%20%20%20%20%20%20%20%20%20%20%20%20%20%20%20%7B%0A%20%20%22bubblingMouseEvents%22%3A%20true%2C%0A%20%20%22color%22%3A%20%22%23f68e56%22%2C%0A%20%20%22dashArray%22%3A%20null%2C%0A%20%20%22dashOffset%22%3A%20null%2C%0A%20%20%22fill%22%3A%20true%2C%0A%20%20%22fillColor%22%3A%20%22%23f68e56%22%2C%0A%20%20%22fillOpacity%22%3A%200.2%2C%0A%20%20%22fillRule%22%3A%20%22evenodd%22%2C%0A%20%20%22lineCap%22%3A%20%22round%22%2C%0A%20%20%22lineJoin%22%3A%20%22round%22%2C%0A%20%20%22opacity%22%3A%201.0%2C%0A%20%20%22radius%22%3A%205%2C%0A%20%20%22stroke%22%3A%20true%2C%0A%20%20%22weight%22%3A%201%0A%7D%0A%20%20%20%20%20%20%20%20%20%20%20%20%20%20%20%20%29%0A%20%20%20%20%20%20%20%20%20%20%20%20%20%20%20%20.addTo%28map_55dce43f431b40ea80cc01f8f9f96660%29%3B%0A%20%20%20%20%20%20%20%20%20%20%20%20%0A%3C/script%3E onload=\"this.contentDocument.open();this.contentDocument.write(    decodeURIComponent(this.getAttribute('data-html')));this.contentDocument.close();\" allowfullscreen webkitallowfullscreen mozallowfullscreen></iframe></div></div>"
            ],
            "text/plain": [
              "<folium.folium.Map at 0x7f7508304ed0>"
            ]
          },
          "metadata": {},
          "execution_count": 49
        }
      ]
    },
    {
      "cell_type": "code",
      "metadata": {
        "id": "gk8DdaWZl0B-"
      },
      "source": [
        "temp = df.groupby(['start_station_name','end_station_name'])['ride_id'].count().reset_index()"
      ],
      "id": "gk8DdaWZl0B-",
      "execution_count": 50,
      "outputs": []
    },
    {
      "cell_type": "code",
      "metadata": {
        "id": "Cm1rXJNDlz_Q"
      },
      "source": [
        "a = set(df['start_station_name'].unique())"
      ],
      "id": "Cm1rXJNDlz_Q",
      "execution_count": 51,
      "outputs": []
    },
    {
      "cell_type": "code",
      "metadata": {
        "id": "YSnratggugUB"
      },
      "source": [
        "b = set(df['end_station_name'].unique())"
      ],
      "id": "YSnratggugUB",
      "execution_count": 52,
      "outputs": []
    },
    {
      "cell_type": "code",
      "metadata": {
        "id": "TWRHJ-nIlz3H"
      },
      "source": [
        "c = a.intersection(b)"
      ],
      "id": "TWRHJ-nIlz3H",
      "execution_count": 53,
      "outputs": []
    },
    {
      "cell_type": "code",
      "metadata": {
        "id": "q2PAozGRlz0p",
        "colab": {
          "base_uri": "https://localhost:8080/"
        },
        "outputId": "2dc34bef-497e-42c9-e112-c78b59a51430"
      },
      "source": [
        "c"
      ],
      "id": "q2PAozGRlz0p",
      "execution_count": 54,
      "outputs": [
        {
          "output_type": "execute_result",
          "data": {
            "text/plain": [
              "{'2112 W Peterson Ave',\n",
              " '63rd St Beach',\n",
              " '900 W Harrison St',\n",
              " 'Aberdeen St & Jackson Blvd',\n",
              " 'Aberdeen St & Monroe St',\n",
              " 'Aberdeen St & Randolph St',\n",
              " 'Ada St & 113th St',\n",
              " 'Ada St & Washington Blvd',\n",
              " 'Adler Planetarium',\n",
              " 'Albany Ave & 26th St',\n",
              " 'Albany Ave & Bloomingdale Ave',\n",
              " 'Albany Ave & Montrose Ave',\n",
              " 'Archer (Damen) Ave & 37th St',\n",
              " 'Artesian Ave & Hubbard St',\n",
              " 'Ashland Ave & 13th St',\n",
              " 'Ashland Ave & 50th St',\n",
              " 'Ashland Ave & 63rd St',\n",
              " 'Ashland Ave & 66th St',\n",
              " 'Ashland Ave & 69th St',\n",
              " 'Ashland Ave & 73rd St',\n",
              " 'Ashland Ave & 74th St',\n",
              " 'Ashland Ave & 78th St',\n",
              " 'Ashland Ave & Archer Ave',\n",
              " 'Ashland Ave & Augusta Blvd',\n",
              " 'Ashland Ave & Belle Plaine Ave',\n",
              " 'Ashland Ave & Blackhawk St',\n",
              " 'Ashland Ave & Chicago Ave',\n",
              " 'Ashland Ave & Division St',\n",
              " 'Ashland Ave & Garfield Blvd',\n",
              " 'Ashland Ave & Grace St',\n",
              " 'Ashland Ave & Grand Ave',\n",
              " 'Ashland Ave & Lake St',\n",
              " 'Ashland Ave & McDowell Ave',\n",
              " 'Ashland Ave & Pershing Rd',\n",
              " 'Ashland Ave & Wellington Ave',\n",
              " 'Ashland Ave & Wrightwood Ave',\n",
              " 'Austin Blvd & Chicago Ave',\n",
              " 'Austin Blvd & Lake St',\n",
              " 'Austin Blvd & Madison St',\n",
              " 'Avenue O & 118th St',\n",
              " 'Avenue O & 134th St',\n",
              " 'Avers Ave & Belmont Ave',\n",
              " 'Avondale Ave & Irving Park Rd',\n",
              " 'Baltimore Ave & 87th St',\n",
              " 'Base - 2132 W Hubbard Warehouse',\n",
              " 'Bennett Ave & 79th St',\n",
              " 'Benson Ave & Church St',\n",
              " 'Bernard St & Elston Ave',\n",
              " 'Big Marsh Park',\n",
              " 'Bissell St & Armitage Ave',\n",
              " 'Blackstone Ave & Hyde Park Blvd',\n",
              " 'Blue Island Ave & 18th St',\n",
              " 'Bosworth Ave & Howard St',\n",
              " 'Bradley Park',\n",
              " 'Broadway & Argyle St',\n",
              " 'Broadway & Barry Ave',\n",
              " 'Broadway & Belmont Ave',\n",
              " 'Broadway & Berwyn Ave',\n",
              " 'Broadway & Cornelia Ave',\n",
              " 'Broadway & Granville Ave',\n",
              " 'Broadway & Ridge Ave',\n",
              " 'Broadway & Sheridan Rd',\n",
              " 'Broadway & Thorndale Ave',\n",
              " 'Broadway & Waveland Ave',\n",
              " 'Broadway & Wilson - Truman College Vaccination Site',\n",
              " 'Broadway & Wilson Ave',\n",
              " 'Buckingham Fountain',\n",
              " 'Budlong Woods Library',\n",
              " 'Burling St & Diversey Pkwy',\n",
              " 'Burling St (Halsted) & Diversey Pkwy (Temp)',\n",
              " 'Burnham Greenway & 105th St',\n",
              " 'Burnham Harbor',\n",
              " 'California Ave & 21st St',\n",
              " 'California Ave & 23rd Pl',\n",
              " 'California Ave & 26th St',\n",
              " 'California Ave & Altgeld St',\n",
              " 'California Ave & Byron St',\n",
              " 'California Ave & Cortez St',\n",
              " 'California Ave & Division St',\n",
              " 'California Ave & Fletcher St',\n",
              " 'California Ave & Francis Pl (Temp)',\n",
              " 'California Ave & Lake St',\n",
              " 'California Ave & Milwaukee Ave',\n",
              " 'California Ave & Montrose Ave',\n",
              " 'California Ave & North Ave',\n",
              " 'Calumet Ave & 18th St',\n",
              " 'Calumet Ave & 21st St',\n",
              " 'Calumet Ave & 33rd St',\n",
              " 'Calumet Ave & 35th St',\n",
              " 'Calumet Ave & 51st St',\n",
              " 'Calumet Ave & 71st St',\n",
              " 'Campbell Ave & Fullerton Ave',\n",
              " 'Campbell Ave & Montrose Ave',\n",
              " 'Campbell Ave & North Ave',\n",
              " 'Canal St & Adams St',\n",
              " 'Canal St & Harrison St',\n",
              " 'Canal St & Jackson Blvd',\n",
              " 'Canal St & Madison St',\n",
              " 'Canal St & Monroe St',\n",
              " 'Canal St & Taylor St',\n",
              " 'Cannon Dr & Fullerton Ave',\n",
              " 'Carpenter St & 63rd St',\n",
              " 'Carpenter St & Huron St',\n",
              " 'Central Ave & Chicago Ave',\n",
              " 'Central Ave & Harrison St',\n",
              " 'Central Ave & Lake St',\n",
              " 'Central Ave & Madison St',\n",
              " 'Central Park Ave & 24th St',\n",
              " 'Central Park Ave & Bloomingdale Ave',\n",
              " 'Central Park Ave & Elbridge Ave',\n",
              " 'Central Park Ave & North Ave',\n",
              " 'Central Park Ave & Ogden Ave',\n",
              " 'Central Park Blvd & 5th Ave',\n",
              " 'Central St & Girard Ave',\n",
              " 'Central St Metra',\n",
              " 'Cherry Ave & Blackhawk St',\n",
              " 'Chicago Ave & Dempster St',\n",
              " 'Chicago Ave & Sheridan Rd',\n",
              " 'Chicago Ave & Washington St',\n",
              " 'Chicago State University',\n",
              " 'Christiana Ave & Lawrence Ave',\n",
              " 'Cicero Ave & Flournoy St',\n",
              " 'Cicero Ave & Lake St',\n",
              " 'Cicero Ave & Quincy St',\n",
              " 'Cityfront Plaza Dr & Pioneer Ct',\n",
              " 'Claremont Ave & Hirsch St',\n",
              " 'Clarendon Ave & Gordon Ter',\n",
              " 'Clarendon Ave & Junior Ter',\n",
              " 'Clarendon Ave & Leland Ave',\n",
              " 'Clark St & 9th St (AMLI)',\n",
              " 'Clark St & Armitage Ave',\n",
              " 'Clark St & Berwyn Ave',\n",
              " 'Clark St & Bryn Mawr Ave',\n",
              " 'Clark St & Chicago Ave',\n",
              " 'Clark St & Columbia Ave',\n",
              " 'Clark St & Drummond Pl',\n",
              " 'Clark St & Elm St',\n",
              " 'Clark St & Elmdale Ave',\n",
              " 'Clark St & Grace St',\n",
              " 'Clark St & Ida B Wells Dr',\n",
              " 'Clark St & Jarvis Ave',\n",
              " 'Clark St & Lake St',\n",
              " 'Clark St & Leland Ave',\n",
              " 'Clark St & Lincoln Ave',\n",
              " 'Clark St & Lunt Ave',\n",
              " 'Clark St & Montrose Ave',\n",
              " 'Clark St & Newport St',\n",
              " 'Clark St & North Ave',\n",
              " 'Clark St & Randolph St',\n",
              " 'Clark St & Schiller St',\n",
              " 'Clark St & Schreiber Ave',\n",
              " 'Clark St & Touhy Ave',\n",
              " 'Clark St & Wellington Ave',\n",
              " 'Clark St & Winnemac Ave',\n",
              " 'Clark St & Wrightwood Ave',\n",
              " 'Clifton Ave & Armitage Ave',\n",
              " 'Clinton St & 18th St',\n",
              " 'Clinton St & Jackson Blvd',\n",
              " 'Clinton St & Lake St',\n",
              " 'Clinton St & Madison St',\n",
              " 'Clinton St & Polk St',\n",
              " 'Clinton St & Roosevelt Rd',\n",
              " 'Clinton St & Tilden St',\n",
              " 'Clinton St & Washington Blvd',\n",
              " 'Clybourn Ave & Division St',\n",
              " 'Clyde Ave & 87th St',\n",
              " 'Columbus Dr & Randolph St',\n",
              " 'Commercial Ave & 130th St',\n",
              " 'Commercial Ave & 83rd St',\n",
              " 'Conservatory Dr & Lake St',\n",
              " 'Constance Ave & 95th St',\n",
              " 'Cornell Ave & Hyde Park Blvd',\n",
              " 'Cornell Dr & Hayes Dr',\n",
              " 'Cottage Grove Ave & 111th Pl',\n",
              " 'Cottage Grove Ave & 43rd St',\n",
              " 'Cottage Grove Ave & 47th St',\n",
              " 'Cottage Grove Ave & 51st St',\n",
              " 'Cottage Grove Ave & 63rd St',\n",
              " 'Cottage Grove Ave & 67th St',\n",
              " 'Cottage Grove Ave & 71st St',\n",
              " 'Cottage Grove Ave & 78th St',\n",
              " 'Cottage Grove Ave & 83rd St',\n",
              " 'Cottage Grove Ave & Oakwood Blvd',\n",
              " 'Daley Center Plaza',\n",
              " 'Damen Ave & 51st St',\n",
              " 'Damen Ave & 59th St',\n",
              " 'Damen Ave & Charleston St',\n",
              " 'Damen Ave & Chicago Ave',\n",
              " 'Damen Ave & Clybourn Ave',\n",
              " 'Damen Ave & Cortland St',\n",
              " 'Damen Ave & Coulter St',\n",
              " 'Damen Ave & Cullerton St',\n",
              " 'Damen Ave & Division St',\n",
              " 'Damen Ave & Foster Ave',\n",
              " 'Damen Ave & Grand Ave',\n",
              " 'Damen Ave & Leland Ave',\n",
              " 'Damen Ave & Madison St',\n",
              " 'Damen Ave & Melrose Ave',\n",
              " 'Damen Ave & Pershing Rd',\n",
              " 'Damen Ave & Pierce Ave',\n",
              " 'Damen Ave & Sunnyside Ave',\n",
              " 'Damen Ave & Thomas St (Augusta Blvd)',\n",
              " 'Damen Ave & Wabansia Ave',\n",
              " 'Damen Ave & Walnut (Lake) St',\n",
              " 'Damen Ave & Walnut (Lake) St (*)',\n",
              " 'Damen Ave & Wellington Ave',\n",
              " 'Dauphin Ave & 103rd St',\n",
              " 'Dauphin Ave & 87th St',\n",
              " 'Dayton St & North Ave',\n",
              " 'Dearborn Pkwy & Delaware Pl',\n",
              " 'Dearborn St & Adams St',\n",
              " 'Dearborn St & Erie St',\n",
              " 'Dearborn St & Monroe St',\n",
              " 'Dearborn St & Van Buren St',\n",
              " 'Delano Ct & Roosevelt Rd',\n",
              " 'Desplaines St & Jackson Blvd',\n",
              " 'Desplaines St & Kinzie St',\n",
              " 'Desplaines St & Randolph St',\n",
              " 'Dodge Ave & Church St',\n",
              " 'Dodge Ave & Main St',\n",
              " 'Dodge Ave & Mulford St',\n",
              " 'Dorchester Ave & 49th St',\n",
              " 'Dorchester Ave & 63rd St',\n",
              " 'Drake Ave & Addison St',\n",
              " 'Drake Ave & Fullerton Ave',\n",
              " 'Drake Ave & Montrose Ave',\n",
              " 'DuSable Museum',\n",
              " 'Dusable Harbor',\n",
              " 'East End Ave & 87th St',\n",
              " 'Eastlake Ter & Rogers Ave',\n",
              " 'Eberhart Ave & 131st St',\n",
              " 'Eberhart Ave & 61st St',\n",
              " 'Eberhart Ave & 91st St',\n",
              " 'Eckhart Park',\n",
              " 'Eggleston Ave & 69th St',\n",
              " 'Eggleston Ave & 69th St (*)',\n",
              " 'Eggleston Ave & 92nd St',\n",
              " 'Elizabeth (May) St & Fulton St',\n",
              " 'Elizabeth St & 47th St',\n",
              " 'Elizabeth St & 59th St',\n",
              " 'Elizabeth St & 92nd St',\n",
              " 'Ellis Ave & 53rd St',\n",
              " 'Ellis Ave & 55th St',\n",
              " 'Ellis Ave & 58th St',\n",
              " 'Ellis Ave & 60th St',\n",
              " 'Ellis Ave & 83rd St',\n",
              " 'Elmwood Ave & Austin St',\n",
              " 'Elston Ave & Wabansia Ave',\n",
              " 'Emerald Ave & 28th St',\n",
              " 'Emerald Ave & 31st St',\n",
              " 'Evans Ave & 75th St',\n",
              " 'Evanston Civic Center',\n",
              " 'Ewing Ave & Burnham Greenway',\n",
              " 'Exchange Ave & 79th St',\n",
              " 'Fairbanks Ct & Grand Ave',\n",
              " 'Fairbanks St & Superior St',\n",
              " 'Fairfield Ave & Roosevelt Rd',\n",
              " 'Federal St & Polk St',\n",
              " 'Field Blvd & South Water St',\n",
              " 'Field Museum',\n",
              " 'Financial Pl & Ida B Wells Dr',\n",
              " 'Fort Dearborn Dr & 31st St',\n",
              " 'Francisco Ave & Foster Ave',\n",
              " 'Franklin St & Adams St (Temp)',\n",
              " 'Franklin St & Chicago Ave',\n",
              " 'Franklin St & Illinois St',\n",
              " 'Franklin St & Jackson Blvd',\n",
              " 'Franklin St & Lake St',\n",
              " 'Franklin St & Monroe St',\n",
              " 'Glenwood Ave & Morse Ave',\n",
              " 'Glenwood Ave & Touhy Ave',\n",
              " 'Green St & Madison St',\n",
              " 'Green St & Randolph St',\n",
              " 'Greenview Ave & Diversey Pkwy',\n",
              " 'Greenview Ave & Fullerton Ave',\n",
              " 'Greenview Ave & Jarvis Ave',\n",
              " 'Greenwood Ave & 47th St',\n",
              " 'Greenwood Ave & 79th St',\n",
              " 'Greenwood Ave & 91st St',\n",
              " 'Greenwood Ave & 97th St',\n",
              " 'HUBBARD ST BIKE CHECKING (LBS-WH-TEST)',\n",
              " 'Hale Ave & 107th St',\n",
              " 'Halsted & 63rd - Kennedy-King Vaccination Site',\n",
              " 'Halsted St & 104th St',\n",
              " 'Halsted St & 111th St',\n",
              " 'Halsted St & 18th St',\n",
              " 'Halsted St & 21st St',\n",
              " 'Halsted St & 35th St',\n",
              " 'Halsted St & 37th St',\n",
              " 'Halsted St & 47th Pl',\n",
              " 'Halsted St & 51st St',\n",
              " 'Halsted St & 56th St',\n",
              " 'Halsted St & 59th St',\n",
              " 'Halsted St & 63rd St',\n",
              " 'Halsted St & 69th St',\n",
              " 'Halsted St & 73rd St',\n",
              " 'Halsted St & 78th St',\n",
              " 'Halsted St & 96th St',\n",
              " 'Halsted St & Archer Ave',\n",
              " 'Halsted St & Clybourn Ave',\n",
              " 'Halsted St & Dickens Ave',\n",
              " 'Halsted St & Maxwell St',\n",
              " 'Halsted St & North Branch St',\n",
              " 'Halsted St & Polk St',\n",
              " 'Halsted St & Roosevelt Rd',\n",
              " 'Halsted St & Roscoe St',\n",
              " 'Halsted St & Willow St',\n",
              " 'Halsted St & Wrightwood Ave',\n",
              " 'Harper Ave & 59th St',\n",
              " 'Hegewisch Metra Station',\n",
              " 'Hermitage Ave & Polk St',\n",
              " 'Homewood Ave & 115th St',\n",
              " 'Honore St & Division St',\n",
              " 'Houston Ave & 92nd St',\n",
              " 'Hoyne Ave & 47th St',\n",
              " 'Hoyne Ave & Balmoral Ave',\n",
              " 'Humboldt Blvd & Armitage Ave',\n",
              " 'Indiana Ave & 103rd St',\n",
              " 'Indiana Ave & 26th St',\n",
              " 'Indiana Ave & 31st St',\n",
              " 'Indiana Ave & 40th St',\n",
              " 'Indiana Ave & Roosevelt Rd',\n",
              " 'Jefferson St & Monroe St',\n",
              " 'Jeffery Blvd & 67th St',\n",
              " 'Jeffery Blvd & 71st St',\n",
              " 'Jeffery Blvd & 76th St',\n",
              " 'Jeffery Blvd & 91st St',\n",
              " 'Karlov Ave & Madison St',\n",
              " 'Kedzie Ave & 110th St',\n",
              " 'Kedzie Ave & 21st St',\n",
              " 'Kedzie Ave & 24th St',\n",
              " 'Kedzie Ave & Bryn Mawr Ave',\n",
              " 'Kedzie Ave & Chicago Ave',\n",
              " 'Kedzie Ave & Foster Ave',\n",
              " 'Kedzie Ave & Harrison St',\n",
              " 'Kedzie Ave & Lake St',\n",
              " 'Kedzie Ave & Leland Ave',\n",
              " 'Kedzie Ave & Milwaukee Ave',\n",
              " 'Kedzie Ave & Palmer Ct',\n",
              " 'Kedzie Ave & Roosevelt Rd',\n",
              " 'Kenton Ave & Madison St',\n",
              " 'Keystone Ave & Fullerton Ave',\n",
              " 'Keystone Ave & Montrose Ave',\n",
              " 'Kilbourn Ave & Irving Park Rd',\n",
              " 'Kilbourn Ave & Milwaukee Ave',\n",
              " 'Kildare Ave & Montrose Ave',\n",
              " 'Kimball Ave & Belmont Ave',\n",
              " 'Kimbark Ave & 53rd St',\n",
              " 'Kingsbury St & Erie St',\n",
              " 'Kingsbury St & Kinzie St',\n",
              " 'Knox Ave & Montrose Ave',\n",
              " 'Kosciuszko Park',\n",
              " 'Kostner Ave & Adams St',\n",
              " 'Kostner Ave & Lake St',\n",
              " 'LaSalle Dr & Huron St',\n",
              " 'LaSalle St & Adams St',\n",
              " 'LaSalle St & Illinois St',\n",
              " 'LaSalle St & Jackson Blvd',\n",
              " 'LaSalle St & Washington St',\n",
              " 'Laflin St & Cullerton St',\n",
              " 'Lake Park Ave & 35th St',\n",
              " 'Lake Park Ave & 47th St',\n",
              " 'Lake Park Ave & 53rd St',\n",
              " 'Lake Park Ave & 56th St',\n",
              " 'Lake Shore Dr & Belmont Ave',\n",
              " 'Lake Shore Dr & Diversey Pkwy',\n",
              " 'Lake Shore Dr & Monroe St',\n",
              " 'Lake Shore Dr & North Blvd',\n",
              " 'Lake Shore Dr & Ohio St',\n",
              " 'Lake Shore Dr & Wellington Ave',\n",
              " 'Lakefront Trail & Bryn Mawr Ave',\n",
              " 'Lakefront Trail & Wilson Ave',\n",
              " 'Lakeview Ave & Fullerton Pkwy',\n",
              " 'Laramie Ave & Gladys Ave',\n",
              " 'Laramie Ave & Kinzie St',\n",
              " 'Laramie Ave & Madison St',\n",
              " 'Larrabee St & Armitage Ave',\n",
              " 'Larrabee St & Division St',\n",
              " 'Larrabee St & Kingsbury St',\n",
              " 'Larrabee St & Menomonee St',\n",
              " 'Larrabee St & North Ave',\n",
              " 'Larrabee St & Oak St',\n",
              " 'Larrabee St & Webster Ave',\n",
              " 'Latrobe Ave & Chicago Ave',\n",
              " 'Lawndale Ave & 111th St',\n",
              " 'Leavitt St & Addison St',\n",
              " 'Leavitt St & Archer Ave',\n",
              " 'Leavitt St & Armitage Ave',\n",
              " 'Leavitt St & Belmont Ave',\n",
              " 'Leavitt St & Belmont Ave (*)',\n",
              " 'Leavitt St & Chicago Ave',\n",
              " 'Leavitt St & Division St',\n",
              " 'Leavitt St & Division St (*)',\n",
              " 'Leavitt St & Lawrence Ave',\n",
              " 'Leavitt St & North Ave',\n",
              " 'Lincoln Ave & Addison St',\n",
              " 'Lincoln Ave & Belle Plaine Ave',\n",
              " 'Lincoln Ave & Belmont Ave',\n",
              " 'Lincoln Ave & Diversey Pkwy',\n",
              " 'Lincoln Ave & Fullerton Ave',\n",
              " 'Lincoln Ave & Roscoe St',\n",
              " 'Lincoln Ave & Sunnyside Ave',\n",
              " 'Lincoln Ave & Waveland Ave',\n",
              " 'Lincoln Ave & Winona St',\n",
              " 'Lincoln Park Conservatory',\n",
              " 'Lincolnwood Dr & Central St',\n",
              " 'Logan Blvd & Elston Ave',\n",
              " 'Loomis Blvd & 84th St',\n",
              " 'Loomis St & Archer Ave',\n",
              " 'Loomis St & Jackson Blvd',\n",
              " 'Loomis St & Lexington St',\n",
              " 'MLK Jr Dr & 29th St',\n",
              " 'MLK Jr Dr & 47th St',\n",
              " 'MLK Jr Dr & 56th St',\n",
              " 'MLK Jr Dr & 63rd St',\n",
              " 'MLK Jr Dr & 83rd St',\n",
              " 'MLK Jr Dr & Pershing Rd',\n",
              " 'Major Taylor Trail & 115th St',\n",
              " 'Major Taylor Trail & 124th St',\n",
              " 'Malcolm X College',\n",
              " 'Malcolm X College Vaccination Site',\n",
              " 'Manor Ave & Leland Ave',\n",
              " 'Maplewood Ave & Peterson Ave',\n",
              " 'Marine Dr & Ainslie St',\n",
              " 'Marquette Ave & 89th St',\n",
              " 'Marshfield Ave & 44th St',\n",
              " 'Marshfield Ave & 59th St',\n",
              " 'Marshfield Ave & Cortland St',\n",
              " 'May St & 69th St',\n",
              " 'May St & Cullerton St',\n",
              " 'May St & Taylor St',\n",
              " 'McClurg Ct & Erie St',\n",
              " 'McClurg Ct & Illinois St',\n",
              " 'McCormick Place',\n",
              " 'Michigan Ave & 114th St',\n",
              " 'Michigan Ave & 14th St',\n",
              " 'Michigan Ave & 18th St',\n",
              " 'Michigan Ave & 71st St',\n",
              " 'Michigan Ave & 8th St',\n",
              " 'Michigan Ave & Ida B Wells Dr',\n",
              " 'Michigan Ave & Jackson Blvd',\n",
              " 'Michigan Ave & Lake St',\n",
              " 'Michigan Ave & Madison St',\n",
              " 'Michigan Ave & Oak St',\n",
              " 'Michigan Ave & Pearson St',\n",
              " 'Michigan Ave & Washington St',\n",
              " 'Mies van der Rohe Way & Chestnut St',\n",
              " 'Mies van der Rohe Way & Chicago Ave',\n",
              " 'Millard Ave & 26th St',\n",
              " 'Millennium Park',\n",
              " 'Milwaukee Ave & Cuyler Ave',\n",
              " 'Milwaukee Ave & Grand Ave',\n",
              " 'Milwaukee Ave & Rockwell St',\n",
              " 'Milwaukee Ave & Wabansia Ave',\n",
              " 'Monticello Ave & Irving Park Rd',\n",
              " 'Montrose Harbor',\n",
              " 'Morgan Ave & 14th Pl',\n",
              " 'Morgan St & 18th St',\n",
              " 'Morgan St & 31st St',\n",
              " 'Morgan St & Lake St',\n",
              " 'Morgan St & Pershing Rd',\n",
              " 'Morgan St & Polk St',\n",
              " 'Museum of Science and Industry',\n",
              " 'N Carpenter St & W Lake St',\n",
              " 'N Green St & W Lake St',\n",
              " 'N Hampden Ct & W Diversey Ave',\n",
              " 'N Paulina St & Lincoln Ave',\n",
              " 'N Sheffield Ave & W Wellington Ave',\n",
              " 'N Southport Ave & W Newport Ave',\n",
              " 'New St & Illinois St',\n",
              " 'Noble St & Milwaukee Ave',\n",
              " 'Normal Ave & Archer Ave',\n",
              " 'Oakley Ave & Irving Park Rd',\n",
              " 'Oakley Ave & Touhy Ave',\n",
              " 'Ogden Ave & Chicago Ave',\n",
              " 'Ogden Ave & Congress Pkwy',\n",
              " 'Ogden Ave & Race Ave',\n",
              " 'Ogden Ave & Roosevelt Rd',\n",
              " 'Oglesby Ave & 100th St',\n",
              " 'Orleans St & Chestnut St (NEXT Apts)',\n",
              " 'Orleans St & Elm St',\n",
              " 'Orleans St & Hubbard St',\n",
              " 'Orleans St & Merchandise Mart Plaza',\n",
              " 'Paulina Ave & North Ave',\n",
              " 'Paulina St & 18th St',\n",
              " 'Paulina St & Flournoy St',\n",
              " 'Paulina St & Howard St',\n",
              " 'Paulina St & Montrose Ave',\n",
              " 'Peoria St & Jackson Blvd',\n",
              " 'Perry Ave & 69th St',\n",
              " 'Phillips Ave & 79th St',\n",
              " 'Phillips Ave & 83rd St',\n",
              " 'Pine Grove Ave & Irving Park Rd',\n",
              " 'Pine Grove Ave & Waveland Ave',\n",
              " 'Prairie Ave & 43rd St',\n",
              " 'Prairie Ave & Garfield Blvd',\n",
              " 'Princeton Ave & 47th St',\n",
              " 'Princeton Ave & Garfield Blvd',\n",
              " 'Prospect Sq & 91st St',\n",
              " 'Pulaski Rd & Congress Pkwy',\n",
              " 'Pulaski Rd & Eddy St (Temp)',\n",
              " 'Pulaski Rd & Lake St',\n",
              " 'Racine Ave & 13th St',\n",
              " 'Racine Ave & 15th St',\n",
              " 'Racine Ave & 18th St',\n",
              " 'Racine Ave & 35th St',\n",
              " 'Racine Ave & 61st St',\n",
              " 'Racine Ave & 65th St',\n",
              " 'Racine Ave & Belmont Ave',\n",
              " 'Racine Ave & Congress Pkwy',\n",
              " 'Racine Ave & Fullerton Ave',\n",
              " 'Racine Ave & Garfield Blvd',\n",
              " 'Racine Ave & Randolph St',\n",
              " 'Racine Ave & Washington Blvd',\n",
              " 'Racine Ave & Washington Blvd (*)',\n",
              " 'Racine Ave & Wrightwood Ave',\n",
              " 'Rainbow Beach',\n",
              " 'Ravenswood Ave & Berteau Ave',\n",
              " 'Ravenswood Ave & Irving Park Rd',\n",
              " 'Ravenswood Ave & Lawrence Ave',\n",
              " 'Rhodes Ave & 32nd St',\n",
              " 'Rhodes Ave & 71st St',\n",
              " 'Richmond St & Diversey Ave',\n",
              " 'Ridge Blvd & Howard St',\n",
              " 'Ridge Blvd & Touhy Ave',\n",
              " 'Ritchie Ct & Banks St',\n",
              " 'Rockwell St & Eastwood Ave',\n",
              " 'Rush St & Cedar St',\n",
              " 'Rush St & Hubbard St',\n",
              " 'Rush St & Superior St',\n",
              " 'Sacramento Blvd & Franklin Blvd',\n",
              " 'Sangamon St & Washington Blvd',\n",
              " 'Sawyer Ave & Irving Park Rd',\n",
              " 'Sedgwick St & Huron St',\n",
              " 'Sedgwick St & North Ave',\n",
              " 'Sedgwick St & Schiller St',\n",
              " 'Sedgwick St & Webster Ave',\n",
              " 'Seeley Ave & Garfield Blvd',\n",
              " 'Seeley Ave & Roscoe St',\n",
              " 'Shedd Aquarium',\n",
              " 'Sheffield Ave & Fullerton Ave',\n",
              " 'Sheffield Ave & Kingsbury St',\n",
              " 'Sheffield Ave & Waveland Ave',\n",
              " 'Sheffield Ave & Webster Ave',\n",
              " 'Sheffield Ave & Wellington Ave',\n",
              " 'Sheffield Ave & Willow St',\n",
              " 'Sheffield Ave & Wrightwood Ave',\n",
              " 'Sheridan Rd & Buena Ave',\n",
              " 'Sheridan Rd & Columbia Ave',\n",
              " 'Sheridan Rd & Greenleaf Ave',\n",
              " 'Sheridan Rd & Irving Park Rd',\n",
              " 'Sheridan Rd & Lawrence Ave',\n",
              " 'Sheridan Rd & Loyola Ave',\n",
              " 'Sheridan Rd & Montrose Ave',\n",
              " 'Sheridan Rd & Noyes St (NU)',\n",
              " 'Shields Ave & 28th Pl',\n",
              " 'Shields Ave & 31st St',\n",
              " 'Shields Ave & 43rd St',\n",
              " 'Shore Dr & 55th St',\n",
              " 'Smith Park',\n",
              " 'Smith Park (*)',\n",
              " 'South Chicago Ave & 83rd St',\n",
              " 'South Chicago Ave & Elliot Ave',\n",
              " 'South Shore Dr & 67th St',\n",
              " 'South Shore Dr & 71st St',\n",
              " 'South Shore Dr & 74th St',\n",
              " 'Southport Ave & Belmont Ave',\n",
              " 'Southport Ave & Clark St',\n",
              " 'Southport Ave & Clybourn Ave',\n",
              " 'Southport Ave & Irving Park Rd',\n",
              " 'Southport Ave & Roscoe St',\n",
              " 'Southport Ave & Waveland Ave',\n",
              " 'Southport Ave & Wellington Ave',\n",
              " 'Southport Ave & Wrightwood Ave',\n",
              " 'Spaulding Ave & Armitage Ave',\n",
              " 'Spaulding Ave & Division St',\n",
              " 'St. Clair St & Erie St',\n",
              " 'St. Louis Ave & Balmoral Ave',\n",
              " 'St. Louis Ave & Fullerton Ave',\n",
              " 'State St & 123rd St',\n",
              " 'State St & 19th St',\n",
              " 'State St & 29th St',\n",
              " 'State St & 33rd St',\n",
              " 'State St & 35th St',\n",
              " 'State St & 54th St',\n",
              " 'State St & 76th St',\n",
              " 'State St & 79th St',\n",
              " 'State St & 95th St',\n",
              " 'State St & Harrison St',\n",
              " 'State St & Kinzie St',\n",
              " 'State St & Pearson St',\n",
              " 'State St & Pershing Rd',\n",
              " 'State St & Randolph St',\n",
              " 'State St & Van Buren St',\n",
              " 'Stave St & Armitage Ave',\n",
              " 'Stetson Ave & South Water St',\n",
              " 'Stewart Ave & 63rd St',\n",
              " 'Stewart Ave & 63rd St (*)',\n",
              " 'Stewart Ave & 83rd St',\n",
              " 'Stockton Dr & Wrightwood Ave',\n",
              " 'Stony Island Ave & 64th St',\n",
              " 'Stony Island Ave & 67th St',\n",
              " 'Stony Island Ave & 71st St',\n",
              " 'Stony Island Ave & 75th St',\n",
              " 'Stony Island Ave & 82nd St',\n",
              " 'Stony Island Ave & 90th St',\n",
              " 'Stony Island Ave & South Chicago Ave',\n",
              " 'Streeter Dr & Grand Ave',\n",
              " 'Summit Ave & 86th St',\n",
              " 'Talman Ave & Addison St',\n",
              " 'Theater on the Lake',\n",
              " 'Throop (Loomis) St & Taylor St',\n",
              " 'Throop St & 52nd St',\n",
              " 'Throop St & Taylor St',\n",
              " 'Torrence Ave & 106th St',\n",
              " 'Torrence Ave & 126th Pl',\n",
              " 'Troy St & Elston Ave',\n",
              " 'Troy St & North Ave',\n",
              " 'Union Ave & Root St',\n",
              " 'University Ave & 57th St',\n",
              " 'University Library (NU)',\n",
              " 'Valli Produce - Evanston Plaza',\n",
              " 'Vernon Ave & 107th St',\n",
              " 'Vernon Ave & 75th St',\n",
              " 'Vernon Ave & 79th St',\n",
              " 'Vincennes Ave & 104th St',\n",
              " 'Vincennes Ave & 75th St',\n",
              " 'W Armitage Ave & N Sheffield Ave',\n",
              " 'W Oakdale Ave & N Broadway',\n",
              " 'W Washington Blvd & N Peoria St',\n",
              " 'WATSON TESTING - DIVVY',\n",
              " 'Wabash Ave & 16th St',\n",
              " 'Wabash Ave & 83rd St',\n",
              " 'Wabash Ave & 87th St',\n",
              " 'Wabash Ave & 9th St',\n",
              " 'Wabash Ave & Adams St',\n",
              " 'Wabash Ave & Cermak Rd',\n",
              " 'Wabash Ave & Grand Ave',\n",
              " 'Wabash Ave & Roosevelt Rd',\n",
              " 'Wabash Ave & Wacker Pl',\n",
              " 'Wacker Dr & Washington St',\n",
              " 'Walden Pkwy & 100th St',\n",
              " 'Wallace St & 35th St',\n",
              " 'Walsh Park',\n",
              " 'Warren Park East',\n",
              " 'Warren Park West',\n",
              " 'Washtenaw Ave & Lawrence Ave',\n",
              " 'Washtenaw Ave & Ogden Ave',\n",
              " 'Wells St & 19th St',\n",
              " 'Wells St & Concord Ln',\n",
              " 'Wells St & Elm St',\n",
              " 'Wells St & Evergreen Ave',\n",
              " 'Wells St & Hubbard St',\n",
              " 'Wells St & Huron St',\n",
              " 'Wells St & Polk St',\n",
              " 'Wells St & Walton St',\n",
              " 'Wentworth Ave & 104th St',\n",
              " 'Wentworth Ave & 24th St (Temp)',\n",
              " 'Wentworth Ave & 33rd St',\n",
              " 'Wentworth Ave & 35th St',\n",
              " 'Wentworth Ave & 63rd St',\n",
              " 'Wentworth Ave & Cermak Rd',\n",
              " 'Wentworth Ave & Cermak Rd (Temp)',\n",
              " 'Western & 28th - Velasquez Institute Vaccination Site',\n",
              " 'Western Ave & 104th St',\n",
              " 'Western Ave & 111th St',\n",
              " 'Western Ave & 21st St',\n",
              " 'Western Ave & 24th St',\n",
              " 'Western Ave & 28th St',\n",
              " 'Western Ave & Congress Pkwy',\n",
              " 'Western Ave & Division St',\n",
              " 'Western Ave & Fillmore St',\n",
              " 'Western Ave & Fillmore St (*)',\n",
              " 'Western Ave & Granville Ave',\n",
              " 'Western Ave & Howard St',\n",
              " 'Western Ave & Leland Ave',\n",
              " 'Western Ave & Lunt Ave',\n",
              " 'Western Ave & Monroe St',\n",
              " 'Western Ave & Roscoe St',\n",
              " 'Western Ave & Walton St',\n",
              " 'Western Ave & Winnebago Ave',\n",
              " 'Western Blvd & 48th Pl',\n",
              " 'Wilton Ave & Belmont Ave',\n",
              " 'Wilton Ave & Diversey Pkwy',\n",
              " 'Winchester (Ravenswood) Ave & Balmoral Ave',\n",
              " 'Winchester Ave & Elston Ave',\n",
              " 'Winthrop Ave & Lawrence Ave',\n",
              " 'Wolcott (Ravenswood) Ave & Montrose Ave',\n",
              " 'Wolcott Ave & Fargo Ave',\n",
              " 'Wolcott Ave & Polk St',\n",
              " 'Wood St & 35th St',\n",
              " 'Wood St & Augusta Blvd',\n",
              " 'Wood St & Chicago Ave',\n",
              " 'Wood St & Chicago Ave (*)',\n",
              " 'Wood St & Hubbard St',\n",
              " 'Wood St & Milwaukee Ave',\n",
              " 'Wood St & Taylor St',\n",
              " 'Wood St & Taylor St (Temp)',\n",
              " 'Woodlawn Ave & 55th St',\n",
              " 'Woodlawn Ave & 75th St',\n",
              " 'Woodlawn Ave & Lake Park Ave',\n",
              " 'Yates Blvd & 75th St'}"
            ]
          },
          "metadata": {},
          "execution_count": 54
        }
      ]
    },
    {
      "cell_type": "code",
      "metadata": {
        "id": "YUpTpPm87j_i"
      },
      "source": [
        "uq_st = pd.DataFrame(list(c))"
      ],
      "id": "YUpTpPm87j_i",
      "execution_count": 55,
      "outputs": []
    },
    {
      "cell_type": "code",
      "metadata": {
        "id": "Ge2_3-pd7x22"
      },
      "source": [
        "uq_st.columns = ['end_station_name']"
      ],
      "id": "Ge2_3-pd7x22",
      "execution_count": 56,
      "outputs": []
    },
    {
      "cell_type": "code",
      "metadata": {
        "colab": {
          "base_uri": "https://localhost:8080/",
          "height": 423
        },
        "id": "RqiS_kS084Mh",
        "outputId": "84a0d06e-e63c-42ab-99ab-c9ead1f1e363"
      },
      "source": [
        "uq_st"
      ],
      "id": "RqiS_kS084Mh",
      "execution_count": 57,
      "outputs": [
        {
          "output_type": "execute_result",
          "data": {
            "text/html": [
              "<div>\n",
              "<style scoped>\n",
              "    .dataframe tbody tr th:only-of-type {\n",
              "        vertical-align: middle;\n",
              "    }\n",
              "\n",
              "    .dataframe tbody tr th {\n",
              "        vertical-align: top;\n",
              "    }\n",
              "\n",
              "    .dataframe thead th {\n",
              "        text-align: right;\n",
              "    }\n",
              "</style>\n",
              "<table border=\"1\" class=\"dataframe\">\n",
              "  <thead>\n",
              "    <tr style=\"text-align: right;\">\n",
              "      <th></th>\n",
              "      <th>end_station_name</th>\n",
              "    </tr>\n",
              "  </thead>\n",
              "  <tbody>\n",
              "    <tr>\n",
              "      <th>0</th>\n",
              "      <td>Columbus Dr &amp; Randolph St</td>\n",
              "    </tr>\n",
              "    <tr>\n",
              "      <th>1</th>\n",
              "      <td>Laramie Ave &amp; Kinzie St</td>\n",
              "    </tr>\n",
              "    <tr>\n",
              "      <th>2</th>\n",
              "      <td>Larrabee St &amp; Oak St</td>\n",
              "    </tr>\n",
              "    <tr>\n",
              "      <th>3</th>\n",
              "      <td>Sheffield Ave &amp; Webster Ave</td>\n",
              "    </tr>\n",
              "    <tr>\n",
              "      <th>4</th>\n",
              "      <td>Drake Ave &amp; Fullerton Ave</td>\n",
              "    </tr>\n",
              "    <tr>\n",
              "      <th>...</th>\n",
              "      <td>...</td>\n",
              "    </tr>\n",
              "    <tr>\n",
              "      <th>697</th>\n",
              "      <td>Kimbark Ave &amp; 53rd St</td>\n",
              "    </tr>\n",
              "    <tr>\n",
              "      <th>698</th>\n",
              "      <td>Clarendon Ave &amp; Junior Ter</td>\n",
              "    </tr>\n",
              "    <tr>\n",
              "      <th>699</th>\n",
              "      <td>Eggleston Ave &amp; 92nd St</td>\n",
              "    </tr>\n",
              "    <tr>\n",
              "      <th>700</th>\n",
              "      <td>Dodge Ave &amp; Main St</td>\n",
              "    </tr>\n",
              "    <tr>\n",
              "      <th>701</th>\n",
              "      <td>Broadway &amp; Thorndale Ave</td>\n",
              "    </tr>\n",
              "  </tbody>\n",
              "</table>\n",
              "<p>702 rows × 1 columns</p>\n",
              "</div>"
            ],
            "text/plain": [
              "                end_station_name\n",
              "0      Columbus Dr & Randolph St\n",
              "1        Laramie Ave & Kinzie St\n",
              "2           Larrabee St & Oak St\n",
              "3    Sheffield Ave & Webster Ave\n",
              "4      Drake Ave & Fullerton Ave\n",
              "..                           ...\n",
              "697        Kimbark Ave & 53rd St\n",
              "698   Clarendon Ave & Junior Ter\n",
              "699      Eggleston Ave & 92nd St\n",
              "700          Dodge Ave & Main St\n",
              "701     Broadway & Thorndale Ave\n",
              "\n",
              "[702 rows x 1 columns]"
            ]
          },
          "metadata": {},
          "execution_count": 57
        }
      ]
    },
    {
      "cell_type": "code",
      "metadata": {
        "id": "b_xUN36blzyD"
      },
      "source": [
        "temp.sort_values(by=['ride_id'], ascending= False, inplace=True)"
      ],
      "id": "b_xUN36blzyD",
      "execution_count": null,
      "outputs": []
    },
    {
      "cell_type": "code",
      "metadata": {
        "colab": {
          "base_uri": "https://localhost:8080/",
          "height": 329
        },
        "id": "6MljoueA9JYt",
        "outputId": "fd4def72-429e-4dcb-9336-5ed47405bac1"
      },
      "source": [
        "p = uq_st.join(df, how='left')"
      ],
      "id": "6MljoueA9JYt",
      "execution_count": null,
      "outputs": [
        {
          "output_type": "error",
          "ename": "ValueError",
          "evalue": "ignored",
          "traceback": [
            "\u001b[0;31m---------------------------------------------------------------------------\u001b[0m",
            "\u001b[0;31mValueError\u001b[0m                                Traceback (most recent call last)",
            "\u001b[0;32m<ipython-input-105-c891f31e75fc>\u001b[0m in \u001b[0;36m<module>\u001b[0;34m()\u001b[0m\n\u001b[0;32m----> 1\u001b[0;31m \u001b[0mp\u001b[0m \u001b[0;34m=\u001b[0m \u001b[0muq_st\u001b[0m\u001b[0;34m.\u001b[0m\u001b[0mjoin\u001b[0m\u001b[0;34m(\u001b[0m\u001b[0mdf\u001b[0m\u001b[0;34m,\u001b[0m \u001b[0mhow\u001b[0m\u001b[0;34m=\u001b[0m\u001b[0;34m'left'\u001b[0m\u001b[0;34m)\u001b[0m\u001b[0;34m\u001b[0m\u001b[0;34m\u001b[0m\u001b[0m\n\u001b[0m",
            "\u001b[0;32m/usr/local/lib/python3.7/dist-packages/pandas/core/frame.py\u001b[0m in \u001b[0;36mjoin\u001b[0;34m(self, other, on, how, lsuffix, rsuffix, sort)\u001b[0m\n\u001b[1;32m   7873\u001b[0m         \"\"\"\n\u001b[1;32m   7874\u001b[0m         return self._join_compat(\n\u001b[0;32m-> 7875\u001b[0;31m             \u001b[0mother\u001b[0m\u001b[0;34m,\u001b[0m \u001b[0mon\u001b[0m\u001b[0;34m=\u001b[0m\u001b[0mon\u001b[0m\u001b[0;34m,\u001b[0m \u001b[0mhow\u001b[0m\u001b[0;34m=\u001b[0m\u001b[0mhow\u001b[0m\u001b[0;34m,\u001b[0m \u001b[0mlsuffix\u001b[0m\u001b[0;34m=\u001b[0m\u001b[0mlsuffix\u001b[0m\u001b[0;34m,\u001b[0m \u001b[0mrsuffix\u001b[0m\u001b[0;34m=\u001b[0m\u001b[0mrsuffix\u001b[0m\u001b[0;34m,\u001b[0m \u001b[0msort\u001b[0m\u001b[0;34m=\u001b[0m\u001b[0msort\u001b[0m\u001b[0;34m\u001b[0m\u001b[0;34m\u001b[0m\u001b[0m\n\u001b[0m\u001b[1;32m   7876\u001b[0m         )\n\u001b[1;32m   7877\u001b[0m \u001b[0;34m\u001b[0m\u001b[0m\n",
            "\u001b[0;32m/usr/local/lib/python3.7/dist-packages/pandas/core/frame.py\u001b[0m in \u001b[0;36m_join_compat\u001b[0;34m(self, other, on, how, lsuffix, rsuffix, sort)\u001b[0m\n\u001b[1;32m   7896\u001b[0m                 \u001b[0mright_index\u001b[0m\u001b[0;34m=\u001b[0m\u001b[0;32mTrue\u001b[0m\u001b[0;34m,\u001b[0m\u001b[0;34m\u001b[0m\u001b[0;34m\u001b[0m\u001b[0m\n\u001b[1;32m   7897\u001b[0m                 \u001b[0msuffixes\u001b[0m\u001b[0;34m=\u001b[0m\u001b[0;34m(\u001b[0m\u001b[0mlsuffix\u001b[0m\u001b[0;34m,\u001b[0m \u001b[0mrsuffix\u001b[0m\u001b[0;34m)\u001b[0m\u001b[0;34m,\u001b[0m\u001b[0;34m\u001b[0m\u001b[0;34m\u001b[0m\u001b[0m\n\u001b[0;32m-> 7898\u001b[0;31m                 \u001b[0msort\u001b[0m\u001b[0;34m=\u001b[0m\u001b[0msort\u001b[0m\u001b[0;34m,\u001b[0m\u001b[0;34m\u001b[0m\u001b[0;34m\u001b[0m\u001b[0m\n\u001b[0m\u001b[1;32m   7899\u001b[0m             )\n\u001b[1;32m   7900\u001b[0m         \u001b[0;32melse\u001b[0m\u001b[0;34m:\u001b[0m\u001b[0;34m\u001b[0m\u001b[0;34m\u001b[0m\u001b[0m\n",
            "\u001b[0;32m/usr/local/lib/python3.7/dist-packages/pandas/core/reshape/merge.py\u001b[0m in \u001b[0;36mmerge\u001b[0;34m(left, right, how, on, left_on, right_on, left_index, right_index, sort, suffixes, copy, indicator, validate)\u001b[0m\n\u001b[1;32m     87\u001b[0m         \u001b[0mvalidate\u001b[0m\u001b[0;34m=\u001b[0m\u001b[0mvalidate\u001b[0m\u001b[0;34m,\u001b[0m\u001b[0;34m\u001b[0m\u001b[0;34m\u001b[0m\u001b[0m\n\u001b[1;32m     88\u001b[0m     )\n\u001b[0;32m---> 89\u001b[0;31m     \u001b[0;32mreturn\u001b[0m \u001b[0mop\u001b[0m\u001b[0;34m.\u001b[0m\u001b[0mget_result\u001b[0m\u001b[0;34m(\u001b[0m\u001b[0;34m)\u001b[0m\u001b[0;34m\u001b[0m\u001b[0;34m\u001b[0m\u001b[0m\n\u001b[0m\u001b[1;32m     90\u001b[0m \u001b[0;34m\u001b[0m\u001b[0m\n\u001b[1;32m     91\u001b[0m \u001b[0;34m\u001b[0m\u001b[0m\n",
            "\u001b[0;32m/usr/local/lib/python3.7/dist-packages/pandas/core/reshape/merge.py\u001b[0m in \u001b[0;36mget_result\u001b[0;34m(self)\u001b[0m\n\u001b[1;32m    669\u001b[0m \u001b[0;34m\u001b[0m\u001b[0m\n\u001b[1;32m    670\u001b[0m         llabels, rlabels = _items_overlap_with_suffix(\n\u001b[0;32m--> 671\u001b[0;31m             \u001b[0mself\u001b[0m\u001b[0;34m.\u001b[0m\u001b[0mleft\u001b[0m\u001b[0;34m.\u001b[0m\u001b[0m_info_axis\u001b[0m\u001b[0;34m,\u001b[0m \u001b[0mself\u001b[0m\u001b[0;34m.\u001b[0m\u001b[0mright\u001b[0m\u001b[0;34m.\u001b[0m\u001b[0m_info_axis\u001b[0m\u001b[0;34m,\u001b[0m \u001b[0mself\u001b[0m\u001b[0;34m.\u001b[0m\u001b[0msuffixes\u001b[0m\u001b[0;34m\u001b[0m\u001b[0;34m\u001b[0m\u001b[0m\n\u001b[0m\u001b[1;32m    672\u001b[0m         )\n\u001b[1;32m    673\u001b[0m \u001b[0;34m\u001b[0m\u001b[0m\n",
            "\u001b[0;32m/usr/local/lib/python3.7/dist-packages/pandas/core/reshape/merge.py\u001b[0m in \u001b[0;36m_items_overlap_with_suffix\u001b[0;34m(left, right, suffixes)\u001b[0m\n\u001b[1;32m   2094\u001b[0m \u001b[0;34m\u001b[0m\u001b[0m\n\u001b[1;32m   2095\u001b[0m     \u001b[0;32mif\u001b[0m \u001b[0;32mnot\u001b[0m \u001b[0mlsuffix\u001b[0m \u001b[0;32mand\u001b[0m \u001b[0;32mnot\u001b[0m \u001b[0mrsuffix\u001b[0m\u001b[0;34m:\u001b[0m\u001b[0;34m\u001b[0m\u001b[0;34m\u001b[0m\u001b[0m\n\u001b[0;32m-> 2096\u001b[0;31m         \u001b[0;32mraise\u001b[0m \u001b[0mValueError\u001b[0m\u001b[0;34m(\u001b[0m\u001b[0;34mf\"columns overlap but no suffix specified: {to_rename}\"\u001b[0m\u001b[0;34m)\u001b[0m\u001b[0;34m\u001b[0m\u001b[0;34m\u001b[0m\u001b[0m\n\u001b[0m\u001b[1;32m   2097\u001b[0m \u001b[0;34m\u001b[0m\u001b[0m\n\u001b[1;32m   2098\u001b[0m     \u001b[0;32mdef\u001b[0m \u001b[0mrenamer\u001b[0m\u001b[0;34m(\u001b[0m\u001b[0mx\u001b[0m\u001b[0;34m,\u001b[0m \u001b[0msuffix\u001b[0m\u001b[0;34m)\u001b[0m\u001b[0;34m:\u001b[0m\u001b[0;34m\u001b[0m\u001b[0;34m\u001b[0m\u001b[0m\n",
            "\u001b[0;31mValueError\u001b[0m: columns overlap but no suffix specified: Index(['end_station_name'], dtype='object')"
          ]
        }
      ]
    },
    {
      "cell_type": "code",
      "metadata": {
        "id": "KyoiOWS_BDy1"
      },
      "source": [
        "df.set_index('state').to_dict()['name']"
      ],
      "id": "KyoiOWS_BDy1",
      "execution_count": null,
      "outputs": []
    },
    {
      "cell_type": "code",
      "metadata": {
        "colab": {
          "base_uri": "https://localhost:8080/",
          "height": 1000
        },
        "id": "gdU3KJIg-jLm",
        "outputId": "049129f6-4ce1-46ff-a21f-44765d3a9d09"
      },
      "source": [
        "p"
      ],
      "id": "gdU3KJIg-jLm",
      "execution_count": null,
      "outputs": [
        {
          "output_type": "execute_result",
          "data": {
            "text/html": [
              "<div>\n",
              "<style scoped>\n",
              "    .dataframe tbody tr th:only-of-type {\n",
              "        vertical-align: middle;\n",
              "    }\n",
              "\n",
              "    .dataframe tbody tr th {\n",
              "        vertical-align: top;\n",
              "    }\n",
              "\n",
              "    .dataframe thead th {\n",
              "        text-align: right;\n",
              "    }\n",
              "</style>\n",
              "<table border=\"1\" class=\"dataframe\">\n",
              "  <thead>\n",
              "    <tr style=\"text-align: right;\">\n",
              "      <th></th>\n",
              "      <th>stations</th>\n",
              "      <th>ride_id</th>\n",
              "      <th>rideable_type</th>\n",
              "      <th>started_at</th>\n",
              "      <th>ended_at</th>\n",
              "      <th>start_station_name</th>\n",
              "      <th>start_station_id</th>\n",
              "      <th>end_station_name</th>\n",
              "      <th>end_station_id</th>\n",
              "      <th>start_lat</th>\n",
              "      <th>start_lng</th>\n",
              "      <th>end_lat</th>\n",
              "      <th>end_lng</th>\n",
              "      <th>member_casual</th>\n",
              "      <th>ride_length</th>\n",
              "      <th>ride_month</th>\n",
              "      <th>ride_weekday</th>\n",
              "      <th>ride_time</th>\n",
              "      <th>ride_weekday_no</th>\n",
              "      <th>ride_month_no</th>\n",
              "      <th>distance</th>\n",
              "      <th>ride_length_min</th>\n",
              "      <th>start_geometry</th>\n",
              "      <th>end_geometry</th>\n",
              "      <th>ride_time_sec</th>\n",
              "    </tr>\n",
              "  </thead>\n",
              "  <tbody>\n",
              "    <tr>\n",
              "      <th>0</th>\n",
              "      <td>Lincoln Ave &amp; Diversey Pkwy</td>\n",
              "      <td>A847FADBBC638E45</td>\n",
              "      <td>docked_bike</td>\n",
              "      <td>2020-04-26 17:45:14</td>\n",
              "      <td>2020-04-26 18:12:03</td>\n",
              "      <td>Eckhart Park</td>\n",
              "      <td>86</td>\n",
              "      <td>Lincoln Ave &amp; Diversey Pkwy</td>\n",
              "      <td>152.0</td>\n",
              "      <td>41.896400</td>\n",
              "      <td>-87.661000</td>\n",
              "      <td>41.932200</td>\n",
              "      <td>-87.658600</td>\n",
              "      <td>member</td>\n",
              "      <td>0 days 00:26:49</td>\n",
              "      <td>April</td>\n",
              "      <td>Sunday</td>\n",
              "      <td>17</td>\n",
              "      <td>6</td>\n",
              "      <td>4</td>\n",
              "      <td>3.98</td>\n",
              "      <td>26.8167</td>\n",
              "      <td>POINT (-87.66100 41.89640)</td>\n",
              "      <td>POINT (-87.65860 41.93220)</td>\n",
              "      <td>1609.0</td>\n",
              "    </tr>\n",
              "    <tr>\n",
              "      <th>1</th>\n",
              "      <td>Lincoln Ave &amp; Diversey Pkwy</td>\n",
              "      <td>C757FBDF3FE9BED3</td>\n",
              "      <td>docked_bike</td>\n",
              "      <td>2020-04-12 13:42:17</td>\n",
              "      <td>2020-04-12 14:21:55</td>\n",
              "      <td>Clark St &amp; Wrightwood Ave</td>\n",
              "      <td>340</td>\n",
              "      <td>Lincoln Ave &amp; Diversey Pkwy</td>\n",
              "      <td>152.0</td>\n",
              "      <td>41.929500</td>\n",
              "      <td>-87.643100</td>\n",
              "      <td>41.932200</td>\n",
              "      <td>-87.658600</td>\n",
              "      <td>casual</td>\n",
              "      <td>0 days 00:39:38</td>\n",
              "      <td>April</td>\n",
              "      <td>Sunday</td>\n",
              "      <td>13</td>\n",
              "      <td>6</td>\n",
              "      <td>4</td>\n",
              "      <td>1.32</td>\n",
              "      <td>39.6333</td>\n",
              "      <td>POINT (-87.64310 41.92950)</td>\n",
              "      <td>POINT (-87.65860 41.93220)</td>\n",
              "      <td>2378.0</td>\n",
              "    </tr>\n",
              "    <tr>\n",
              "      <th>2</th>\n",
              "      <td>Lincoln Ave &amp; Diversey Pkwy</td>\n",
              "      <td>792BBFC3DAEEC8C8</td>\n",
              "      <td>docked_bike</td>\n",
              "      <td>2020-04-18 16:28:45</td>\n",
              "      <td>2020-04-18 16:43:42</td>\n",
              "      <td>Wells St &amp; Evergreen Ave</td>\n",
              "      <td>291</td>\n",
              "      <td>Lincoln Ave &amp; Diversey Pkwy</td>\n",
              "      <td>152.0</td>\n",
              "      <td>41.906700</td>\n",
              "      <td>-87.634800</td>\n",
              "      <td>41.932200</td>\n",
              "      <td>-87.658600</td>\n",
              "      <td>member</td>\n",
              "      <td>0 days 00:14:57</td>\n",
              "      <td>April</td>\n",
              "      <td>Saturday</td>\n",
              "      <td>16</td>\n",
              "      <td>5</td>\n",
              "      <td>4</td>\n",
              "      <td>3.45</td>\n",
              "      <td>14.9500</td>\n",
              "      <td>POINT (-87.63480 41.90670)</td>\n",
              "      <td>POINT (-87.65860 41.93220)</td>\n",
              "      <td>897.0</td>\n",
              "    </tr>\n",
              "    <tr>\n",
              "      <th>3</th>\n",
              "      <td>Lincoln Ave &amp; Diversey Pkwy</td>\n",
              "      <td>8D19BEDE89C2207A</td>\n",
              "      <td>docked_bike</td>\n",
              "      <td>2020-04-23 08:29:27</td>\n",
              "      <td>2020-04-23 08:34:21</td>\n",
              "      <td>Sheffield Ave &amp; Fullerton Ave</td>\n",
              "      <td>67</td>\n",
              "      <td>Lincoln Ave &amp; Diversey Pkwy</td>\n",
              "      <td>152.0</td>\n",
              "      <td>41.925600</td>\n",
              "      <td>-87.653700</td>\n",
              "      <td>41.932200</td>\n",
              "      <td>-87.658600</td>\n",
              "      <td>member</td>\n",
              "      <td>0 days 00:04:54</td>\n",
              "      <td>April</td>\n",
              "      <td>Thursday</td>\n",
              "      <td>8</td>\n",
              "      <td>3</td>\n",
              "      <td>4</td>\n",
              "      <td>0.84</td>\n",
              "      <td>4.9000</td>\n",
              "      <td>POINT (-87.65370 41.92560)</td>\n",
              "      <td>POINT (-87.65860 41.93220)</td>\n",
              "      <td>294.0</td>\n",
              "    </tr>\n",
              "    <tr>\n",
              "      <th>4</th>\n",
              "      <td>Lincoln Ave &amp; Diversey Pkwy</td>\n",
              "      <td>09447FCA3E2F7B26</td>\n",
              "      <td>docked_bike</td>\n",
              "      <td>2020-04-04 11:28:16</td>\n",
              "      <td>2020-04-04 11:35:14</td>\n",
              "      <td>Ashland Ave &amp; Wellington Ave</td>\n",
              "      <td>250</td>\n",
              "      <td>Lincoln Ave &amp; Diversey Pkwy</td>\n",
              "      <td>152.0</td>\n",
              "      <td>41.936100</td>\n",
              "      <td>-87.669800</td>\n",
              "      <td>41.932200</td>\n",
              "      <td>-87.658600</td>\n",
              "      <td>member</td>\n",
              "      <td>0 days 00:06:58</td>\n",
              "      <td>April</td>\n",
              "      <td>Saturday</td>\n",
              "      <td>11</td>\n",
              "      <td>5</td>\n",
              "      <td>4</td>\n",
              "      <td>1.02</td>\n",
              "      <td>6.9667</td>\n",
              "      <td>POINT (-87.66980 41.93610)</td>\n",
              "      <td>POINT (-87.65860 41.93220)</td>\n",
              "      <td>418.0</td>\n",
              "    </tr>\n",
              "    <tr>\n",
              "      <th>...</th>\n",
              "      <td>...</td>\n",
              "      <td>...</td>\n",
              "      <td>...</td>\n",
              "      <td>...</td>\n",
              "      <td>...</td>\n",
              "      <td>...</td>\n",
              "      <td>...</td>\n",
              "      <td>...</td>\n",
              "      <td>...</td>\n",
              "      <td>...</td>\n",
              "      <td>...</td>\n",
              "      <td>...</td>\n",
              "      <td>...</td>\n",
              "      <td>...</td>\n",
              "      <td>...</td>\n",
              "      <td>...</td>\n",
              "      <td>...</td>\n",
              "      <td>...</td>\n",
              "      <td>...</td>\n",
              "      <td>...</td>\n",
              "      <td>...</td>\n",
              "      <td>...</td>\n",
              "      <td>...</td>\n",
              "      <td>...</td>\n",
              "      <td>...</td>\n",
              "    </tr>\n",
              "    <tr>\n",
              "      <th>3284411</th>\n",
              "      <td>Halsted &amp; 63rd - Kennedy-King Vaccination Site</td>\n",
              "      <td>0E12CE1F4170964D</td>\n",
              "      <td>classic_bike</td>\n",
              "      <td>2021-03-12 09:29:13</td>\n",
              "      <td>2021-03-12 10:11:54</td>\n",
              "      <td>Halsted &amp; 63rd - Kennedy-King Vaccination Site</td>\n",
              "      <td>KA1503000055</td>\n",
              "      <td>Halsted &amp; 63rd - Kennedy-King Vaccination Site</td>\n",
              "      <td>KA1503000055</td>\n",
              "      <td>41.779381</td>\n",
              "      <td>-87.644621</td>\n",
              "      <td>41.779381</td>\n",
              "      <td>-87.644621</td>\n",
              "      <td>member</td>\n",
              "      <td>0 days 00:42:41</td>\n",
              "      <td>March</td>\n",
              "      <td>Friday</td>\n",
              "      <td>9</td>\n",
              "      <td>4</td>\n",
              "      <td>3</td>\n",
              "      <td>0.00</td>\n",
              "      <td>42.6833</td>\n",
              "      <td>POINT (-87.64462 41.77938)</td>\n",
              "      <td>POINT (-87.64462 41.77938)</td>\n",
              "      <td>2561.0</td>\n",
              "    </tr>\n",
              "    <tr>\n",
              "      <th>3284412</th>\n",
              "      <td>Halsted &amp; 63rd - Kennedy-King Vaccination Site</td>\n",
              "      <td>724A572137F3F251</td>\n",
              "      <td>classic_bike</td>\n",
              "      <td>2021-03-12 08:39:35</td>\n",
              "      <td>2021-03-12 09:17:14</td>\n",
              "      <td>Clinton St &amp; 18th St</td>\n",
              "      <td>TA1307000044</td>\n",
              "      <td>Halsted &amp; 63rd - Kennedy-King Vaccination Site</td>\n",
              "      <td>KA1503000055</td>\n",
              "      <td>41.857950</td>\n",
              "      <td>-87.640826</td>\n",
              "      <td>41.779381</td>\n",
              "      <td>-87.644621</td>\n",
              "      <td>member</td>\n",
              "      <td>0 days 00:37:39</td>\n",
              "      <td>March</td>\n",
              "      <td>Friday</td>\n",
              "      <td>8</td>\n",
              "      <td>4</td>\n",
              "      <td>3</td>\n",
              "      <td>8.74</td>\n",
              "      <td>37.6500</td>\n",
              "      <td>POINT (-87.64083 41.85795)</td>\n",
              "      <td>POINT (-87.64462 41.77938)</td>\n",
              "      <td>2259.0</td>\n",
              "    </tr>\n",
              "    <tr>\n",
              "      <th>3284413</th>\n",
              "      <td>Halsted &amp; 63rd - Kennedy-King Vaccination Site</td>\n",
              "      <td>F9F1DF36F3F51B10</td>\n",
              "      <td>classic_bike</td>\n",
              "      <td>2021-03-18 16:58:17</td>\n",
              "      <td>2021-03-18 17:02:34</td>\n",
              "      <td>Stewart Ave &amp; 63rd St</td>\n",
              "      <td>649</td>\n",
              "      <td>Halsted &amp; 63rd - Kennedy-King Vaccination Site</td>\n",
              "      <td>KA1503000055</td>\n",
              "      <td>41.779835</td>\n",
              "      <td>-87.634774</td>\n",
              "      <td>41.779381</td>\n",
              "      <td>-87.644621</td>\n",
              "      <td>casual</td>\n",
              "      <td>0 days 00:04:17</td>\n",
              "      <td>March</td>\n",
              "      <td>Thursday</td>\n",
              "      <td>16</td>\n",
              "      <td>3</td>\n",
              "      <td>3</td>\n",
              "      <td>0.82</td>\n",
              "      <td>4.2833</td>\n",
              "      <td>POINT (-87.63477 41.77983)</td>\n",
              "      <td>POINT (-87.64462 41.77938)</td>\n",
              "      <td>257.0</td>\n",
              "    </tr>\n",
              "    <tr>\n",
              "      <th>3284414</th>\n",
              "      <td>Halsted &amp; 63rd - Kennedy-King Vaccination Site</td>\n",
              "      <td>33652DA348B8FF9F</td>\n",
              "      <td>classic_bike</td>\n",
              "      <td>2021-03-21 17:59:25</td>\n",
              "      <td>2021-03-21 18:18:41</td>\n",
              "      <td>Woodlawn Ave &amp; 75th St</td>\n",
              "      <td>569</td>\n",
              "      <td>Halsted &amp; 63rd - Kennedy-King Vaccination Site</td>\n",
              "      <td>KA1503000055</td>\n",
              "      <td>41.759160</td>\n",
              "      <td>-87.595751</td>\n",
              "      <td>41.779381</td>\n",
              "      <td>-87.644621</td>\n",
              "      <td>member</td>\n",
              "      <td>0 days 00:19:16</td>\n",
              "      <td>March</td>\n",
              "      <td>Sunday</td>\n",
              "      <td>17</td>\n",
              "      <td>6</td>\n",
              "      <td>3</td>\n",
              "      <td>4.63</td>\n",
              "      <td>19.2667</td>\n",
              "      <td>POINT (-87.59575 41.75916)</td>\n",
              "      <td>POINT (-87.64462 41.77938)</td>\n",
              "      <td>1156.0</td>\n",
              "    </tr>\n",
              "    <tr>\n",
              "      <th>3284415</th>\n",
              "      <td>Halsted &amp; 63rd - Kennedy-King Vaccination Site</td>\n",
              "      <td>7C4E913145EC980E</td>\n",
              "      <td>docked_bike</td>\n",
              "      <td>2021-03-30 11:50:18</td>\n",
              "      <td>2021-03-30 12:13:19</td>\n",
              "      <td>Ashland Ave &amp; 50th St</td>\n",
              "      <td>16940</td>\n",
              "      <td>Halsted &amp; 63rd - Kennedy-King Vaccination Site</td>\n",
              "      <td>KA1503000055</td>\n",
              "      <td>41.803023</td>\n",
              "      <td>-87.664699</td>\n",
              "      <td>41.779381</td>\n",
              "      <td>-87.644621</td>\n",
              "      <td>casual</td>\n",
              "      <td>0 days 00:23:01</td>\n",
              "      <td>March</td>\n",
              "      <td>Tuesday</td>\n",
              "      <td>11</td>\n",
              "      <td>1</td>\n",
              "      <td>3</td>\n",
              "      <td>3.11</td>\n",
              "      <td>23.0167</td>\n",
              "      <td>POINT (-87.66470 41.80302)</td>\n",
              "      <td>POINT (-87.64462 41.77938)</td>\n",
              "      <td>1381.0</td>\n",
              "    </tr>\n",
              "  </tbody>\n",
              "</table>\n",
              "<p>3284416 rows × 25 columns</p>\n",
              "</div>"
            ],
            "text/plain": [
              "                                               stations  ... ride_time_sec\n",
              "0                           Lincoln Ave & Diversey Pkwy  ...        1609.0\n",
              "1                           Lincoln Ave & Diversey Pkwy  ...        2378.0\n",
              "2                           Lincoln Ave & Diversey Pkwy  ...         897.0\n",
              "3                           Lincoln Ave & Diversey Pkwy  ...         294.0\n",
              "4                           Lincoln Ave & Diversey Pkwy  ...         418.0\n",
              "...                                                 ...  ...           ...\n",
              "3284411  Halsted & 63rd - Kennedy-King Vaccination Site  ...        2561.0\n",
              "3284412  Halsted & 63rd - Kennedy-King Vaccination Site  ...        2259.0\n",
              "3284413  Halsted & 63rd - Kennedy-King Vaccination Site  ...         257.0\n",
              "3284414  Halsted & 63rd - Kennedy-King Vaccination Site  ...        1156.0\n",
              "3284415  Halsted & 63rd - Kennedy-King Vaccination Site  ...        1381.0\n",
              "\n",
              "[3284416 rows x 25 columns]"
            ]
          },
          "metadata": {},
          "execution_count": 99
        }
      ]
    },
    {
      "cell_type": "code",
      "metadata": {
        "id": "XyF-qopW-2Zi"
      },
      "source": [
        ""
      ],
      "id": "XyF-qopW-2Zi",
      "execution_count": null,
      "outputs": []
    },
    {
      "cell_type": "code",
      "metadata": {
        "colab": {
          "base_uri": "https://localhost:8080/",
          "height": 423
        },
        "id": "76U25ck98L8q",
        "outputId": "00310c90-7bce-4909-8728-906b5bdad418"
      },
      "source": [
        "uq_st"
      ],
      "id": "76U25ck98L8q",
      "execution_count": null,
      "outputs": [
        {
          "output_type": "execute_result",
          "data": {
            "text/html": [
              "<div>\n",
              "<style scoped>\n",
              "    .dataframe tbody tr th:only-of-type {\n",
              "        vertical-align: middle;\n",
              "    }\n",
              "\n",
              "    .dataframe tbody tr th {\n",
              "        vertical-align: top;\n",
              "    }\n",
              "\n",
              "    .dataframe thead th {\n",
              "        text-align: right;\n",
              "    }\n",
              "</style>\n",
              "<table border=\"1\" class=\"dataframe\">\n",
              "  <thead>\n",
              "    <tr style=\"text-align: right;\">\n",
              "      <th></th>\n",
              "      <th>0</th>\n",
              "    </tr>\n",
              "  </thead>\n",
              "  <tbody>\n",
              "    <tr>\n",
              "      <th>0</th>\n",
              "      <td>Western Ave &amp; Winnebago Ave</td>\n",
              "    </tr>\n",
              "    <tr>\n",
              "      <th>1</th>\n",
              "      <td>Halsted St &amp; 21st St</td>\n",
              "    </tr>\n",
              "    <tr>\n",
              "      <th>2</th>\n",
              "      <td>Dearborn St &amp; Erie St</td>\n",
              "    </tr>\n",
              "    <tr>\n",
              "      <th>3</th>\n",
              "      <td>Kedzie Ave &amp; Lake St</td>\n",
              "    </tr>\n",
              "    <tr>\n",
              "      <th>4</th>\n",
              "      <td>Bissell St &amp; Armitage Ave</td>\n",
              "    </tr>\n",
              "    <tr>\n",
              "      <th>...</th>\n",
              "      <td>...</td>\n",
              "    </tr>\n",
              "    <tr>\n",
              "      <th>697</th>\n",
              "      <td>DuSable Museum</td>\n",
              "    </tr>\n",
              "    <tr>\n",
              "      <th>698</th>\n",
              "      <td>Canal St &amp; Jackson Blvd</td>\n",
              "    </tr>\n",
              "    <tr>\n",
              "      <th>699</th>\n",
              "      <td>Racine Ave &amp; Belmont Ave</td>\n",
              "    </tr>\n",
              "    <tr>\n",
              "      <th>700</th>\n",
              "      <td>Kingsbury St &amp; Kinzie St</td>\n",
              "    </tr>\n",
              "    <tr>\n",
              "      <th>701</th>\n",
              "      <td>N Green St &amp; W Lake St</td>\n",
              "    </tr>\n",
              "  </tbody>\n",
              "</table>\n",
              "<p>702 rows × 1 columns</p>\n",
              "</div>"
            ],
            "text/plain": [
              "                               0\n",
              "0    Western Ave & Winnebago Ave\n",
              "1           Halsted St & 21st St\n",
              "2          Dearborn St & Erie St\n",
              "3           Kedzie Ave & Lake St\n",
              "4      Bissell St & Armitage Ave\n",
              "..                           ...\n",
              "697               DuSable Museum\n",
              "698      Canal St & Jackson Blvd\n",
              "699     Racine Ave & Belmont Ave\n",
              "700     Kingsbury St & Kinzie St\n",
              "701       N Green St & W Lake St\n",
              "\n",
              "[702 rows x 1 columns]"
            ]
          },
          "metadata": {},
          "execution_count": 91
        }
      ]
    },
    {
      "cell_type": "code",
      "metadata": {
        "id": "6KomWti-lzuw"
      },
      "source": [
        "a = temp[temp['ride_id'] > 499]"
      ],
      "id": "6KomWti-lzuw",
      "execution_count": null,
      "outputs": []
    },
    {
      "cell_type": "code",
      "metadata": {
        "id": "8o-GdVw8lzr9",
        "colab": {
          "base_uri": "https://localhost:8080/"
        },
        "outputId": "67eaf529-0af7-4bd8-8100-b6543b2aa83a"
      },
      "source": [
        ""
      ],
      "id": "8o-GdVw8lzr9",
      "execution_count": null,
      "outputs": [
        {
          "output_type": "execute_result",
          "data": {
            "text/plain": [
              "start_station_name    object\n",
              "end_station_name      object\n",
              "ride_id                int64\n",
              "dtype: object"
            ]
          },
          "metadata": {},
          "execution_count": 86
        }
      ]
    },
    {
      "cell_type": "code",
      "metadata": {
        "id": "6Kd-92vZlzoj"
      },
      "source": [
        ""
      ],
      "id": "6Kd-92vZlzoj",
      "execution_count": null,
      "outputs": []
    }
  ]
}